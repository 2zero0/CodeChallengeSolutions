{
 "cells": [
  {
   "cell_type": "code",
   "execution_count": null,
   "metadata": {},
   "outputs": [],
   "source": [
    "# 자릿수 더하기\n",
    "\n",
    "def solution(n):\n",
    "    answer = 0\n",
    "    s=str(n)\n",
    "    for i in s:\n",
    "        answer+=int(i)\n",
    "    return answer\n",
    "\n",
    "# 다른 풀이1\n",
    "def sum_digit(number):\n",
    "    return sum([int(i) for i in str(number)])\n",
    "\n",
    "# 다른 풀이2\n",
    "def sum_digit(number):\n",
    "    return sum(map(int, str(number)))"
   ]
  },
  {
   "cell_type": "code",
   "execution_count": null,
   "metadata": {},
   "outputs": [],
   "source": [
    "#문자열 내 p와 y의 개수\n",
    "\n",
    "def solution(s):\n",
    "    answer = True\n",
    "    s1=s.lower()\n",
    "    p_count=s1.count('p')\n",
    "    y_count=s1.count('y')\n",
    "    return True if p_count==y_count else False\n",
    "\n",
    "# 다른 풀이\n",
    "def Soulution(s):\n",
    "    return s.lower().count('p') == s.lower().count('y')"
   ]
  },
  {
   "cell_type": "code",
   "execution_count": null,
   "metadata": {},
   "outputs": [],
   "source": [
    "# 핸드폰 번호 가리기\n",
    "\n",
    "def solution(phone_number):\n",
    "    back=phone_number[-4:]\n",
    "    front='*'*(len(phone_number)-4)\n",
    "    return front+back\n",
    "\n",
    "# return ('*'*(len(phone_number)-4)) + s[-4:]"
   ]
  }
 ],
 "metadata": {
  "language_info": {
   "name": "python"
  },
  "orig_nbformat": 4
 },
 "nbformat": 4,
 "nbformat_minor": 2
}
