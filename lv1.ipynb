{
 "cells": [
  {
   "cell_type": "code",
   "execution_count": 70,
   "metadata": {},
   "outputs": [],
   "source": [
    "# 자릿수 더하기\n",
    "\n",
    "def solution(n):\n",
    "    answer = 0\n",
    "    s=str(n)\n",
    "    for i in s:\n",
    "        answer+=int(i)\n",
    "    return answer\n",
    "\n",
    "# 다른 풀이1\n",
    "def sum_digit(number):\n",
    "    return sum([int(i) for i in str(number)])\n",
    "\n",
    "# 다른 풀이2\n",
    "def sum_digit(number):\n",
    "    return sum(map(int, str(number)))"
   ]
  },
  {
   "cell_type": "code",
   "execution_count": 71,
   "metadata": {},
   "outputs": [],
   "source": [
    "#문자열 내 p와 y의 개수\n",
    "\n",
    "def solution(s):\n",
    "    answer = True\n",
    "    s1=s.lower()\n",
    "    p_count=s1.count('p')\n",
    "    y_count=s1.count('y')\n",
    "    return True if p_count==y_count else False\n",
    "\n",
    "# 다른 풀이\n",
    "def Soulution(s):\n",
    "    return s.lower().count('p') == s.lower().count('y')"
   ]
  },
  {
   "cell_type": "code",
   "execution_count": 72,
   "metadata": {},
   "outputs": [],
   "source": [
    "# 핸드폰 번호 가리기\n",
    "\n",
    "def solution(phone_number):\n",
    "    back=phone_number[-4:]\n",
    "    front='*'*(len(phone_number)-4)\n",
    "    return front+back\n",
    "\n",
    "# return ('*'*(len(phone_number)-4)) + s[-4:]"
   ]
  },
  {
   "cell_type": "code",
   "execution_count": 73,
   "metadata": {},
   "outputs": [],
   "source": [
    "# 제일 작은 수 제거하기\n",
    "\n",
    "def solution(arr):\n",
    "    if len(arr)==1:\n",
    "        arr.pop()\n",
    "        arr.append(-1)\n",
    "    else:\n",
    "        m=min(arr)\n",
    "        arr.remove(m)\n",
    "    return arr\n",
    "\n",
    "# 다른 풀이\n",
    "def rm_small(mylist):\n",
    "    return [i for i in mylist if i > min(mylist)]"
   ]
  },
  {
   "cell_type": "code",
   "execution_count": 74,
   "metadata": {},
   "outputs": [],
   "source": [
    "# 나머지가 1이 되는 수 찾기\n",
    "\n",
    "def solution(n):\n",
    "    for i in range(1, n):\n",
    "        if n%i==1:\n",
    "            answer=i\n",
    "            return answer\n",
    "    return answer\n",
    "\n",
    "# 다른 풀이\n",
    "def solution(n):\n",
    "    return [x for x in range(1,n+1) if n%x==1][0]\n",
    "\n",
    "# 위 풀이에 대한 의견: for 반복문을 사용하면 iter 한두번 돌았을때 조건이 맞으면 마칠수 있는데, 저렇게 코드를 짜면 리스트 전체를 다 점검하기 때문에 엄청난 비효율 입니다.\n"
   ]
  },
  {
   "cell_type": "code",
   "execution_count": 75,
   "metadata": {},
   "outputs": [],
   "source": [
    "# x만큼 간격이 있는 n개의 숫자\n",
    "\n",
    "def solution(x, n):\n",
    "    return  [x*i for i in range(1, n+1)]"
   ]
  },
  {
   "cell_type": "code",
   "execution_count": 76,
   "metadata": {},
   "outputs": [],
   "source": [
    "# 자연수 뒤집어 배열로 만들기\n",
    "\n",
    "def solution(n):\n",
    "    l=[int(i) for i in str(n)]\n",
    "    return l[::-1]\n",
    "\n",
    "# 다른 풀이 (암기 필요)\n",
    "def solution(n):\n",
    "    return list(map(int, reversed(str(n))))"
   ]
  },
  {
   "cell_type": "code",
   "execution_count": 77,
   "metadata": {},
   "outputs": [],
   "source": [
    "# 정수 제곱근 판별\n",
    "# 솔직히 별로인 문제같음..ㅠ\n",
    "\n",
    "import math\n",
    "def solution(n):\n",
    "    n = math.sqrt(n)\n",
    "    return math.pow(n+1, 2) if n==int(n) else -1\n",
    "\n",
    "# 알게된 것\n",
    "if 10.1==10:\n",
    "    print('같음')"
   ]
  },
  {
   "cell_type": "code",
   "execution_count": 78,
   "metadata": {},
   "outputs": [
    {
     "data": {
      "text/plain": [
       "123"
      ]
     },
     "execution_count": 78,
     "metadata": {},
     "output_type": "execute_result"
    }
   ],
   "source": [
    "# 정수 내림차순으로 배치하기\n",
    "\n",
    "# [8, 7, 3, 2, 1, 1] -> 873211\n",
    "def solution(n):\n",
    "    s=''\n",
    "    l=list(map(int, sorted(str(n), reverse=True)))\n",
    "\n",
    "    for i in l:\n",
    "        s+=str(i)\n",
    "    return int(s)\n",
    "\n",
    "# 다른 풀이\n",
    "# ['8', '7', '3', '2', '1', '1'] -> 873211\n",
    "def solution(n):\n",
    "    ls = list(str(n))\n",
    "    ls.sort(reverse = True)\n",
    "    \n",
    "    return int(\"\".join(ls))\n",
    "\n",
    "# 알게된 것\n",
    "l=['1','2','3']\n",
    "int(''.join(l))\n",
    "# 123"
   ]
  },
  {
   "cell_type": "code",
   "execution_count": 79,
   "metadata": {},
   "outputs": [],
   "source": [
    "# 하샤드 수\n",
    "\n",
    "def solution(x):\n",
    "    x_sum=sum(list(map(int, list(str(x)))))\n",
    "    return True if x % x_sum == 0 else False"
   ]
  },
  {
   "cell_type": "code",
   "execution_count": 80,
   "metadata": {},
   "outputs": [],
   "source": [
    "# 두 정수 사이의 합\n",
    "\n",
    "def solution(a, b):\n",
    "    return sum(list(range(a, b+1))) if a <= b else sum(list(range(b, a+1)))\n",
    "\n",
    "# 다른 풀이\n",
    "def adder(a, b):\n",
    "    if a > b:\n",
    "        a, b = b, a\n",
    "    return sum(range(a, b + 1))"
   ]
  },
  {
   "cell_type": "code",
   "execution_count": 81,
   "metadata": {},
   "outputs": [],
   "source": [
    "# x가 1이 될 때까지 반복\n",
    "\n",
    "def solution(x):\n",
    "    count=0\n",
    "    while x!=1:\n",
    "        if x%2==0:\n",
    "            x=x//2\n",
    "            count+=1\n",
    "        else:\n",
    "            x=x*3+1\n",
    "            count+=1\n",
    "\n",
    "        if count == 500:\n",
    "            return -1\n",
    "    return count\n",
    "\n",
    "# 다른 풀이\n",
    "def collatz(num):\n",
    "    for i in range(500):\n",
    "        num=num/2 if num%2==0 else num*3+1\n",
    "        if num==1:\n",
    "            return i+1\n",
    "    return -1"
   ]
  },
  {
   "cell_type": "code",
   "execution_count": 82,
   "metadata": {},
   "outputs": [],
   "source": [
    "# 서울에서 김서방 찾기\n",
    "\n",
    "def solution(seoul):\n",
    "    idx = seoul.index('Kim')\n",
    "    s=f'김서방은 {idx}에 있다'\n",
    "    return s"
   ]
  },
  {
   "cell_type": "code",
   "execution_count": 83,
   "metadata": {},
   "outputs": [],
   "source": [
    "# 나누어 떨어지는 숫자 배열\n",
    "\n",
    "def solution(arr, divisor):\n",
    "    l=[]\n",
    "    for i in arr:\n",
    "        if i % divisor == 0:\n",
    "            l.append(i)\n",
    "\n",
    "    if len(l)==0:\n",
    "        l.append(-1)\n",
    "    else:\n",
    "        l.sort()\n",
    "    \n",
    "    return l\n",
    "\n",
    "# 다른 풀이\n",
    "def solution(arr, divisor): \n",
    "    return sorted([n for n in arr if n % divisor == 0]) or [-1]"
   ]
  },
  {
   "cell_type": "code",
   "execution_count": 84,
   "metadata": {},
   "outputs": [],
   "source": [
    "# 음양 더하기\n",
    "\n",
    "def solution(absolutes, signs):\n",
    "    count = 0\n",
    "    for i in signs:\n",
    "        if i == False:\n",
    "            absolutes[count] *= (-1)\n",
    "        count += 1\n",
    "    return sum(absolutes)\n",
    "\n",
    "# 다른 풀이1\n",
    "def solution(absolutes, signs):\n",
    "    return sum(absolutes if sign else -absolutes for absolutes, sign in zip(absolutes, signs))\n",
    "\n",
    "# 다른 풀이2\n",
    "def solution(absolutes, signs):\n",
    "    answer=0\n",
    "    for absolute,sign in zip(absolutes,signs):\n",
    "        if sign:\n",
    "            answer+=absolute\n",
    "        else:\n",
    "            answer-=absolute\n",
    "    return answer"
   ]
  },
  {
   "cell_type": "code",
   "execution_count": 85,
   "metadata": {},
   "outputs": [],
   "source": [
    "# 없는 숫자 더하기\n",
    "\n",
    "def solution(numbers):\n",
    "    l=list(range(0, 10))\n",
    "    return sum(l)-sum(numbers)\n",
    "\n",
    "# 다른 풀이\n",
    "def solution(numbers):\n",
    "    answer=0\n",
    "    for i in range(1,10):\n",
    "        if i not in numbers:\n",
    "            answer += i\n",
    "    return answer"
   ]
  },
  {
   "cell_type": "code",
   "execution_count": 86,
   "metadata": {},
   "outputs": [],
   "source": [
    "# 가운데 글자 가져오기\n",
    "\n",
    "def solution(s):\n",
    "    return s[len(s)//2] if len(s) %2 != 0 else s[len(s)//2-1 : len(s)//2+1]"
   ]
  },
  {
   "cell_type": "code",
   "execution_count": 87,
   "metadata": {},
   "outputs": [],
   "source": [
    "# 수박수박수박수박수박수?\n",
    "\n",
    "def solution(n):\n",
    "    s=''\n",
    "    for i in range(1,n+1): \n",
    "        if i % 2 != 0:\n",
    "            s+='수'\n",
    "        else:\n",
    "            s+='박'\n",
    "    return s\n",
    "\n",
    "# 다른 풀이\n",
    "def water_melon(n):\n",
    "    str = \"수박\"*n\n",
    "    return str[:n]"
   ]
  },
  {
   "cell_type": "code",
   "execution_count": 88,
   "metadata": {},
   "outputs": [],
   "source": [
    "# 약수의 개수와 덧셈\n",
    "\n",
    "def solution(num1, num2):\n",
    "    result = 0\n",
    "    \n",
    "    for i in range(num1, num2+1):\n",
    "        arr = []\n",
    "        for j in range(1, i+1):\n",
    "            if i % j == 0:\n",
    "                arr.append(j)\n",
    "\n",
    "        if len(arr) % 2 == 0:\n",
    "            result += i\n",
    "        else: \n",
    "            result-=i\n",
    "    \n",
    "    return result"
   ]
  },
  {
   "cell_type": "code",
   "execution_count": 89,
   "metadata": {},
   "outputs": [],
   "source": [
    "# 문자열 내림차순으로 배치하기\n",
    "\n",
    "def solution(s):\n",
    "    s_to_list=sorted(list(s), reverse=True)\n",
    "    s_reverse_str=''.join(s_to_list)\n",
    "    return s_reverse_str\n",
    "\n",
    "# 다른풀이\n",
    "def solution(s):\n",
    "    answer = ''.join(sorted(s, reverse=True))\n",
    "    return answer\n",
    "# sorted 함수는 정렬된 새로운 리스트를 반환합니다. 따라서 문자열에 대해서도 sorted 함수를 사용하여 정렬할 수 있음"
   ]
  },
  {
   "cell_type": "code",
   "execution_count": 90,
   "metadata": {},
   "outputs": [],
   "source": [
    "# 문자열 다루기 기본\n",
    "\n",
    "def solution(s):\n",
    "    if (len(s) == 4 or len(s) == 6) and s.isdigit():\n",
    "        return True    \n",
    "    return False\n",
    "\n",
    "# 결과 값을 아예 return 값으로 적용 가능\n",
    "def alpha_string46(s):\n",
    "    return s.isdigit() and len(s)==4 or len(s)==6"
   ]
  },
  {
   "cell_type": "code",
   "execution_count": 91,
   "metadata": {},
   "outputs": [],
   "source": [
    "# 같은 숫자는 싫어\n",
    "\n",
    "def solution(arr):\n",
    "    answer = []\n",
    "    for i in arr:\n",
    "        if len(answer)==0:\n",
    "            answer.append(i)\n",
    "        elif i != answer[-1]:\n",
    "            answer.append(i)\n",
    "    return answer\n",
    "\n",
    "# if len(answer) == 0 or i != answer[-1]: \n",
    "#   answer.append(i) 도 가능"
   ]
  },
  {
   "cell_type": "code",
   "execution_count": 92,
   "metadata": {},
   "outputs": [
    {
     "ename": "KeyboardInterrupt",
     "evalue": "Interrupted by user",
     "output_type": "error",
     "traceback": [
      "\u001b[1;31m---------------------------------------------------------------------------\u001b[0m",
      "\u001b[1;31mKeyboardInterrupt\u001b[0m                         Traceback (most recent call last)",
      "Cell \u001b[1;32mIn[92], line 3\u001b[0m\n\u001b[0;32m      1\u001b[0m \u001b[39m# 직사각형 별찍기\u001b[39;00m\n\u001b[1;32m----> 3\u001b[0m a, b \u001b[39m=\u001b[39m \u001b[39mmap\u001b[39m(\u001b[39mint\u001b[39m, \u001b[39minput\u001b[39;49m()\u001b[39m.\u001b[39mstrip()\u001b[39m.\u001b[39msplit(\u001b[39m'\u001b[39m\u001b[39m \u001b[39m\u001b[39m'\u001b[39m))\n\u001b[0;32m      4\u001b[0m \u001b[39mfor\u001b[39;00m i \u001b[39min\u001b[39;00m \u001b[39mrange\u001b[39m(\u001b[39m0\u001b[39m, b):\n\u001b[0;32m      5\u001b[0m         \u001b[39mprint\u001b[39m(\u001b[39m'\u001b[39m\u001b[39m*\u001b[39m\u001b[39m'\u001b[39m\u001b[39m*\u001b[39ma)\n",
      "File \u001b[1;32mc:\\Users\\young\\anaconda3\\envs\\py3.8\\lib\\site-packages\\ipykernel\\kernelbase.py:1191\u001b[0m, in \u001b[0;36mKernel.raw_input\u001b[1;34m(self, prompt)\u001b[0m\n\u001b[0;32m   1189\u001b[0m     msg \u001b[39m=\u001b[39m \u001b[39m\"\u001b[39m\u001b[39mraw_input was called, but this frontend does not support input requests.\u001b[39m\u001b[39m\"\u001b[39m\n\u001b[0;32m   1190\u001b[0m     \u001b[39mraise\u001b[39;00m StdinNotImplementedError(msg)\n\u001b[1;32m-> 1191\u001b[0m \u001b[39mreturn\u001b[39;00m \u001b[39mself\u001b[39;49m\u001b[39m.\u001b[39;49m_input_request(\n\u001b[0;32m   1192\u001b[0m     \u001b[39mstr\u001b[39;49m(prompt),\n\u001b[0;32m   1193\u001b[0m     \u001b[39mself\u001b[39;49m\u001b[39m.\u001b[39;49m_parent_ident[\u001b[39m\"\u001b[39;49m\u001b[39mshell\u001b[39;49m\u001b[39m\"\u001b[39;49m],\n\u001b[0;32m   1194\u001b[0m     \u001b[39mself\u001b[39;49m\u001b[39m.\u001b[39;49mget_parent(\u001b[39m\"\u001b[39;49m\u001b[39mshell\u001b[39;49m\u001b[39m\"\u001b[39;49m),\n\u001b[0;32m   1195\u001b[0m     password\u001b[39m=\u001b[39;49m\u001b[39mFalse\u001b[39;49;00m,\n\u001b[0;32m   1196\u001b[0m )\n",
      "File \u001b[1;32mc:\\Users\\young\\anaconda3\\envs\\py3.8\\lib\\site-packages\\ipykernel\\kernelbase.py:1234\u001b[0m, in \u001b[0;36mKernel._input_request\u001b[1;34m(self, prompt, ident, parent, password)\u001b[0m\n\u001b[0;32m   1231\u001b[0m \u001b[39mexcept\u001b[39;00m \u001b[39mKeyboardInterrupt\u001b[39;00m:\n\u001b[0;32m   1232\u001b[0m     \u001b[39m# re-raise KeyboardInterrupt, to truncate traceback\u001b[39;00m\n\u001b[0;32m   1233\u001b[0m     msg \u001b[39m=\u001b[39m \u001b[39m\"\u001b[39m\u001b[39mInterrupted by user\u001b[39m\u001b[39m\"\u001b[39m\n\u001b[1;32m-> 1234\u001b[0m     \u001b[39mraise\u001b[39;00m \u001b[39mKeyboardInterrupt\u001b[39;00m(msg) \u001b[39mfrom\u001b[39;00m \u001b[39mNone\u001b[39;00m\n\u001b[0;32m   1235\u001b[0m \u001b[39mexcept\u001b[39;00m \u001b[39mException\u001b[39;00m:\n\u001b[0;32m   1236\u001b[0m     \u001b[39mself\u001b[39m\u001b[39m.\u001b[39mlog\u001b[39m.\u001b[39mwarning(\u001b[39m\"\u001b[39m\u001b[39mInvalid Message:\u001b[39m\u001b[39m\"\u001b[39m, exc_info\u001b[39m=\u001b[39m\u001b[39mTrue\u001b[39;00m)\n",
      "\u001b[1;31mKeyboardInterrupt\u001b[0m: Interrupted by user"
     ]
    }
   ],
   "source": [
    "# 직사각형 별찍기\n",
    "\n",
    "a, b = map(int, input().strip().split(' '))\n",
    "for i in range(0, b):\n",
    "        print('*'*a)\n",
    "\n",
    "# 다른 풀이\n",
    "a, b = map(int, input().strip().split(' '))\n",
    "answer = ('*'*a +'\\n')*b\n",
    "print(answer)"
   ]
  },
  {
   "cell_type": "code",
   "execution_count": null,
   "metadata": {},
   "outputs": [],
   "source": [
    "# 부족한 금액 계산하기\n",
    "\n",
    "def solution(price, money, count):\n",
    "    sum = 0\n",
    "    \n",
    "    for i in range(1, count + 1):\n",
    "        sum += price * i\n",
    "    \n",
    "    return 0 if sum <= money else sum - money"
   ]
  },
  {
   "cell_type": "code",
   "execution_count": null,
   "metadata": {},
   "outputs": [
    {
     "name": "stdout",
     "output_type": "stream",
     "text": [
      "[(-2, 3, 0), (-2, 3, 2), (-2, 3, -5), (-2, 0, 2), (-2, 0, -5), (-2, 2, -5), (3, 0, 2), (3, 0, -5), (3, 2, -5), (0, 2, -5)]\n"
     ]
    }
   ],
   "source": [
    "# 삼총사\n",
    "\n",
    "from itertools import combinations\n",
    "def solution(number):\n",
    "    numbers_to_ncr = list(combinations(number, 3))\n",
    "    count = 0\n",
    "    \n",
    "    for i in numbers_to_ncr:\n",
    "        if sum(i) == 0:\n",
    "            count += 1\n",
    "    return count"
   ]
  },
  {
   "cell_type": "code",
   "execution_count": null,
   "metadata": {},
   "outputs": [
    {
     "data": {
      "text/plain": [
       "'TrY HeLlO WoRlD'"
      ]
     },
     "execution_count": 35,
     "metadata": {},
     "output_type": "execute_result"
    }
   ],
   "source": [
    "# 이상한 문자 만들기\n",
    "\n",
    "def solution(s):\n",
    "    s_list=s.split(\" \")\n",
    "    format_list=[]\n",
    "    str=\"\"\n",
    "    for i in s_list:\n",
    "        for j in range(len(i)):\n",
    "            if j % 2 == 0:\n",
    "                str+=i[j].upper()\n",
    "            else:\n",
    "                str+=i[j].lower()\n",
    "        format_list.append(str)\n",
    "        str=\"\"\n",
    "    return ' '.join(format_list)"
   ]
  },
  {
   "cell_type": "code",
   "execution_count": null,
   "metadata": {},
   "outputs": [
    {
     "data": {
      "text/plain": [
       "'e F d'"
      ]
     },
     "execution_count": 19,
     "metadata": {},
     "output_type": "execute_result"
    }
   ],
   "source": [
    "# 시저 암호\n",
    "\n",
    "def solution(s, n):\n",
    "    answer = \"\"\n",
    "    for i in s:\n",
    "        if i.isupper():\n",
    "            num = ord(i) + n\n",
    "            if num > 90:\n",
    "                num -= 26\n",
    "            str = chr(num)\n",
    "            answer += str\n",
    "        if i.islower():\n",
    "            num = ord(i) + n\n",
    "            if num > 122:\n",
    "                num -= 26\n",
    "            str = chr(num)\n",
    "            answer += str\n",
    "        if i == \" \":\n",
    "            answer += \" \"\n",
    "    return answer"
   ]
  },
  {
   "cell_type": "code",
   "execution_count": null,
   "metadata": {},
   "outputs": [],
   "source": [
    "# 예산\n",
    "\n",
    "def solution(d, budget):\n",
    "    count = 0\n",
    "    d.sort()\n",
    "    for i in d:\n",
    "        budget -= i\n",
    "        if budget < 0:\n",
    "            break\n",
    "        count += 1\n",
    "    return count"
   ]
  },
  {
   "cell_type": "code",
   "execution_count": null,
   "metadata": {},
   "outputs": [],
   "source": [
    "# 행렬의 덧셈\n",
    "\n",
    "def solution(arr1, arr2):\n",
    "    answer = []\n",
    "    for i in range(len(arr1)):\n",
    "        answer.append([])\n",
    "        for j in range(len(arr1[i])):\n",
    "            answer[i].append(arr1[i][j]+arr2[i][j])\n",
    "    return answer\n",
    "\n",
    "# 다른 풀이\n",
    "def solution(A, B):\n",
    "    answer = []\n",
    "\n",
    "    for a, b in zip(A, B):\n",
    "        l = []\n",
    "        for x, y in zip(a, b):\n",
    "            l.append(x + y)\n",
    "        answer.append(l)\n",
    "\n",
    "    return answer"
   ]
  },
  {
   "cell_type": "code",
   "execution_count": null,
   "metadata": {},
   "outputs": [],
   "source": [
    "# 최소직사각형\n",
    "\n",
    "def solution(sizes):\n",
    "    max_width = 0\n",
    "    max_hight = 0\n",
    "\n",
    "    for size in sizes:\n",
    "        width, hight = sorted(size)\n",
    "        max_width = max(max_width, width)\n",
    "        max_hight = max(max_hight, hight)\n",
    "\n",
    "    answer = max_width * max_hight\n",
    "    return answer"
   ]
  },
  {
   "cell_type": "code",
   "execution_count": null,
   "metadata": {},
   "outputs": [
    {
     "name": "stdout",
     "output_type": "stream",
     "text": [
      "3\n"
     ]
    }
   ],
   "source": [
    "# 내적\n",
    "\n",
    "def solution(a, b):\n",
    "    result = 0\n",
    "    z1 = zip(a, b)\n",
    "    for i, j in z1:\n",
    "        result += (i * j)\n",
    "    return result\n",
    "\n",
    "# 다른 풀이\n",
    "sum([x*y for x, y in zip(a,b)])"
   ]
  },
  {
   "cell_type": "code",
   "execution_count": null,
   "metadata": {},
   "outputs": [],
   "source": [
    "# 최대공약수와 최소공배수\n",
    "\n",
    "# a와 b의 약수 중 공통의 수이면서 가장 큰 수 찾음 (최대공약수)\n",
    "# a와 b를 최대공약수로 나눈 수를 최대공약수와 곱한다 (최소공배수)\n",
    "\n",
    "def solution(a, b):\n",
    "    a_divisor = []\n",
    "    b_divisor = []\n",
    "\n",
    "    for i in range(1, a+1):\n",
    "        if a % i == 0:\n",
    "            a_divisor.append(i)\n",
    "\n",
    "    for i in range(1, b+1):\n",
    "        if b % i == 0:\n",
    "            b_divisor.append(i)\n",
    "\n",
    "    GCD = max(set(a_divisor).intersection(set(b_divisor)))\n",
    "    LCM = int(GCD * (a/GCD) * (b/GCD))\n",
    "    result = [GCD, LCM]\n",
    "\n",
    "    return result"
   ]
  },
  {
   "cell_type": "code",
   "execution_count": null,
   "metadata": {},
   "outputs": [
    {
     "name": "stdout",
     "output_type": "stream",
     "text": [
      "2\n"
     ]
    }
   ],
   "source": [
    "# 크기가 작은 부분문자열\n",
    "\n",
    "def solution(t, p):\n",
    "    t_slice = []\n",
    "    length = len(p)\n",
    "\n",
    "    for i in range(0, len(t)):\n",
    "        t_slice.append(t[i:i+length])\n",
    "\n",
    "    t_format = [i for i in t_slice if len(i) == length and int(i) <= int(p)]\n",
    "\n",
    "    return len(t_format)"
   ]
  },
  {
   "cell_type": "code",
   "execution_count": 6,
   "metadata": {},
   "outputs": [
    {
     "name": "stdout",
     "output_type": "stream",
     "text": [
      "234567\n"
     ]
    }
   ],
   "source": [
    "# 숫자 문자열과 영단어\n",
    "\n",
    "def solution(s):\n",
    "    numbers = {\n",
    "    'zero': 0,\n",
    "    'one': 1,\n",
    "    'two': 2,\n",
    "    'three': 3,\n",
    "    'four': 4,\n",
    "    'five': 5,\n",
    "    'six': 6,\n",
    "    'seven': 7,\n",
    "    'eight': 8,\n",
    "    'nine': 9\n",
    "    }\n",
    "\n",
    "    for i in list(numbers.keys()):\n",
    "        s = s.replace(i, str(numbers.get(i)))\n",
    "        \n",
    "    return int(s)"
   ]
  },
  {
   "cell_type": "code",
   "execution_count": 14,
   "metadata": {},
   "outputs": [
    {
     "name": "stdout",
     "output_type": "stream",
     "text": [
      "0021\n",
      "7\n"
     ]
    }
   ],
   "source": [
    "# 3진법 뒤집기\n",
    "\n",
    "def solution(n):\n",
    "    s1 = \"\"\n",
    "\n",
    "    while n != 0:\n",
    "        s1 += str(n % 3)\n",
    "        n = n//3 \n",
    "    \n",
    "    answer = int((s1), 3)\n",
    "    return answer"
   ]
  },
  {
   "cell_type": "code",
   "execution_count": 24,
   "metadata": {},
   "outputs": [
    {
     "name": "stdout",
     "output_type": "stream",
     "text": [
      "['abcd', 'abce', 'cdx']\n"
     ]
    }
   ],
   "source": [
    "# 문자열 내 마음대로 정렬하기\n",
    "\n",
    "def solution(strings, n):\n",
    "    strings.sort(key = lambda x : (x[n], x))\n",
    "    return strings"
   ]
  },
  {
   "cell_type": "code",
   "execution_count": 32,
   "metadata": {},
   "outputs": [
    {
     "name": "stdout",
     "output_type": "stream",
     "text": [
      "[2, 3, 4, 5, 6, 7]\n"
     ]
    }
   ],
   "source": [
    "# 두 개 뽑아서 더하기\n",
    "\n",
    "from itertools import combinations\n",
    "\n",
    "numbers = [2,1,3,4,1]\n",
    "result_list = []\n",
    "\n",
    "result = list(combinations(numbers, 2))\n",
    "\n",
    "for i in result:\n",
    "    result_list.append(sum(i))\n",
    "\n",
    "result_list = sorted(list(set(result_list)))\n",
    "\n",
    "print(result_list)"
   ]
  },
  {
   "cell_type": "code",
   "execution_count": 55,
   "metadata": {},
   "outputs": [],
   "source": [
    "# K번째수\n",
    "\n",
    "def solution(array, commands):\n",
    "    answer = []\n",
    "    \n",
    "    for i in commands:\n",
    "        slice_to_array = sorted(array[i[0]-1 : i[1]])\n",
    "        answer.append(slice_to_array[i[2]-1])\n",
    "        \n",
    "    return answer\n",
    "\n",
    "# 다른 풀이\n",
    "def solution(array, commands):\n",
    "    return list(map(lambda x:sorted(array[x[0]-1:x[1]])[x[2]-1], commands))\n",
    "\n",
    "# 람다와 map 참고\n",
    "result2 = list(map(lambda x: x * 2, [5, 4, 3, 2, 1]))"
   ]
  },
  {
   "cell_type": "code",
   "execution_count": 32,
   "metadata": {},
   "outputs": [],
   "source": [
    "# 가장 가까운 같은 글자\n",
    "\n",
    "def solution(s):\n",
    "    result = [-1]\n",
    "    last_seen = {s[0]: 0}\n",
    "\n",
    "    for i in range(1, len(s)):\n",
    "        if s[i] in last_seen:\n",
    "            result.append(i - last_seen[s[i]])\n",
    "        else:\n",
    "            result.append(-1)\n",
    "        last_seen[s[i]] = i\n",
    "\n",
    "    return result\n",
    "\n",
    "# Tip. 딕셔너리, 인덱스 활용"
   ]
  },
  {
   "cell_type": "code",
   "execution_count": 61,
   "metadata": {},
   "outputs": [],
   "source": [
    "# 푸드 파이트 대회\n",
    "\n",
    "def solution(food):\n",
    "    answer = ''\n",
    "    food_arrange_dict = {food[0]-1: 0}\n",
    "\n",
    "    for i in range(1, len(food)):\n",
    "        if food[i] % 2 == 0:\n",
    "            food_arrange_dict[i] = food[i]//2\n",
    "        else:\n",
    "            food_arrange_dict[i] = (food[i]-1)//2\n",
    "\n",
    "    for key, value in food_arrange_dict.items():\n",
    "        answer += str(key)*value\n",
    "        \n",
    "    answer = answer+'0'+answer[::-1]\n",
    "    return answer\n",
    "\n",
    "# 개선한 코드\n",
    "def solution(food):\n",
    "    answer = ''\n",
    "    # 딕셔너리가 굳이 필요 없음 -> 리스트로 변경 (인덱스와 같은 차례로 진행되는 연속된 정수이므로)\n",
    "    food_arrange_list = [0] * len(food)\n",
    "\n",
    "    for i in range(len(food)):\n",
    "        # 짝수든 홀수든 2로 나눠서 몫만 추출 (홀수-1//2와 같은 작업이 필요 없음)\n",
    "        food_arrange_list[i] = food[i] // 2\n",
    "\n",
    "    # 앞서 만든 배열에서 인덱스가 곧 음식 번호이므로 인덱스와 각 음식 번호마다 제공된 개수(배열 값) 이용하여 계산\n",
    "    # 이 때, 배열의 첫번째 요소는 항상 0이 되는데(물의 양이며, 1) 최종 문자열에 포함되지 않음 ('0'*0='')\n",
    "    for i, value in enumerate(food_arrange_list):\n",
    "        answer += str(i) * value\n",
    "\n",
    "    answer = answer+'0'+answer[::-1]\n",
    "    return answer\n",
    "\n",
    "\n",
    "# 다른 풀이1\n",
    "def solution(food):\n",
    "    answer = ''\n",
    "    for i,n in enumerate(food[1:]):\n",
    "        answer += str(i+1) * (n//2)\n",
    "    return answer + \"0\" + answer[::-1]\n",
    "\n",
    "# 다른 풀이2\n",
    "def solution(food):\n",
    "    answer = ''\n",
    "    rev=''\n",
    "    for i in range(1,len(food)):\n",
    "        answer+=str(i)*(food[i]//2)\n",
    "    rev=answer[::-1]\n",
    "    answer+='0'\n",
    "\n",
    "    return answer+rev\n",
    "\n",
    "# 11/1 2차 시도\n",
    "def solution(food):\n",
    "    answer = ''\n",
    "\n",
    "    for i in range(1, len(food)):\n",
    "        serve = food[i]//2\n",
    "        answer += str(i) * serve\n",
    "\n",
    "    answer = answer + '0' + answer[::-1]\n",
    "    return answer"
   ]
  },
  {
   "cell_type": "code",
   "execution_count": 2,
   "metadata": {},
   "outputs": [],
   "source": [
    "# 콜라 문제\n",
    "\n",
    "def solution(a, b, n):\n",
    "    바꾼빈병=0\n",
    "    보유빈병=0\n",
    "\n",
    "    while n>=a:\n",
    "        보유빈병 = n % a\n",
    "        n = (n//a) * b\n",
    "\n",
    "        바꾼빈병 += n\n",
    "\n",
    "        n += 보유빈병\n",
    "    return 바꾼빈병\n",
    "\n",
    "# 다른 풀이\n",
    "def solution(a, b, n):\n",
    "    answer = 0\n",
    "    while n >= a:\n",
    "        answer += (n // a) * b\n",
    "        n = (n // a) * b + (n % a)\n",
    "    return answer\n",
    "\n",
    "# 11/3 2차 시도\n",
    "def solution(a, b, n):\n",
    "    answer = 0 # 바꾼 병 개수\n",
    "\n",
    "    while n >= a:\n",
    "        answer += (n // a) * b        \n",
    "        n = (n // a) * b + (n % a)\n",
    "    return answer"
   ]
  },
  {
   "cell_type": "code",
   "execution_count": null,
   "metadata": {},
   "outputs": [],
   "source": [
    "# [1차] 비밀지도\n",
    "# 복습겸 재풀이\n",
    "\n",
    "def solution(n, arr1, arr2):\n",
    "    result = []\n",
    "    \n",
    "    arr3 = list(zip(arr1, arr2))\n",
    "    for i, j in arr3:\n",
    "        # 2진수로 변환하였을 때 0b를 제외한 글자수가 n이어야함\n",
    "        # 글자수를 맞추기위해 0으로 채워야함 -> zfill()함수 사용\n",
    "        result.append(bin(i | j)[2:].zfill(n).replace(\"1\", \"#\").replace(\"0\", \" \"))\n",
    "\n",
    "    return result"
   ]
  },
  {
   "cell_type": "code",
   "execution_count": 38,
   "metadata": {},
   "outputs": [
    {
     "name": "stdout",
     "output_type": "stream",
     "text": [
      "[19, 15, 6]\n"
     ]
    }
   ],
   "source": [
    "# 추억 점수\n",
    "\n",
    "# 과정\n",
    "name1 = [\"may\", \"kein\", \"kain\"]\n",
    "# 그리움 점수: [5, 10, 1]\n",
    "# => 추억 점수: 16 (5+10+1)\n",
    "\n",
    "name2 = [\"kali\", \"mari\", \"don\", \"tony\"]\n",
    "# 그리움 점수: [11, 1, 55]\n",
    "# => 추억 점수: 67 (11+1+55)\n",
    "\n",
    "name = [\"may\", \"kein\", \"kain\", \"radi\"]\n",
    "yearning = [5, 10, 1, 3]\n",
    "\n",
    "photo = [[\"may\", \"kein\", \"kain\", \"radi\"],\n",
    "[\"may\", \"kein\", \"brin\", \"deny\"], \n",
    "[\"kon\", \"kain\", \"may\", \"coni\"]]\n",
    "\n",
    "ny_dict = dict(zip(name, yearning))\n",
    "\n",
    "result = []\n",
    "for i in photo:\n",
    "    count = 0\n",
    "    for j in i:\n",
    "        if j in name:\n",
    "            count += ny_dict[j]\n",
    "        else:\n",
    "            count += 0\n",
    "    result.append(count)\n",
    "\n",
    "print(result)\n",
    "\n",
    "# 결과\n",
    "def solution(name, yearning, photo):\n",
    "    result = []\n",
    "    ny_dict = dict(zip(name, yearning))\n",
    "\n",
    "    for i in photo:\n",
    "        count = 0\n",
    "        for j in i:\n",
    "            if j in name:\n",
    "                count += ny_dict[j]\n",
    "            # 아래 두 줄 생략 가능\n",
    "            else:\n",
    "                count += 0\n",
    "        result.append(count)\n",
    "\n",
    "    return result"
   ]
  },
  {
   "cell_type": "code",
   "execution_count": 64,
   "metadata": {},
   "outputs": [
    {
     "name": "stdout",
     "output_type": "stream",
     "text": [
      "[10, 10, 10, 20, 20, 100, 100]\n"
     ]
    }
   ],
   "source": [
    "# 명예의 전당 (1)\n",
    "\n",
    "# 과정\n",
    "# 일단 k번째 까지는 저장 (오름차순으로)\n",
    "# 하나씩 비교하면서 들어온 값이 기존 배열 요소의 값보다 크면 기존값 치우고 삽입\n",
    "# 기존 배열 요소보다 작으면 위의 자리에 유지 크면 또 다음 요소와 비교하여 반복\n",
    "\n",
    "score = [10, 100, 20, 150, 1, 100, 200]\n",
    "k = 3\n",
    "\n",
    "result = []\n",
    "\n",
    "best_score = []\n",
    "\n",
    "# 1단계 - k번째까지는 오름차순으로 배열2에 저장, 배열2에서 최소값 추출하여 최종 결과 배열에 추가\n",
    "# for i in score[:k]:\n",
    "#     best_score.append(i)\n",
    "#     best_score.sort()\n",
    "#     result.append(min(best_score))\n",
    "\n",
    "# # print(best_score)\n",
    "# # print(result)\n",
    "\n",
    "# for i in score[k:]:\n",
    "#     for j in best_score:\n",
    "#         if i > j:\n",
    "#             best_score.remove(j)\n",
    "#             best_score.append(j)\n",
    "#             best_score.sort()\n",
    "#             result.append(min(best_score))\n",
    "\n",
    "# print(result)\n",
    "\n",
    "# 그냥 하나씩 넣고 길이가 k 넘으면 정렬해서 제일 작은수 빼기 이런식으로 해보자\n",
    "\n",
    "# for i in score:\n",
    "#     best_score.append(i)\n",
    "#     best_score.sort()\n",
    "#     # if len(best_score) > k:\n",
    "#     result.append(min(best_score))\n",
    "\n",
    "# print(result)\n",
    "\n",
    "# 정리\n",
    "# 일단 k번째 수 까지는 명예의 전당에 모두 저장, 동시에 명예의 전당 최솟값 추출하여 결과 배열에 저장\n",
    "# 명예의 전당에 k+1번째 수가 들어가면 명예의 전당 길이가 k보다 길어지므로 변동 시작\n",
    "# 명예의 전당 중 가장 작은 수와 비교해서 들어와야 할 값이 크면 가장 작은수는 빼주고 새롭게 들어온 값(기존 명예의 전당 최솟값보다 큰 값) 저장\n",
    "# 위의 결과로 명예의 전당 최솟값 추출하여 결과 배열에 저장 이 과정을 반복\n",
    "\n",
    "# 명예의 전당의 최대 자리 수(k)와 들어올 값(비교값), 명예의 전당 최솟값(기준값)의 비교에 중점 두면 됨\n",
    "\n",
    "for i in score:\n",
    "    best_score.append(i)\n",
    "\n",
    "    if len(best_score) > k:\n",
    "        if min(best_score) < i:\n",
    "            best_score.remove(min(best_score))\n",
    "            result.append(min(best_score))\n",
    "        else:\n",
    "            best_score.remove(i)\n",
    "            result.append(min(best_score))\n",
    "    else:\n",
    "        result.append(min(best_score))\n",
    "\n",
    "print(result)\n",
    "\n",
    "# 결과\n",
    "def solution(k, score):\n",
    "    result = []\n",
    "    best_score = []\n",
    "    \n",
    "    for i in score:\n",
    "        best_score.append(i)\n",
    "\n",
    "        if len(best_score) > k:\n",
    "            if min(best_score) < i:\n",
    "                best_score.remove(min(best_score))\n",
    "            else:\n",
    "                best_score.remove(i)\n",
    "            result.append(min(best_score))\n",
    "        else:\n",
    "            result.append(min(best_score))\n",
    "    return result\n",
    "\n",
    "# 다른 풀이\n",
    "def solution(k, score):\n",
    "\n",
    "    q = []\n",
    "\n",
    "    answer = []\n",
    "    for s in score:\n",
    "\n",
    "        q.append(s)\n",
    "        if (len(q) > k):\n",
    "            # min(best_score) > i인 경우에도 어짜피 i를 best_score에서 지우고 최솟값 추출하기 때문에\n",
    "            # 내가 작성한 풀이처럼 조건문을 한번 더 안걸어주고 이렇게 생략해도 됨\n",
    "            q.remove(min(q))\n",
    "        answer.append(min(q))\n",
    "\n",
    "    return answer"
   ]
  },
  {
   "cell_type": "code",
   "execution_count": null,
   "metadata": {},
   "outputs": [],
   "source": [
    "# 카드 뭉치\n",
    "\n",
    "# cards1 = [\"i\", \"drink\", \"water\"]\n",
    "# cards2 = [\"want\", \"to\"]\n",
    "# goal = [\"i\", \"want\", \"to\", \"drink\", \"water\"]\n",
    "\n",
    "cards1 = [\"i\", \"water\", \"drink\"]\n",
    "cards2 = [\"want\", \"to\"]\n",
    "goal = [\"i\", \"want\", \"to\", \"drink\", \"water\"]\n",
    "\n",
    "cards1_idx = [i for i in range(len(cards1))]\n",
    "cards2_idx = [i for i in range(len(cards2))]\n",
    "\n",
    "cards1_dict = dict(zip(cards1, cards1_idx))\n",
    "cards2_dict = dict(zip(cards2, cards2_idx))\n",
    "\n",
    "print(cards1_dict)\n",
    "\n",
    "result1 = [cards1_dict[word] for word in goal if word in cards1_dict]\n",
    "result2 = [cards2_dict[word] for word in goal if word in cards2_dict ]\n",
    "\n",
    "print(result1)\n",
    "print(result2)\n",
    "\n",
    "for i in range(len(result1)-1):\n",
    "    if result1[i+1]-result1[i] > 1:\n",
    "        print(\"No\")\n",
    "        break\n",
    "    print(\"Yes\")\n",
    "\n",
    "for i in range(len(result1)-1):\n",
    "    if result1[i+1]-result1[i] > 1:\n",
    "        print(\"No\")\n",
    "        break\n",
    "    print(\"Yes\")\n",
    "\n",
    "# 결과\n",
    "# 1차 시도 실패\n",
    "def solution(cards1, cards2, goal):\n",
    "    cards1_idx = [i for i in range(len(cards1))]\n",
    "    cards2_idx = [i for i in range(len(cards2))]\n",
    "\n",
    "    cards1_dict = dict(zip(cards1, cards1_idx))\n",
    "    cards2_dict = dict(zip(cards2, cards2_idx))\n",
    "    \n",
    "    result1 = [cards1_dict[word] for word in goal if word in cards1_dict]\n",
    "    result2 = [cards2_dict[word] for word in goal if word in cards2_dict]\n",
    "    \n",
    "    for i in range(len(result1)-1):\n",
    "        if result1[i+1]-result1[i] > 1:\n",
    "            return \"No\"\n",
    "\n",
    "    for i in range(len(result2)-1):\n",
    "        if result2[i+1]-result2[i] > 1:\n",
    "            return \"No\"\n",
    "    return \"Yes\"\n",
    "\n",
    "# 참고자료 참고 후\n",
    "# goal에 있는 단어를 result1과 result2에서 각 배열의 요소 순서대로 찾아서 있으면 해당 배열에서 삭제\n",
    "\n",
    "# 결과1\n",
    "def solution(cards1, cards2, goal):\n",
    "    for word in goal:\n",
    "        if len(cards1)>0 and word == cards1[0]:\n",
    "            cards1.remove(word) # 또는 cards.pop(0)\n",
    "        elif len(cards2)>0 and word == cards2[0]:\n",
    "            cards2.remove(word)\n",
    "        else:\n",
    "            return \"No\"\n",
    "    return \"Yes\"\n",
    "\n",
    "# 결과2\n",
    "# cards1과 cards2에서 goal의 단어를 발견하면 발견한 배열의 인덱스 추적 변수(idx)값을 하나씩 올려 차례로 검사\n",
    "def solution(cards1, cards2, goal):\n",
    "    # 각 카드 뭉치에서 현재 확인하고 있는 인덱스를 추적\n",
    "    idx1, idx2 = 0, 0\n",
    "    for word in goal:\n",
    "        if idx1 < len(cards1) and cards1[idx1] == word:\n",
    "            idx1 += 1\n",
    "            print(word, idx1, idx2)\n",
    "        elif idx2 < len(cards2) and cards2[idx2] == word:\n",
    "            idx2 += 1\n",
    "            print(word, idx1, idx2)\n",
    "        else:\n",
    "            return \"No\"\n",
    "    return \"Yes\""
   ]
  }
 ],
 "metadata": {
  "kernelspec": {
   "display_name": "py3.8",
   "language": "python",
   "name": "python3"
  },
  "language_info": {
   "codemirror_mode": {
    "name": "ipython",
    "version": 3
   },
   "file_extension": ".py",
   "mimetype": "text/x-python",
   "name": "python",
   "nbconvert_exporter": "python",
   "pygments_lexer": "ipython3",
   "version": "3.11.5"
  },
  "orig_nbformat": 4
 },
 "nbformat": 4,
 "nbformat_minor": 2
}
