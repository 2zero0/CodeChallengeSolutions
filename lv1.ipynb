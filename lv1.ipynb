{
 "cells": [
  {
   "cell_type": "code",
   "execution_count": null,
   "metadata": {},
   "outputs": [],
   "source": [
    "# 자릿수 더하기\n",
    "\n",
    "def solution(n):\n",
    "    answer = 0\n",
    "    s=str(n)\n",
    "    for i in s:\n",
    "        answer+=int(i)\n",
    "    return answer\n",
    "\n",
    "# 다른 풀이1\n",
    "def sum_digit(number):\n",
    "    return sum([int(i) for i in str(number)])\n",
    "\n",
    "# 다른 풀이2\n",
    "def sum_digit(number):\n",
    "    return sum(map(int, str(number)))"
   ]
  },
  {
   "cell_type": "code",
   "execution_count": null,
   "metadata": {},
   "outputs": [],
   "source": [
    "#문자열 내 p와 y의 개수\n",
    "\n",
    "def solution(s):\n",
    "    answer = True\n",
    "    s1=s.lower()\n",
    "    p_count=s1.count('p')\n",
    "    y_count=s1.count('y')\n",
    "    return True if p_count==y_count else False\n",
    "\n",
    "# 다른 풀이\n",
    "def Soulution(s):\n",
    "    return s.lower().count('p') == s.lower().count('y')"
   ]
  },
  {
   "cell_type": "code",
   "execution_count": null,
   "metadata": {},
   "outputs": [],
   "source": [
    "# 핸드폰 번호 가리기\n",
    "\n",
    "def solution(phone_number):\n",
    "    back=phone_number[-4:]\n",
    "    front='*'*(len(phone_number)-4)\n",
    "    return front+back\n",
    "\n",
    "# return ('*'*(len(phone_number)-4)) + s[-4:]"
   ]
  },
  {
   "cell_type": "code",
   "execution_count": null,
   "metadata": {},
   "outputs": [],
   "source": [
    "# 제일 작은 수 제거하기\n",
    "\n",
    "def solution(arr):\n",
    "    if len(arr)==1:\n",
    "        arr.pop()\n",
    "        arr.append(-1)\n",
    "    else:\n",
    "        m=min(arr)\n",
    "        arr.remove(m)\n",
    "    return arr\n",
    "\n",
    "# 다른 풀이\n",
    "def rm_small(mylist):\n",
    "    return [i for i in mylist if i > min(mylist)]"
   ]
  },
  {
   "cell_type": "code",
   "execution_count": null,
   "metadata": {},
   "outputs": [],
   "source": [
    "# 나머지가 1이 되는 수 찾기\n",
    "\n",
    "def solution(n):\n",
    "    for i in range(1, n):\n",
    "        if n%i==1:\n",
    "            answer=i\n",
    "            return answer\n",
    "    return answer\n",
    "\n",
    "# 다른 풀이\n",
    "def solution(n):\n",
    "    return [x for x in range(1,n+1) if n%x==1][0]\n",
    "\n",
    "# 위 풀이에 대한 의견: for 반복문을 사용하면 iter 한두번 돌았을때 조건이 맞으면 마칠수 있는데, 저렇게 코드를 짜면 리스트 전체를 다 점검하기 때문에 엄청난 비효율 입니다.\n"
   ]
  },
  {
   "cell_type": "code",
   "execution_count": null,
   "metadata": {},
   "outputs": [],
   "source": [
    "# x만큼 간격이 있는 n개의 숫자\n",
    "\n",
    "def solution(x, n):\n",
    "    return  [x*i for i in range(1, n+1)]"
   ]
  },
  {
   "cell_type": "code",
   "execution_count": 4,
   "metadata": {},
   "outputs": [
    {
     "data": {
      "text/plain": [
       "['1', '2', '3', '4', '5']"
      ]
     },
     "execution_count": 4,
     "metadata": {},
     "output_type": "execute_result"
    }
   ],
   "source": [
    "# 자연수 뒤집어 배열로 만들기\n",
    "\n",
    "def solution(n):\n",
    "    l=[int(i) for i in str(n)]\n",
    "    return l[::-1]\n",
    "\n",
    "# 다른 풀이 (암기 필요)\n",
    "def solution(n):\n",
    "    return list(map(int, reversed(str(n))))"
   ]
  },
  {
   "cell_type": "code",
   "execution_count": 10,
   "metadata": {},
   "outputs": [
    {
     "data": {
      "text/plain": [
       "float"
      ]
     },
     "execution_count": 10,
     "metadata": {},
     "output_type": "execute_result"
    }
   ],
   "source": [
    "# 정수 제곱근 판별\n",
    "# 솔직히 별로인 문제같음..ㅠ\n",
    "\n",
    "import math\n",
    "def solution(n):\n",
    "    n = math.sqrt(n)\n",
    "    return math.pow(n+1, 2) if n==int(n) else -1\n",
    "\n",
    "# 알게된 것\n",
    "if 10.1==10:\n",
    "    print('같음')"
   ]
  },
  {
   "cell_type": "code",
   "execution_count": 24,
   "metadata": {},
   "outputs": [
    {
     "name": "stdout",
     "output_type": "stream",
     "text": [
      "[8, 7, 3, 2, 1, 1]\n"
     ]
    },
    {
     "data": {
      "text/plain": [
       "873211"
      ]
     },
     "execution_count": 24,
     "metadata": {},
     "output_type": "execute_result"
    }
   ],
   "source": [
    "# 정수 내림차순으로 배치하기\n",
    "\n",
    "# [8, 7, 3, 2, 1, 1] -> 873211\n",
    "def solution(n):\n",
    "    s=''\n",
    "    l=list(map(int, sorted(str(n), reverse=True)))\n",
    "\n",
    "    for i in l:\n",
    "        s+=str(i)\n",
    "    return int(s)\n",
    "\n",
    "# 다른 풀이\n",
    "# ['8', '7', '3', '2', '1', '1'] -> 873211\n",
    "def solution(n):\n",
    "    ls = list(str(n))\n",
    "    ls.sort(reverse = True)\n",
    "    \n",
    "    return int(\"\".join(ls))\n",
    "\n",
    "# 알게된 것\n",
    "l=['1','2','3']\n",
    "int(''.join(l))\n",
    "# 123"
   ]
  }
 ],
 "metadata": {
  "kernelspec": {
   "display_name": "py3.8",
   "language": "python",
   "name": "python3"
  },
  "language_info": {
   "codemirror_mode": {
    "name": "ipython",
    "version": 3
   },
   "file_extension": ".py",
   "mimetype": "text/x-python",
   "name": "python",
   "nbconvert_exporter": "python",
   "pygments_lexer": "ipython3",
   "version": "3.8.16"
  },
  "orig_nbformat": 4
 },
 "nbformat": 4,
 "nbformat_minor": 2
}
