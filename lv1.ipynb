{
 "cells": [
  {
   "cell_type": "code",
   "execution_count": null,
   "metadata": {},
   "outputs": [],
   "source": [
    "# 자릿수 더하기\n",
    "\n",
    "def solution(n):\n",
    "    answer = 0\n",
    "    s=str(n)\n",
    "    for i in s:\n",
    "        answer+=int(i)\n",
    "    return answer\n",
    "\n",
    "# 다른 풀이1\n",
    "def sum_digit(number):\n",
    "    return sum([int(i) for i in str(number)])\n",
    "\n",
    "# 다른 풀이2\n",
    "def sum_digit(number):\n",
    "    return sum(map(int, str(number)))"
   ]
  },
  {
   "cell_type": "code",
   "execution_count": null,
   "metadata": {},
   "outputs": [],
   "source": [
    "#문자열 내 p와 y의 개수\n",
    "\n",
    "def solution(s):\n",
    "    answer = True\n",
    "    s1=s.lower()\n",
    "    p_count=s1.count('p')\n",
    "    y_count=s1.count('y')\n",
    "    return True if p_count==y_count else False\n",
    "\n",
    "# 다른 풀이\n",
    "def Soulution(s):\n",
    "    return s.lower().count('p') == s.lower().count('y')"
   ]
  },
  {
   "cell_type": "code",
   "execution_count": null,
   "metadata": {},
   "outputs": [],
   "source": [
    "# 핸드폰 번호 가리기\n",
    "\n",
    "def solution(phone_number):\n",
    "    back=phone_number[-4:]\n",
    "    front='*'*(len(phone_number)-4)\n",
    "    return front+back\n",
    "\n",
    "# return ('*'*(len(phone_number)-4)) + s[-4:]"
   ]
  },
  {
   "cell_type": "code",
   "execution_count": null,
   "metadata": {},
   "outputs": [],
   "source": [
    "# 제일 작은 수 제거하기\n",
    "\n",
    "def solution(arr):\n",
    "    if len(arr)==1:\n",
    "        arr.pop()\n",
    "        arr.append(-1)\n",
    "    else:\n",
    "        m=min(arr)\n",
    "        arr.remove(m)\n",
    "    return arr\n",
    "\n",
    "# 다른 풀이\n",
    "def rm_small(mylist):\n",
    "    return [i for i in mylist if i > min(mylist)]"
   ]
  },
  {
   "cell_type": "code",
   "execution_count": null,
   "metadata": {},
   "outputs": [],
   "source": [
    "# 나머지가 1이 되는 수 찾기\n",
    "\n",
    "def solution(n):\n",
    "    for i in range(1, n):\n",
    "        if n%i==1:\n",
    "            answer=i\n",
    "            return answer\n",
    "    return answer\n",
    "\n",
    "# 다른 풀이\n",
    "def solution(n):\n",
    "    return [x for x in range(1,n+1) if n%x==1][0]\n",
    "\n",
    "# 위 풀이에 대한 의견: for 반복문을 사용하면 iter 한두번 돌았을때 조건이 맞으면 마칠수 있는데, 저렇게 코드를 짜면 리스트 전체를 다 점검하기 때문에 엄청난 비효율 입니다.\n"
   ]
  },
  {
   "cell_type": "code",
   "execution_count": null,
   "metadata": {},
   "outputs": [],
   "source": [
    "# x만큼 간격이 있는 n개의 숫자\n",
    "\n",
    "def solution(x, n):\n",
    "    return  [x*i for i in range(1, n+1)]"
   ]
  },
  {
   "cell_type": "code",
   "execution_count": 4,
   "metadata": {},
   "outputs": [
    {
     "data": {
      "text/plain": [
       "['1', '2', '3', '4', '5']"
      ]
     },
     "execution_count": 4,
     "metadata": {},
     "output_type": "execute_result"
    }
   ],
   "source": [
    "# 자연수 뒤집어 배열로 만들기\n",
    "\n",
    "def solution(n):\n",
    "    l=[int(i) for i in str(n)]\n",
    "    return l[::-1]\n",
    "\n",
    "# 다른 풀이 (암기 필요)\n",
    "def solution(n):\n",
    "    return list(map(int, reversed(str(n))))"
   ]
  },
  {
   "cell_type": "code",
   "execution_count": 15,
   "metadata": {},
   "outputs": [],
   "source": [
    "# 정수 제곱근 판별\n",
    "# 솔직히 별로인 문제같음..ㅠ\n",
    "\n",
    "import math\n",
    "def solution(n):\n",
    "    n = math.sqrt(n)\n",
    "    return math.pow(n+1, 2) if n==int(n) else -1\n",
    "\n",
    "# 알게된 것\n",
    "if 10.1==10:\n",
    "    print('같음')"
   ]
  },
  {
   "cell_type": "code",
   "execution_count": 14,
   "metadata": {},
   "outputs": [
    {
     "data": {
      "text/plain": [
       "123"
      ]
     },
     "execution_count": 14,
     "metadata": {},
     "output_type": "execute_result"
    }
   ],
   "source": [
    "# 정수 내림차순으로 배치하기\n",
    "\n",
    "# [8, 7, 3, 2, 1, 1] -> 873211\n",
    "def solution(n):\n",
    "    s=''\n",
    "    l=list(map(int, sorted(str(n), reverse=True)))\n",
    "\n",
    "    for i in l:\n",
    "        s+=str(i)\n",
    "    return int(s)\n",
    "\n",
    "# 다른 풀이\n",
    "# ['8', '7', '3', '2', '1', '1'] -> 873211\n",
    "def solution(n):\n",
    "    ls = list(str(n))\n",
    "    ls.sort(reverse = True)\n",
    "    \n",
    "    return int(\"\".join(ls))\n",
    "\n",
    "# 알게된 것\n",
    "l=['1','2','3']\n",
    "int(''.join(l))\n",
    "# 123"
   ]
  },
  {
   "cell_type": "code",
   "execution_count": 13,
   "metadata": {},
   "outputs": [],
   "source": [
    "# 하샤드 수\n",
    "\n",
    "def solution(x):\n",
    "    x_sum=sum(list(map(int, list(str(x)))))\n",
    "    return True if x % x_sum == 0 else False"
   ]
  },
  {
   "cell_type": "code",
   "execution_count": 12,
   "metadata": {},
   "outputs": [
    {
     "data": {
      "text/plain": [
       "3"
      ]
     },
     "execution_count": 12,
     "metadata": {},
     "output_type": "execute_result"
    }
   ],
   "source": [
    "# 두 정수 사이의 합\n",
    "\n",
    "def solution(a, b):\n",
    "    return sum(list(range(a, b+1))) if a <= b else sum(list(range(b, a+1)))\n",
    "\n",
    "# 다른 풀이\n",
    "def adder(a, b):\n",
    "    if a > b:\n",
    "        a, b = b, a\n",
    "    return sum(range(a, b + 1))"
   ]
  },
  {
   "cell_type": "code",
   "execution_count": 23,
   "metadata": {},
   "outputs": [
    {
     "data": {
      "text/plain": [
       "-1"
      ]
     },
     "execution_count": 23,
     "metadata": {},
     "output_type": "execute_result"
    }
   ],
   "source": [
    "# x가 1이 될 때까지 반복\n",
    "\n",
    "def solution(x):\n",
    "    count=0\n",
    "    while x!=1:\n",
    "        if x%2==0:\n",
    "            x=x//2\n",
    "            count+=1\n",
    "        else:\n",
    "            x=x*3+1\n",
    "            count+=1\n",
    "\n",
    "        if count == 500:\n",
    "            return -1\n",
    "    return count\n",
    "\n",
    "# 다른 풀이\n",
    "def collatz(num):\n",
    "    for i in range(500):\n",
    "        num=num/2 if num%2==0 else num*3+1\n",
    "        if num==1:\n",
    "            return i+1\n",
    "    return -1"
   ]
  },
  {
   "cell_type": "code",
   "execution_count": 27,
   "metadata": {},
   "outputs": [
    {
     "data": {
      "text/plain": [
       "7"
      ]
     },
     "execution_count": 27,
     "metadata": {},
     "output_type": "execute_result"
    }
   ],
   "source": [
    "# 서울에서 김서방 찾기\n",
    "\n",
    "def solution(seoul):\n",
    "    idx = seoul.index('Kim')\n",
    "    s=f'김서방은 {idx}에 있다'\n",
    "    return s"
   ]
  },
  {
   "cell_type": "code",
   "execution_count": null,
   "metadata": {},
   "outputs": [],
   "source": [
    "# 나누어 떨어지는 숫자 배열\n",
    "\n",
    "def solution(arr, divisor):\n",
    "    l=[]\n",
    "    for i in arr:\n",
    "        if i % divisor == 0:\n",
    "            l.append(i)\n",
    "\n",
    "    if len(l)==0:\n",
    "        l.append(-1)\n",
    "    else:\n",
    "        l.sort()\n",
    "    \n",
    "    return l\n",
    "\n",
    "# 다른 풀이\n",
    "def solution(arr, divisor): \n",
    "    return sorted([n for n in arr if n % divisor == 0]) or [-1]"
   ]
  },
  {
   "cell_type": "code",
   "execution_count": 25,
   "metadata": {},
   "outputs": [
    {
     "data": {
      "text/plain": [
       "9"
      ]
     },
     "execution_count": 25,
     "metadata": {},
     "output_type": "execute_result"
    }
   ],
   "source": [
    "# 음양 더하기\n",
    "\n",
    "def solution(absolutes, signs):\n",
    "    count = 0\n",
    "    for i in signs:\n",
    "        if i == False:\n",
    "            absolutes[count] *= (-1)\n",
    "        count += 1\n",
    "    return sum(absolutes)\n",
    "\n",
    "# 다른 풀이1\n",
    "def solution(absolutes, signs):\n",
    "    return sum(absolutes if sign else -absolutes for absolutes, sign in zip(absolutes, signs))\n",
    "\n",
    "# 다른 풀이2\n",
    "def solution(absolutes, signs):\n",
    "    answer=0\n",
    "    for absolute,sign in zip(absolutes,signs):\n",
    "        if sign:\n",
    "            answer+=absolute\n",
    "        else:\n",
    "            answer-=absolute\n",
    "    return answer"
   ]
  },
  {
   "cell_type": "code",
   "execution_count": 34,
   "metadata": {},
   "outputs": [
    {
     "data": {
      "text/plain": [
       "14"
      ]
     },
     "execution_count": 34,
     "metadata": {},
     "output_type": "execute_result"
    }
   ],
   "source": [
    "# 없는 숫자 더하기\n",
    "\n",
    "def solution(numbers):\n",
    "    l=list(range(0, 10))\n",
    "    return sum(l)-sum(numbers)\n",
    "\n",
    "# 다른 풀이\n",
    "def solution(numbers):\n",
    "    answer=0\n",
    "    for i in range(1,10):\n",
    "        if i not in numbers:\n",
    "            answer += i\n",
    "    return answer"
   ]
  },
  {
   "cell_type": "code",
   "execution_count": 36,
   "metadata": {},
   "outputs": [
    {
     "data": {
      "text/plain": [
       "2"
      ]
     },
     "execution_count": 36,
     "metadata": {},
     "output_type": "execute_result"
    }
   ],
   "source": [
    "# 가운데 글자 가져오기\n",
    "\n",
    "def solution(s):\n",
    "    return s[len(s)//2] if len(s) %2 != 0 else s[len(s)//2-1 : len(s)//2+1]"
   ]
  },
  {
   "cell_type": "code",
   "execution_count": 45,
   "metadata": {},
   "outputs": [
    {
     "data": {
      "text/plain": [
       "'수박수'"
      ]
     },
     "execution_count": 45,
     "metadata": {},
     "output_type": "execute_result"
    }
   ],
   "source": [
    "# 수박수박수박수박수박수?\n",
    "\n",
    "def solution(n):\n",
    "    s=''\n",
    "    for i in range(1,n+1): \n",
    "        if i % 2 != 0:\n",
    "            s+='수'\n",
    "        else:\n",
    "            s+='박'\n",
    "    return s\n",
    "\n",
    "# 다른 풀이\n",
    "def water_melon(n):\n",
    "    str = \"수박\"*n\n",
    "    return str[:n]"
   ]
  },
  {
   "cell_type": "code",
   "execution_count": 13,
   "metadata": {},
   "outputs": [],
   "source": [
    "# 약수의 개수와 덧셈\n",
    "\n",
    "def solution(num1, num2):\n",
    "    result = 0\n",
    "    \n",
    "    for i in range(num1, num2+1):\n",
    "        arr = []\n",
    "        for j in range(1, i+1):\n",
    "            if i % j == 0:\n",
    "                arr.append(j)\n",
    "\n",
    "        if len(arr) % 2 == 0:\n",
    "            result += i\n",
    "        else: \n",
    "            result-=i\n",
    "    \n",
    "    return result"
   ]
  },
  {
   "cell_type": "code",
   "execution_count": 47,
   "metadata": {},
   "outputs": [],
   "source": [
    "# 문자열 내림차순으로 배치하기\n",
    "\n",
    "def solution(s):\n",
    "    s_to_list=sorted(list(s), reverse=True)\n",
    "    s_reverse_str=''.join(s_to_list)\n",
    "    return s_reverse_str\n",
    "\n",
    "# 다른풀이\n",
    "def solution(s):\n",
    "    answer = ''.join(sorted(s, reverse=True))\n",
    "    return answer\n",
    "# sorted 함수는 정렬된 새로운 리스트를 반환합니다. 따라서 문자열에 대해서도 sorted 함수를 사용하여 정렬할 수 있음"
   ]
  },
  {
   "cell_type": "code",
   "execution_count": null,
   "metadata": {},
   "outputs": [],
   "source": [
    "# 문자열 다루기 기본\n",
    "\n",
    "def solution(s):\n",
    "    if (len(s) == 4 or len(s) == 6) and s.isdigit():\n",
    "        return True    \n",
    "    return False\n",
    "\n",
    "# 결과 값을 아예 return 값으로 적용 가능\n",
    "def alpha_string46(s):\n",
    "    return s.isdigit() and len(s)==4 or len(s)==6"
   ]
  },
  {
   "cell_type": "code",
   "execution_count": 1,
   "metadata": {},
   "outputs": [],
   "source": [
    "# 같은 숫자는 싫어\n",
    "\n",
    "def solution(arr):\n",
    "    answer = []\n",
    "    for i in arr:\n",
    "        if len(answer)==0:\n",
    "            answer.append(i)\n",
    "        elif i != answer[-1]:\n",
    "            answer.append(i)\n",
    "    return answer\n",
    "\n",
    "# if len(answer) == 0 or i != answer[-1]: \n",
    "#   answer.append(i) 도 가능"
   ]
  },
  {
   "cell_type": "code",
   "execution_count": null,
   "metadata": {},
   "outputs": [],
   "source": [
    "# 직사각형 별찍기\n",
    "\n",
    "a, b = map(int, input().strip().split(' '))\n",
    "for i in range(0, b):\n",
    "        print('*'*a)\n",
    "\n",
    "# 다른 풀이\n",
    "a, b = map(int, input().strip().split(' '))\n",
    "answer = ('*'*a +'\\n')*b\n",
    "print(answer)"
   ]
  },
  {
   "cell_type": "code",
   "execution_count": 6,
   "metadata": {},
   "outputs": [],
   "source": [
    "# 부족한 금액 계산하기\n",
    "\n",
    "def solution(price, money, count):\n",
    "    sum = 0\n",
    "    \n",
    "    for i in range(1, count + 1):\n",
    "        sum += price * i\n",
    "    \n",
    "    return 0 if sum <= money else sum - money"
   ]
  },
  {
   "cell_type": "code",
   "execution_count": 17,
   "metadata": {},
   "outputs": [
    {
     "name": "stdout",
     "output_type": "stream",
     "text": [
      "[(-2, 3, 0), (-2, 3, 2), (-2, 3, -5), (-2, 0, 2), (-2, 0, -5), (-2, 2, -5), (3, 0, 2), (3, 0, -5), (3, 2, -5), (0, 2, -5)]\n"
     ]
    }
   ],
   "source": [
    "# 삼총사\n",
    "\n",
    "from itertools import combinations\n",
    "def solution(number):\n",
    "    numbers_to_ncr = list(combinations(number, 3))\n",
    "    count = 0\n",
    "    \n",
    "    for i in numbers_to_ncr:\n",
    "        if sum(i) == 0:\n",
    "            count += 1\n",
    "    return count"
   ]
  },
  {
   "cell_type": "code",
   "execution_count": 35,
   "metadata": {},
   "outputs": [
    {
     "data": {
      "text/plain": [
       "'TrY HeLlO WoRlD'"
      ]
     },
     "execution_count": 35,
     "metadata": {},
     "output_type": "execute_result"
    }
   ],
   "source": [
    "# 이상한 문자 만들기\n",
    "\n",
    "def solution(s):\n",
    "    s_list=s.split(\" \")\n",
    "    format_list=[]\n",
    "    str=\"\"\n",
    "    for i in s_list:\n",
    "        for j in range(len(i)):\n",
    "            if j % 2 == 0:\n",
    "                str+=i[j].upper()\n",
    "            else:\n",
    "                str+=i[j].lower()\n",
    "        format_list.append(str)\n",
    "        str=\"\"\n",
    "    return ' '.join(format_list)"
   ]
  },
  {
   "cell_type": "code",
   "execution_count": 19,
   "metadata": {},
   "outputs": [
    {
     "data": {
      "text/plain": [
       "'e F d'"
      ]
     },
     "execution_count": 19,
     "metadata": {},
     "output_type": "execute_result"
    }
   ],
   "source": [
    "# 시저 암호\n",
    "\n",
    "def solution(s, n):\n",
    "    answer = \"\"\n",
    "    for i in s:\n",
    "        if i.isupper():\n",
    "            num = ord(i) + n\n",
    "            if num > 90:\n",
    "                num -= 26\n",
    "            str = chr(num)\n",
    "            answer += str\n",
    "        if i.islower():\n",
    "            num = ord(i) + n\n",
    "            if num > 122:\n",
    "                num -= 26\n",
    "            str = chr(num)\n",
    "            answer += str\n",
    "        if i == \" \":\n",
    "            answer += \" \"\n",
    "    return answer"
   ]
  },
  {
   "cell_type": "code",
   "execution_count": 23,
   "metadata": {},
   "outputs": [],
   "source": [
    "# 예산\n",
    "\n",
    "def solution(d, budget):\n",
    "    count = 0\n",
    "    d.sort()\n",
    "    for i in d:\n",
    "        budget -= i\n",
    "        if budget < 0:\n",
    "            break\n",
    "        count += 1\n",
    "    return count"
   ]
  },
  {
   "cell_type": "code",
   "execution_count": 56,
   "metadata": {},
   "outputs": [],
   "source": [
    "# 행렬의 덧셈\n",
    "\n",
    "def solution(arr1, arr2):\n",
    "    answer = []\n",
    "    for i in range(len(arr1)):\n",
    "        answer.append([])\n",
    "        for j in range(len(arr1[i])):\n",
    "            answer[i].append(arr1[i][j]+arr2[i][j])\n",
    "    return answer\n",
    "\n",
    "# 다른 풀이\n",
    "def solution(A, B):\n",
    "    answer = []\n",
    "\n",
    "    for a, b in zip(A, B):\n",
    "        l = []\n",
    "        for x, y in zip(a, b):\n",
    "            l.append(x + y)\n",
    "        answer.append(l)\n",
    "\n",
    "    return answer"
   ]
  },
  {
   "cell_type": "code",
   "execution_count": 68,
   "metadata": {},
   "outputs": [],
   "source": [
    "# 최소직사각형\n",
    "\n",
    "def solution(sizes):\n",
    "    max_width = 0\n",
    "    max_hight = 0\n",
    "\n",
    "    for size in sizes:\n",
    "        width, hight = sorted(size)\n",
    "        max_width = max(max_width, width)\n",
    "        max_hight = max(max_hight, hight)\n",
    "\n",
    "    answer = max_width * max_hight\n",
    "    return answer"
   ]
  }
 ],
 "metadata": {
  "kernelspec": {
   "display_name": "py3.8",
   "language": "python",
   "name": "python3"
  },
  "language_info": {
   "codemirror_mode": {
    "name": "ipython",
    "version": 3
   },
   "file_extension": ".py",
   "mimetype": "text/x-python",
   "name": "python",
   "nbconvert_exporter": "python",
   "pygments_lexer": "ipython3",
   "version": "3.8.16"
  },
  "orig_nbformat": 4
 },
 "nbformat": 4,
 "nbformat_minor": 2
}
