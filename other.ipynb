{
 "cells": [
  {
   "cell_type": "code",
   "execution_count": null,
   "metadata": {},
   "outputs": [],
   "source": [
    "\"\"\"\n",
    "#https://edu.goorm.io/learn/lecture/17299/cos-pro-1%EA%B8%89-%EA%B8%B0%EC%B6%9C%EB%AC%B8%EC%A0%9C-python/lesson/839014/1%EC%B0%A8-%EB%AC%B8%EC%A0%9C4-%ED%83%80%EC%9E%84%EB%A8%B8%EC%8B%A0-python\n",
    "\n",
    "# 01 COS PRO 1급 Python 1차\n",
    "# [1차] 문제4) 타임머신\n",
    "\n",
    "#문제설명\n",
    "#어느 누군가가 타임머신을 타고 과거로 가서 숫자 0이 없는 수 체계를 전파했습니다. 역사가 바뀌어 이제 사람들의 의식 속엔 0이란 숫자가 사라졌습니다. 따라서, 현재의 수 체계는 1, 2, 3, ..., 8, 9, 11, 12, ...와 같이 0이 없게 바뀌었습니다. 0을 포함하지 않은 자연수 num이 매개변수로 주어질 때, 이 수에 1을 더한 수를 return 하도록 solution 함수를 완성해주세요.\n",
    "\n",
    "\n",
    "#예시 설명\n",
    "#num:9949999 -> return 9951111\n",
    "\n",
    "#예시 설명\n",
    "# 9,949,999에 1을 더하면 9,950,000이지만 0은 존재하지 않으므로 9,951,111이 됩니다.\n",
    "\"\"\"\n",
    "\n",
    "def solution(num):\n",
    "\tn=num+1\n",
    "\ts=str(n)\n",
    "\ts2=s.replace('0', '1')\n",
    "\treturn int(s2)"
   ]
  }
 ],
 "metadata": {
  "language_info": {
   "name": "python"
  },
  "orig_nbformat": 4
 },
 "nbformat": 4,
 "nbformat_minor": 2
}
