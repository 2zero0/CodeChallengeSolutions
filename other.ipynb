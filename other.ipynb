{
 "cells": [
  {
   "cell_type": "code",
   "execution_count": null,
   "metadata": {},
   "outputs": [],
   "source": [
    "# https://edu.goorm.io/learn/lecture/17299/cos-pro-1%EA%B8%89-%EA%B8%B0%EC%B6%9C%EB%AC%B8%EC%A0%9C-python/lesson/839014/1%EC%B0%A8-%EB%AC%B8%EC%A0%9C4-%ED%83%80%EC%9E%84%EB%A8%B8%EC%8B%A0-python\n",
    "\n",
    "# 01 COS PRO 1급 Python 1차\n",
    "# [1차] 문제4) 타임머신\n",
    "\n",
    "def solution(num):\n",
    "\tn=num+1\n",
    "\ts=str(n)\n",
    "\ts2=s.replace('0', '1')\n",
    "\treturn int(s2)"
   ]
  },
  {
   "cell_type": "code",
   "execution_count": null,
   "metadata": {},
   "outputs": [],
   "source": [
    "# COS PRO 2급 Python 1차\n",
    "# [1차][구현] 문제1) 단체 티셔츠를 주문하기 - Python3\n",
    "# https://edu.goorm.io/learn/lecture/17033/cos-pro-2%EA%B8%89-%EA%B8%B0%EC%B6%9C%EB%AC%B8%EC%A0%9C-python/lesson/825860/1%EC%B0%A8-%EA%B5%AC%ED%98%84-%EB%AC%B8%EC%A0%9C1-%EB%8B%A8%EC%B2%B4-%ED%8B%B0%EC%85%94%EC%B8%A0%EB%A5%BC-%EC%A3%BC%EB%AC%B8%ED%95%98%EA%B8%B0-python3\n",
    "\n",
    "# sol1\n",
    "def solution(shirt_size):\n",
    "\tanswer = []\n",
    "\txs=shirt_size.count('XS')\n",
    "\tanswer.append(xs)\n",
    "\ts=shirt_size.count('S')\n",
    "\tanswer.append(s)\n",
    "\tm=shirt_size.count('M')\n",
    "\tanswer.append(m)\n",
    "\tl=shirt_size.count('L')\n",
    "\tanswer.append(l)\n",
    "\txl=shirt_size.count('XL')\n",
    "\tanswer.append(xl)\n",
    "\txxl=shirt_size.count('XXL')\n",
    "\tanswer.append(xxl)\n",
    "\t\n",
    "\treturn answer\n",
    "\n",
    "# sol2\n",
    "def solution(shirt_size):\n",
    "\tsize=['XS', 'S', 'M', 'L', 'XL', 'XXL']\n",
    "\tanswer=[]\n",
    "\t\n",
    "\tfor i in range(len(size)):\n",
    "\t\tanswer.append(shirt_size.count(size[i]))\n",
    "\t\t\t\n",
    "\treturn answer"
   ]
  },
  {
   "cell_type": "code",
   "execution_count": null,
   "metadata": {},
   "outputs": [],
   "source": [
    "# COS PRO 2급 Python 1차\n",
    "# [1차][빈칸] 문제6) 369 게임 박수의 갯수 구하기 - Python3\n",
    "# https://edu.goorm.io/learn/lecture/17033/cos-pro-2%EA%B8%89-%EA%B8%B0%EC%B6%9C%EB%AC%B8%EC%A0%9C-python/lesson/825865/1%EC%B0%A8-%EB%B9%88%EC%B9%B8-%EB%AC%B8%EC%A0%9C6-369-%EA%B2%8C%EC%9E%84-%EB%B0%95%EC%88%98%EC%9D%98-%EA%B0%AF%EC%88%98-%EA%B5%AC%ED%95%98%EA%B8%B0-python3\n",
    "\n",
    "def solution(number):\n",
    "    count = 0\n",
    "    for i in range(1, number + 1):\n",
    "        current = i\n",
    "        while current != 0:\n",
    "            # if문 조건을 작성하는 문제 \n",
    "            # 일의 자리 수\n",
    "            if current % 10 == 3 or current % 10 == 6 or current % 10 == 9:\n",
    "                count += 1\n",
    "            # 십의 자리 수\n",
    "            current = current // 10\n",
    "    return count"
   ]
  },
  {
   "cell_type": "code",
   "execution_count": 15,
   "metadata": {},
   "outputs": [
    {
     "data": {
      "text/plain": [
       "22"
      ]
     },
     "execution_count": 15,
     "metadata": {},
     "output_type": "execute_result"
    }
   ],
   "source": [
    "# 369 게임 박수의 갯수 구하기 <직접구현>\n",
    "\n",
    "def solution(num):\n",
    "  l=list(range(num+1))\n",
    "  s=str(l)\n",
    "\n",
    "  three=s.count('3')\n",
    "  six=s.count('6')\n",
    "  nine=s.count('9')\n",
    "\n",
    "  count_369=three+six+nine\n",
    "  return count_369\n",
    "\n",
    "# 줄인 코드\n",
    "def solution(num):\n",
    "  s=str(list(range(num+1)))\n",
    "  return s.count('3')+s.count('6')+s.count('9')\n",
    "\n",
    "#solution(40) -> 22\n",
    "\n",
    "# 참고할 문제\n",
    "# 1부터 10,000까지 8이라는 숫자가 총 몇번 나오는가?\n",
    "# str(list(range(0, 10001))).count('8')"
   ]
  },
  {
   "cell_type": "code",
   "execution_count": null,
   "metadata": {},
   "outputs": [],
   "source": [
    "#  COS PRO 2급 Python 1차\n",
    "# [1차][한줄] 문제8) 팰린드롬 판단하기 - Python3\n",
    "# https://edu.goorm.io/learn/lecture/17033/cos-pro-2%EA%B8%89-%EA%B8%B0%EC%B6%9C%EB%AC%B8%EC%A0%9C-python/lesson/825867/1%EC%B0%A8-%ED%95%9C%EC%A4%84-%EB%AC%B8%EC%A0%9C8-%ED%8C%B0%EB%A6%B0%EB%93%9C%EB%A1%AC-%ED%8C%90%EB%8B%A8%ED%95%98%EA%B8%B0-python3\n",
    "\n",
    "# sentence1=\"never odd or even.\"\n",
    "# solution(sentence1)=> True\n",
    "\n",
    "def solution(sentence):\n",
    "\tstr = ''\n",
    "\tfor c in sentence:\n",
    "\t\t# or -> and로 변경하는 문제\n",
    "\t\tif c != '.' and c != ' ':\n",
    "\t\t\tstr += c\n",
    "\tsize = len(str) \n",
    "\tfor i in range(size // 2): \n",
    "\t\tif str[i] != str[size - 1 - i]:\n",
    "\t\t\treturn False\n",
    "\treturn True"
   ]
  },
  {
   "cell_type": "code",
   "execution_count": 23,
   "metadata": {},
   "outputs": [
    {
     "data": {
      "text/plain": [
       "2"
      ]
     },
     "execution_count": 23,
     "metadata": {},
     "output_type": "execute_result"
    }
   ],
   "source": [
    "# 문제링크: https://pyalgo.co.kr/index.html?page=6#\n",
    "# 샌드위치 포장\n",
    "\n",
    "def solution(data):\n",
    "    s = ''.join(map(str, data))\n",
    "    count = 0\n",
    "\n",
    "    while s.find('12341') != -1:\n",
    "        s = s.replace('12341', '', 1)\n",
    "        count += 1\n",
    "    return count\n",
    "\n",
    "# 정규표현식\n",
    "import re\n",
    "def solution(data):\n",
    "    result = 0\n",
    "    data = ''.join(str(i) for i in data)\n",
    "    p = re.compile('12341')\n",
    "    while p.search(data):\n",
    "        data = p.sub('',data, 1)\n",
    "        result += 1\n",
    "    return result\n"
   ]
  },
  {
   "cell_type": "code",
   "execution_count": 58,
   "metadata": {},
   "outputs": [],
   "source": [
    "# 문제 링크: https://pyalgo.co.kr/index.html?page=1#\n",
    "#  자격증명\n",
    "\n",
    "def solution(data):\n",
    "    p = str(data).split('\\n')\n",
    "\n",
    "    p=str(p).replace(' ', '').replace('\"','').replace('+', '1').replace('-', '0').replace('[','').replace(']','').replace('\\'', '')\n",
    "\n",
    "    p2=p.split(',')\n",
    "\n",
    "    s=''.join(list(map(lambda x:chr(int(x, 2)), p2)))\n",
    "    return s"
   ]
  },
  {
   "cell_type": "code",
   "execution_count": 3,
   "metadata": {},
   "outputs": [
    {
     "name": "stdout",
     "output_type": "stream",
     "text": [
      "5천원권: 5 1 1 1\n"
     ]
    }
   ],
   "source": [
    "# 그리디 알고리즘(욕심쟁이 알고리즘)\n",
    "\n",
    "남은금액 = int(input())\n",
    "\n",
    "오천원 = 남은금액 // 5000\n",
    "# 남은금액 = 남은금액 % 5000\n",
    "남은금액 = 남은금액 - (5000 * 오천원)\n",
    "\n",
    "천원 = 남은금액 // 1000\n",
    "남은금액 = 남은금액 % 1000\n",
    "\n",
    "오백원 = 남은금액 // 500\n",
    "남은금액 = 남은금액 % 500\n",
    "\n",
    "백원 = 남은금액 // 100\n",
    "남은금액 = 남은금액 % 100\n",
    "\n",
    "print(\"5천원권: \"+str(오천원), \" 천원권: \"+str(천원), \" 5백원권: \"+str(오백원), \" 백원권: \"+str(백원))"
   ]
  },
  {
   "cell_type": "code",
   "execution_count": null,
   "metadata": {},
   "outputs": [],
   "source": [
    "# Softeer 연습문제\n",
    "# [한양대 HCPC 2023] 개표\n",
    "# 문제 링크: https://softeer.ai/practice/7698\n",
    "\n",
    "import sys\n",
    "\n",
    "def output():\n",
    "    N = int(sys.stdin.readline())\n",
    "\n",
    "    for i in range(N):\n",
    "        candidates = list(map(int, sys.stdin.readline().split()))\n",
    "\n",
    "        for num in candidates:\n",
    "            div = num // 5\n",
    "            remainder = num % 5\n",
    "\n",
    "            print(div * \"++++ \" + remainder * \"|\")\n",
    "\n",
    "output()"
   ]
  },
  {
   "cell_type": "code",
   "execution_count": null,
   "metadata": {},
   "outputs": [],
   "source": [
    "# COS Pro 2급 Python 모의고사\n",
    "# [YBM]n부터 m까지 자연수의 합\n",
    "\n",
    "def func_a(k):\n",
    "    sum = 0\n",
    "    for i in range(k+1):\n",
    "        sum += i\n",
    "\n",
    "    return sum\n",
    "\n",
    "def solution(n, m):\n",
    "    sum_to_m = func_a(m)\n",
    "    sum_to_n = func_a(n-1)\n",
    "    answer = sum_to_m - sum_to_n\n",
    "    return answer"
   ]
  },
  {
   "cell_type": "code",
   "execution_count": null,
   "metadata": {},
   "outputs": [],
   "source": [
    "# COS Pro 2급 Python 모의고사\n",
    "# [YBM]총점\n",
    "\n",
    "def func_a(s):\n",
    "    ret = 0\n",
    "    for i in s:\n",
    "        if i > ret:\n",
    "            ret = i\n",
    "    return ret\n",
    "\n",
    "def func_b(s):\n",
    "    ret = 0\n",
    "    for i in s:\n",
    "        ret += i\n",
    "    return ret\n",
    "\n",
    "def func_c(s):\n",
    "    ret = 101\n",
    "    for i in s:\n",
    "        if i < ret:\n",
    "            ret = i\n",
    "    return ret\n",
    "\n",
    "\n",
    "def solution(scores):\n",
    "    sum = func_b(scores)\n",
    "    max_score = func_a(scores)\n",
    "    min_score = func_c(scores)\n",
    "    return sum - max_score - min_score"
   ]
  },
  {
   "cell_type": "code",
   "execution_count": null,
   "metadata": {},
   "outputs": [],
   "source": [
    "# COS Pro 2급 Python 모의고사\n",
    "# [YBM]공항 방문객\n",
    "\n",
    "def func_a(arr, n):\n",
    "    ret = []\n",
    "    for x in arr:\n",
    "        if x != n:\n",
    "            ret.append(x)\n",
    "    return ret\n",
    "\n",
    "def func_b(a, b):\n",
    "    if a >= b:\n",
    "        return a - b\n",
    "    else:\n",
    "        return b - a\n",
    "\n",
    "def func_c(arr):\n",
    "    ret = -1\n",
    "    for x in arr:\n",
    "        if ret < x:\n",
    "            ret = x\n",
    "    return ret\n",
    "\n",
    "def solution(visitor):\n",
    "    max_first = func_c(visitor)\n",
    "    visitor_removed = func_a(visitor, max_first)\n",
    "    max_second = func_c(visitor_removed)\n",
    "    answer = func_b(max_first,  max_second)\n",
    "    return answer"
   ]
  },
  {
   "cell_type": "code",
   "execution_count": null,
   "metadata": {},
   "outputs": [],
   "source": [
    "# COS Pro 2급 Python 모의고사\n",
    "# [YBM]학점 계산\n",
    "\n",
    "def solution(scores):\n",
    "    grade_counter = [0 for i in range(5)]\n",
    "    for x in scores:\n",
    "        if 85 <= x <= 100:\n",
    "            grade_counter[0] += 1\n",
    "        elif 70 <= x <= 84:\n",
    "            grade_counter[1] += 1\n",
    "        elif 55 <= x <= 69:\n",
    "            grade_counter[2] += 1\n",
    "        elif 40 <= x <= 54:\n",
    "            grade_counter[3] += 1\n",
    "        else:\n",
    "            grade_counter[4] += 1\n",
    "    return grade_counter"
   ]
  },
  {
   "cell_type": "code",
   "execution_count": null,
   "metadata": {},
   "outputs": [],
   "source": [
    "# COS Pro 2급 Python 모의고사\n",
    "# [YBM]개구리\n",
    "\n",
    "def solution(stones):\n",
    "    cnt = 0\n",
    "    current = 0\n",
    "    n = len(stones)\n",
    "    while current < n:\n",
    "        current += stones[current]\n",
    "        cnt += 1\n",
    "    return cnt"
   ]
  },
  {
   "cell_type": "code",
   "execution_count": null,
   "metadata": {},
   "outputs": [],
   "source": [
    "# COS Pro 2급 Python 모의고사\n",
    "# [YBM]키가 K보다 큰 사람\n",
    "\n",
    "def solution(height, k):\n",
    "    answer = 0\n",
    "    n = len(height)\n",
    "    for h in height:\n",
    "        if h > k: # 변경 전: if h >= k\n",
    "            answer += 1\n",
    "    return answer"
   ]
  },
  {
   "cell_type": "code",
   "execution_count": null,
   "metadata": {},
   "outputs": [],
   "source": [
    "# COS Pro 2급 Python 모의고사\n",
    "# [YBM]알파벳 바꾸기\n",
    "\n",
    "def solution(s):\n",
    "    s_lst = list(s)\n",
    "    n = len(s)\n",
    "    for i in range(n):\n",
    "        if s_lst[i] == 'a':\n",
    "            s_lst[i] = 'z'\n",
    "        elif s_lst[i] == 'z': # 변경 전: if s_lst[i] == 'z':\n",
    "            s_lst[i] =  'a'\n",
    "    return \"\".join(s_lst)"
   ]
  },
  {
   "cell_type": "code",
   "execution_count": null,
   "metadata": {},
   "outputs": [],
   "source": [
    "# COS Pro 2급 Python 모의고사\n",
    "# [YBM]이름에 \"j\" 또는 \"k\"가 들어가는 사람\n",
    "\n",
    "def solution(name_list):\n",
    "    answer = 0\n",
    "    for name in name_list:\n",
    "        for n in name:\n",
    "            if n == 'j' or n == 'k':\n",
    "                answer += 1\n",
    "                break # 변경 전: continue\n",
    "    return answer"
   ]
  },
  {
   "cell_type": "code",
   "execution_count": null,
   "metadata": {},
   "outputs": [],
   "source": [
    "# COS Pro 2급 Python 모의고사\n",
    "# [YBM]거스름돈\n",
    "\n",
    "def solution(price, money):\n",
    "    total = sum(price)\n",
    "    if total > money:\n",
    "        return -1\n",
    "    else:\n",
    "        answer = money - total\n",
    "        return answer"
   ]
  },
  {
   "cell_type": "code",
   "execution_count": 5,
   "metadata": {},
   "outputs": [],
   "source": [
    "# COS Pro 2급 Python 모의고사\n",
    "# [YBM]k번째로 작은 수\n",
    "\n",
    "def solution(arr, k):\n",
    "    arr_extend = []\n",
    "    \n",
    "    for a in arr:\n",
    "        arr_extend.extend(a)\n",
    "        \n",
    "    arr_extend.sort()\n",
    "    answer = arr_extend[k-1]\n",
    "    return answer\n",
    "\n",
    "# 다른 풀이\n",
    "# 리스트 컴프리헨션 사용\n",
    "def solution(arr, k):\n",
    "    return sorted([n for seq in arr for n in seq])[k - 1]"
   ]
  }
 ],
 "metadata": {
  "kernelspec": {
   "display_name": "py3.8",
   "language": "python",
   "name": "python3"
  },
  "language_info": {
   "codemirror_mode": {
    "name": "ipython",
    "version": 3
   },
   "file_extension": ".py",
   "mimetype": "text/x-python",
   "name": "python",
   "nbconvert_exporter": "python",
   "pygments_lexer": "ipython3",
   "version": "3.11.5"
  },
  "orig_nbformat": 4
 },
 "nbformat": 4,
 "nbformat_minor": 2
}
