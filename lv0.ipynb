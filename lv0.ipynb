{
 "cells": [
  {
   "cell_type": "code",
   "execution_count": 248,
   "metadata": {},
   "outputs": [],
   "source": [
    "# 짝수의 합\n",
    "\n",
    "def solution(n):\n",
    "    #l=[i for i in range(n+1)]\n",
    "    l2=list(filter(lambda x:x%2==0,list(range(n+1))))\n",
    "    answer=sum(l2)\n",
    "    return answer\n"
   ]
  },
  {
   "cell_type": "code",
   "execution_count": 249,
   "metadata": {},
   "outputs": [],
   "source": [
    "# 양꼬치\n",
    "\n",
    "def solution(n, k):\n",
    "    service=n//10\n",
    "    answer=(12000*n)+(2000*(k-service))\n",
    "    return answer\n",
    "\n",
    "# return 12000 * n + 2000 * (k - n // 10) (바로 연산하는 방법도 가능, 우선순위에 의해서 계산 순서가 있으니까)\n"
   ]
  },
  {
   "cell_type": "code",
   "execution_count": 250,
   "metadata": {},
   "outputs": [],
   "source": [
    "# n의 배수\n",
    "\n",
    "def solution(num, n):\n",
    "    answer=1 if num%n==0 else 0\n",
    "    return answer"
   ]
  },
  {
   "cell_type": "code",
   "execution_count": 251,
   "metadata": {},
   "outputs": [],
   "source": [
    "# flag에 따라 다른 값 반환하기\n",
    "\n",
    "def solution(a, b, flag):\n",
    "    if flag: # flag가 True라면 flag라는 변수 자체가 참이 되므로 조건이 참이된다\n",
    "        answer=a+b\n",
    "    else:\n",
    "        answer=a-b\n",
    "    return answer\n",
    "# answer=a+b if flag else a-b 도 가능"
   ]
  },
  {
   "cell_type": "code",
   "execution_count": 252,
   "metadata": {},
   "outputs": [],
   "source": [
    "# 문자열의 뒤의 n글자\n",
    "\n",
    "def solution(my_string, n):\n",
    "    return my_string[(len(my_string))-n:]\n",
    "\n",
    "# return my_string[-n:] 이렇게도 가능"
   ]
  },
  {
   "cell_type": "code",
   "execution_count": 253,
   "metadata": {},
   "outputs": [],
   "source": [
    "# 길이에 따른 연산\n",
    "\n",
    "def solution(num_list):\n",
    "    answer=1\n",
    "    if len(num_list)>10:\n",
    "        answer=sum(num_list)\n",
    "    else:\n",
    "        for i in num_list:\n",
    "            answer*=i\n",
    "    return answer\n",
    "\n",
    "\n",
    "# 다른 풀이\n",
    "from math import prod\n",
    "def solution(num_list):\n",
    "    return sum(num_list) if len(num_list)>=11 else prod(num_list)\n",
    "# prod: 주어진 iterable에 대해서 모든 elements에 대해서 곱셈을 계산해서 반환한다."
   ]
  },
  {
   "cell_type": "code",
   "execution_count": 254,
   "metadata": {},
   "outputs": [],
   "source": [
    "# n보다 커질 때까지 더하기\n",
    "\n",
    "def solution(numbers, n):\n",
    "    sum=0\n",
    "    for i in numbers:\n",
    "        sum+=i\n",
    "        if sum<=n:\n",
    "            continue\n",
    "        else:\n",
    "            return sum\n",
    "    return sum\n",
    "\n",
    "# 다른 풀이\n",
    "def solution(numbers, n):\n",
    "    answer = 0\n",
    "\n",
    "    for i in numbers:\n",
    "        answer += i\n",
    "\n",
    "        if answer > n:\n",
    "            return answer\n",
    "\n",
    "    return answer"
   ]
  },
  {
   "cell_type": "code",
   "execution_count": 255,
   "metadata": {},
   "outputs": [],
   "source": [
    "# 배열 원소의 길이\n",
    "\n",
    "def solution(strlist):\n",
    "    answer = []\n",
    "    for i in strlist:\n",
    "        answer.append(len(i))\n",
    "    return answer\n",
    "\n",
    "# 다른 풀이\n",
    "def solution(strlist):\n",
    "    return [len(str) for str in strlist]"
   ]
  },
  {
   "cell_type": "code",
   "execution_count": 256,
   "metadata": {},
   "outputs": [],
   "source": [
    "# 배열 두배 만들기\n",
    "\n",
    "def solution(numbers):\n",
    "    return list(map(lambda x: x*2, numbers))\n",
    "\n",
    "# 다른 풀이\n",
    "def solution(numbers):\n",
    "    return [num*2 for num in numbers]"
   ]
  },
  {
   "cell_type": "code",
   "execution_count": 257,
   "metadata": {},
   "outputs": [],
   "source": [
    "# 글자 이어 붙여 문자열 만들기\n",
    "\n",
    "def solution(my_string, index_list):\n",
    "    answer = ''\n",
    "    for i in index_list:\n",
    "        answer+=my_string[i]\n",
    "    return answer"
   ]
  },
  {
   "cell_type": "code",
   "execution_count": 258,
   "metadata": {},
   "outputs": [],
   "source": [
    "# 순서쌍의 개수\n",
    "\n",
    "def solution(n):\n",
    "    count=0\n",
    "    for i in range(1, n+1):\n",
    "        if n%i==0:\n",
    "            count+=1\n",
    "    return count"
   ]
  },
  {
   "cell_type": "code",
   "execution_count": 259,
   "metadata": {},
   "outputs": [],
   "source": [
    "# 삼각형의 완성조건 (1)\n",
    "\n",
    "def solution(sides):\n",
    "    m=max(sides)\n",
    "    sides.remove(m)\n",
    "    return 1 if sum(sides)>m else 2\n",
    "    \n",
    "# 다른 풀이\n",
    "def solution(sides):\n",
    "    return 1 if max(sides) < (sum(sides) - max(sides)) else 2"
   ]
  },
  {
   "cell_type": "code",
   "execution_count": 260,
   "metadata": {},
   "outputs": [],
   "source": [
    "# 369게임\n",
    "\n",
    "def solution(order):\n",
    "    s=str(order)\n",
    "    c1=s.count('3')\n",
    "    c2=s.count('6')\n",
    "    c3=s.count('9')\n",
    "    return c1+c2+c3\n",
    "\n",
    "# 다른 풀이\n",
    "def solution(order):\n",
    "    return sum(map(lambda x: str(order).count(str(x)), [3, 6, 9]))"
   ]
  },
  {
   "cell_type": "code",
   "execution_count": 261,
   "metadata": {},
   "outputs": [],
   "source": [
    "# 옹알이(1)\n",
    "\n",
    "def solution(babbling):\n",
    "    count=0\n",
    "    \n",
    "    for i in babbling:\n",
    "        if \"aya\" in i:\n",
    "            i=i.replace('aya','@')\n",
    "        if \"ye\" in i:\n",
    "            i=i.replace('ye','@')\n",
    "        if \"woo\" in i:\n",
    "            i=i.replace('woo','@')\n",
    "        if \"ma\" in i:\n",
    "            i=i.replace('ma','@')\n",
    "        i=i.replace('@', '') # wyeoo같은 케이스가 안걸리려면 이렇게 해야함\n",
    "        if len(i)==0: # if not i: 도 가능\n",
    "            count+=1\n",
    "    return count\n",
    "\n",
    "# 정규표현식\n",
    "import re\n",
    "\n",
    "def solution(babbling):\n",
    "    r = re.compile('^(aya|ye|woo|ma)+$')\n",
    "    count=0\n",
    "    for i in babbling:\n",
    "        if r.match(i):\n",
    "            count+=1\n",
    "    return count"
   ]
  },
  {
   "cell_type": "code",
   "execution_count": 262,
   "metadata": {},
   "outputs": [],
   "source": [
    "# 개미 군단\n",
    "\n",
    "def solution(hp):\n",
    "    # 장군개미 5, 병정개미 3, 일개미1\n",
    "    g1 = 5\n",
    "    g2 = 3\n",
    "    g3 = 1\n",
    "    answer = 0\n",
    "    \n",
    "    장군개미 = hp // g1\n",
    "    hp = hp % g1\n",
    "    \n",
    "    병정개미 = hp // g2\n",
    "    hp = hp % g2\n",
    "    \n",
    "    일개미 = hp // g3\n",
    "    hp = hp % g3\n",
    "    \n",
    "    answer = 장군개미 + 병정개미 + 일개미\n",
    "    return answer"
   ]
  },
  {
   "cell_type": "code",
   "execution_count": 263,
   "metadata": {},
   "outputs": [],
   "source": [
    "# 편지\n",
    "\n",
    "def solution(message):\n",
    "    return len(message) * 2"
   ]
  },
  {
   "cell_type": "code",
   "execution_count": 264,
   "metadata": {},
   "outputs": [],
   "source": [
    "# 원하는 문자열 찾기\n",
    "\n",
    "def solution(myString, pat):\n",
    "    if pat.lower() in myString.lower():\n",
    "        answer = 1\n",
    "    else:\n",
    "        answer = 0\n",
    "    return answer\n",
    "\n",
    "# 다른 풀이\n",
    "def solution(myString, pat):\n",
    "    return int(pat.lower() in myString.lower())"
   ]
  },
  {
   "cell_type": "code",
   "execution_count": 265,
   "metadata": {},
   "outputs": [],
   "source": [
    "# n번째 원소까지\n",
    "\n",
    "def solution(num_list, n):\n",
    "    answer = num_list[0:n]\n",
    "    return answer"
   ]
  },
  {
   "cell_type": "code",
   "execution_count": 266,
   "metadata": {},
   "outputs": [],
   "source": [
    "# 짝수 홀수 개수\n",
    "\n",
    "def solution(num_list):\n",
    "    result = [0, 0]\n",
    "\n",
    "    for i in num_list:\n",
    "        if i%2==0:\n",
    "            result[0] += 1\n",
    "        else:\n",
    "            result[1] += 1\n",
    "    return result"
   ]
  },
  {
   "cell_type": "code",
   "execution_count": 267,
   "metadata": {},
   "outputs": [],
   "source": [
    "# 점의 위치 구하기\n",
    "\n",
    "def solution(dot):\n",
    "    if dot[0]>0 and dot[1]>0:\n",
    "        answer = 1\n",
    "    elif dot[0]<0 and dot[1]>0:\n",
    "        answer = 2\n",
    "    elif dot[0]<0 and dot[1]<0:\n",
    "        answer = 3\n",
    "    else:\n",
    "        answer = 4\n",
    "    return answer\n",
    "\n",
    "# 다른 풀이\n",
    "# 한 줄로 표현하는 조건 구문 사용\n",
    "# 결과 = A if 조건 else B\n",
    "# 두 수의 곱으로 1차 구분 -> 각 사분면의 특성에 따라(x/y가 양/음수) 2차 구분\n",
    "def solution(dot):\n",
    "    x,y = dot\n",
    "    if x*y>0:\n",
    "        return 1 if x>0 else 3\n",
    "    else:\n",
    "        return 4 if x>0 else 2"
   ]
  },
  {
   "cell_type": "code",
   "execution_count": 268,
   "metadata": {},
   "outputs": [],
   "source": [
    "# 문자 반복 출력하기\n",
    "\n",
    "def solution(my_string, n):\n",
    "    answer = \"\"\n",
    "    \n",
    "    for i in my_string:\n",
    "        answer += i*n\n",
    "        \n",
    "    return answer\n",
    "\n",
    "# 다른 풀이\n",
    "def solution(my_string, n):\n",
    "    return ''.join(i*n for i in my_string)"
   ]
  },
  {
   "cell_type": "code",
   "execution_count": 269,
   "metadata": {},
   "outputs": [],
   "source": [
    "# 옷가게 할인 받기\n",
    "\n",
    "# 1트 런타임 에러\n",
    "def solution(price):\n",
    "    \n",
    "    if price >= 500000:\n",
    "        result = int(price-(price * 0.2))\n",
    "    elif price >= 300000:\n",
    "        result = int(price-(price * 0.1))\n",
    "    elif price >= 100000:\n",
    "        result = int(price-(price * 0.05))\n",
    "        \n",
    "    return result\n",
    "\n",
    "# 성공 풀이\n",
    "def solution(price):\n",
    "    discount = 0 # 초기화 필수\n",
    "    if price >= 500000:\n",
    "        discount = 0.2\n",
    "    elif price >= 300000:\n",
    "        discount = 0.1\n",
    "    elif price >= 100000:\n",
    "        discount = 0.05\n",
    "        \n",
    "    result = int(price - (price * discount))\n",
    "    return result\n",
    "\n",
    "# 다른 풀이\n",
    "def solution(price):\n",
    "    answer = price\n",
    "    if price >= 500000:\n",
    "        answer = price * 0.8\n",
    "    elif price >= 300000:\n",
    "        answer = price * 0.9\n",
    "    elif price >= 100000:\n",
    "        answer = price * 0.95\n",
    "    return int(answer)"
   ]
  },
  {
   "cell_type": "code",
   "execution_count": 270,
   "metadata": {},
   "outputs": [],
   "source": [
    "# 짝수는 싫어요\n",
    "\n",
    "# sol1\n",
    "def solution(n):\n",
    "    result = list(map(lambda x: x if x%2==1 else None, range(n+1)))\n",
    "    result = [x for x in result if x is not None]\n",
    "\n",
    "    return result\n",
    "\n",
    "# sol2\n",
    "def solution(n):\n",
    "    result = list(filter(lambda x: x%2==1, range(n+1)))\n",
    "    \n",
    "    return result\n",
    "\n",
    "# 다른 풀이\n",
    "def solution(n):\n",
    "    return [x for x in range(n + 1) if x % 2]"
   ]
  },
  {
   "cell_type": "code",
   "execution_count": 271,
   "metadata": {},
   "outputs": [],
   "source": [
    "# 배열의 유사도\n",
    "\n",
    "# sol1\n",
    "def solution(s1, s2):\n",
    "    result = 0\n",
    "\n",
    "    for i in s1:\n",
    "        if i in s2:\n",
    "            result += 1\n",
    "    return result\n",
    "\n",
    "# sol2\n",
    "def solution(s1, s2):\n",
    "    # 리스트 컴프리헨션과 sum() 함수 사용\n",
    "    result = sum(1 for i in s1 if i in s2)\n",
    "    return result"
   ]
  },
  {
   "cell_type": "code",
   "execution_count": 272,
   "metadata": {},
   "outputs": [],
   "source": [
    "# 코드 처리하기\n",
    "\n",
    "def solution(code):\n",
    "    mode = 0\n",
    "    idx = 0\n",
    "    result =''\n",
    "\n",
    "    for i in code:\n",
    "        if mode==0:\n",
    "            if (i != '1') and (idx%2 == 0):\n",
    "                result += i\n",
    "            elif i=='1':\n",
    "                mode = 1\n",
    "\n",
    "            idx +=1\n",
    "\n",
    "        elif mode==1:\n",
    "            if (i != '1') and (idx%2 == 1):\n",
    "                result += i\n",
    "\n",
    "            elif i=='1':\n",
    "                mode = 0\n",
    "\n",
    "            idx +=1\n",
    "            \n",
    "    if result == '':\n",
    "        result=\"EMPTY\"\n",
    "    \n",
    "    return result\n",
    "\n",
    "# 다른 풀이\n",
    "def solution(code):\n",
    "    answer = ''\n",
    "\n",
    "    mode = 0\n",
    "    for i in range(len(code)):\n",
    "        if code[i] == '1':\n",
    "            mode ^= 1 # 비트 연산자 XOR이용 (다르면 1, 같으면 0)\n",
    "        else:\n",
    "            # i가 인덱스\n",
    "            # 아래 조건이 성립하려면 모드가 0이고 인덱스가 짝수(=2로 나눴을 때 나머지 0 =즉 모드 값이 0) 또는\n",
    "            # 모드가 1이고 인덱스가 홀수(=2로 나눴을 때 나머지 1 =즉 모드 값이 1) \n",
    "            if i % 2 == mode:\n",
    "                answer += code[i]\n",
    "\n",
    "    return answer if answer else 'EMPTY'\n"
   ]
  },
  {
   "cell_type": "code",
   "execution_count": 273,
   "metadata": {},
   "outputs": [],
   "source": [
    "# 중앙값 구하기\n",
    "\n",
    "def solution(array):\n",
    "    array.sort()\n",
    "    \n",
    "    return array[int(len(array)/2)]\n",
    "\n",
    "# 다른 풀이\n",
    "def solution(array):\n",
    "    return sorted(array)[len(array) // 2]"
   ]
  },
  {
   "cell_type": "code",
   "execution_count": 274,
   "metadata": {},
   "outputs": [],
   "source": [
    "# 제곱수 판별하기\n",
    "\n",
    "import math\n",
    "\n",
    "def solution(n):\n",
    "    num = math.sqrt(n)\n",
    "    # float.is_interger(): float 유형 숫자가 정수인지 판별\n",
    "    result = 1 if num.is_integer() else 2\n",
    "    return result\n",
    "\n",
    "# 다른 풀이\n",
    "def solution(n):\n",
    "    if n**(1/2) == int(n**(1/2)) :\n",
    "        return 1\n",
    "    else :\n",
    "        return 2"
   ]
  },
  {
   "cell_type": "code",
   "execution_count": 275,
   "metadata": {},
   "outputs": [],
   "source": [
    "# 숨어있는 숫자의 덧셈(1)\n",
    "\n",
    "def solution(my_string):\n",
    "    result = 0\n",
    "\n",
    "    for i in my_string:\n",
    "        if i.isdigit():\n",
    "            result+=int(i)\n",
    "    return result\n",
    "\n",
    "# 다른 풀이\n",
    "def solution(my_string):\n",
    "    return sum(int(i) for i in my_string if i.isdigit())"
   ]
  },
  {
   "cell_type": "code",
   "execution_count": 276,
   "metadata": {},
   "outputs": [],
   "source": [
    "# 숨어있는 숫자의 덧셈(2)\n",
    "\n",
    "def solution(my_string):\n",
    "    result1 = ''\n",
    "    result3 = 0\n",
    "\n",
    "    for i in my_string:\n",
    "            if i.isdigit():\n",
    "                result1 += i\n",
    "            else:\n",
    "                result1 += ' '\n",
    "\n",
    "    # 주의 result1.split(' ')와 result1.split()의 결과가 다름\n",
    "    # 전자는 연속된 공백을 각각 분리, 후자는 연속된 공백을 하나로 처리하여 분리\n",
    "    result2 = result1.split()\n",
    "\n",
    "    for i in result2:\n",
    "        result3 += int(i)\n",
    "    # 또는 result3 = sum(int(i) for i in result2)\n",
    "    # 또는 result3 = sum(map(int, result2))\n",
    "\n",
    "    return result3\n",
    "\n",
    "# 다른 풀이\n",
    "def solution(my_string):\n",
    "    s = ''.join(i if i.isdigit() else ' ' for i in my_string)\n",
    "    return sum(int(i) for i in s.split())"
   ]
  },
  {
   "cell_type": "code",
   "execution_count": 277,
   "metadata": {},
   "outputs": [],
   "source": [
    "# n의 배수 고르기\n",
    "\n",
    "def solution(n, numlist):\n",
    "    result = [i for i in numlist if i%n==0]\n",
    "    return result\n",
    "\n",
    "# 다른 풀이\n",
    "def solution(n, numlist):\n",
    "    return list(filter(lambda x: x%n==0, numlist))"
   ]
  },
  {
   "cell_type": "code",
   "execution_count": 278,
   "metadata": {},
   "outputs": [
    {
     "ename": "ValueError",
     "evalue": "not enough values to unpack (expected 2, got 1)",
     "output_type": "error",
     "traceback": [
      "\u001b[0;31m---------------------------------------------------------------------------\u001b[0m",
      "\u001b[0;31mValueError\u001b[0m                                Traceback (most recent call last)",
      "\u001b[1;32m/Users/young/Desktop/programmers/lv0.ipynb 셀 31\u001b[0m line \u001b[0;36m3\n\u001b[1;32m      <a href='vscode-notebook-cell:/Users/young/Desktop/programmers/lv0.ipynb#Y140sZmlsZQ%3D%3D?line=0'>1</a>\u001b[0m \u001b[39m# 문자열 붙여서 출력하기\u001b[39;00m\n\u001b[0;32m----> <a href='vscode-notebook-cell:/Users/young/Desktop/programmers/lv0.ipynb#Y140sZmlsZQ%3D%3D?line=2'>3</a>\u001b[0m str1, str2 \u001b[39m=\u001b[39m \u001b[39minput\u001b[39m()\u001b[39m.\u001b[39mstrip()\u001b[39m.\u001b[39msplit(\u001b[39m'\u001b[39m\u001b[39m \u001b[39m\u001b[39m'\u001b[39m)\n\u001b[1;32m      <a href='vscode-notebook-cell:/Users/young/Desktop/programmers/lv0.ipynb#Y140sZmlsZQ%3D%3D?line=3'>4</a>\u001b[0m \u001b[39mprint\u001b[39m(str1\u001b[39m+\u001b[39mstr2)\n",
      "\u001b[0;31mValueError\u001b[0m: not enough values to unpack (expected 2, got 1)"
     ]
    }
   ],
   "source": [
    "# 문자열 붙여서 출력하기\n",
    "\n",
    "str1, str2 = input().strip().split(' ')\n",
    "print(str1+str2)"
   ]
  },
  {
   "cell_type": "code",
   "execution_count": null,
   "metadata": {},
   "outputs": [
    {
     "name": "stdout",
     "output_type": "stream",
     "text": [
      "912\n"
     ]
    }
   ],
   "source": [
    "# 두 수의 연산값 비교하기\n",
    "\n",
    "def solution(a, b):\n",
    "    str1 = str(a)+str(b)\n",
    "\n",
    "    num1 = int(str1)\n",
    "    num2 = 2*a*b\n",
    "\n",
    "    if num1 < num2 or num1 == num2:\n",
    "        result = num2\n",
    "    else:\n",
    "        result = num1\n",
    "\n",
    "    # 조건문 사용 없이 return max(num1, num2)으로 축약 가능    \n",
    "    return result\n",
    "\n",
    "# 다른 풀이\n",
    "def solution(a, b):\n",
    "    return max(int(str(a)+str(b)), 2*a*b)"
   ]
  },
  {
   "cell_type": "code",
   "execution_count": null,
   "metadata": {},
   "outputs": [
    {
     "name": "stdout",
     "output_type": "stream",
     "text": [
      "220\n"
     ]
    }
   ],
   "source": [
    "# 홀짝에 따라 다른 값 반환하기\n",
    "\n",
    "def solution(n):\n",
    "    if n%2 == 1:\n",
    "        result = sum(i for i in range(n+1) if i%2==1)\n",
    "    else:\n",
    "        result = sum(i**2 for i in range(n+1) if i%2==0)\n",
    "    return result\n",
    "\n",
    "# 다른 풀이\n",
    "def solution(n):\n",
    "    # n%2==1이면(n이 홀수면) if문이 참이므로 조건 성립\n",
    "    if n%2:\n",
    "        return sum(range(1,n+1,2)) # 홀수와 홀수/짝수와 짝수 사이는 2칸 차이\n",
    "    return sum([i*i for i in range(2,n+1,2)])"
   ]
  },
  {
   "cell_type": "code",
   "execution_count": null,
   "metadata": {},
   "outputs": [
    {
     "name": "stdout",
     "output_type": "stream",
     "text": [
      "-1\n"
     ]
    }
   ],
   "source": [
    "# 첫 번째로 나오는 음수\n",
    "\n",
    "def solution(num_list):\n",
    "    result = -1\n",
    "\n",
    "    for idx, x in enumerate(num_list):\n",
    "        if x < 0:\n",
    "            result = idx\n",
    "            break\n",
    "            \n",
    "    return result\n",
    "\n",
    "# 다른 풀이\n",
    "def solution(num_list):\n",
    "    for i in range(len(num_list)):\n",
    "        if num_list[i]<0:\n",
    "            return i\n",
    "    return -1"
   ]
  },
  {
   "cell_type": "code",
   "execution_count": null,
   "metadata": {},
   "outputs": [
    {
     "name": "stdout",
     "output_type": "stream",
     "text": [
      "0\n"
     ]
    }
   ],
   "source": [
    "# 부분 문자열\n",
    "\n",
    "def solution(str1, str2):\n",
    "    return 1 if str1 in str2 else 0\n",
    "\n",
    "# 다른 풀이\n",
    "def solution(str1, str2):\n",
    "    # str1 in str2 => True, False => int(True)=1, int(False)=0\n",
    "    return int(str1 in str2)"
   ]
  },
  {
   "cell_type": "code",
   "execution_count": null,
   "metadata": {},
   "outputs": [
    {
     "name": "stdout",
     "output_type": "stream",
     "text": [
      "[2, 2, 6, 50, 99, 49]\n"
     ]
    }
   ],
   "source": [
    "# 조건에 맞게 수열 변환하기 1\n",
    "\n",
    "def solution(arr):\n",
    "    result = []\n",
    "\n",
    "    for i in arr:\n",
    "        if i >= 50 and i % 2 == 0:\n",
    "            result.append(i // 2)\n",
    "        elif i < 50 and i % 2 == 1:\n",
    "            result.append(i * 2)\n",
    "        else:\n",
    "            result.append(i)\n",
    "            \n",
    "    return result"
   ]
  },
  {
   "cell_type": "code",
   "execution_count": null,
   "metadata": {},
   "outputs": [],
   "source": [
    "# 배열에서 문자열 대소문자 변환하기\n",
    "\n",
    "# sol1\n",
    "def solution(strArr):\n",
    "    result = []\n",
    "    \n",
    "    for i in range(len(strArr)):\n",
    "        if i % 2 == 0:\n",
    "            result.append(strArr[i].lower())\n",
    "        else:\n",
    "            result.append(strArr[i].upper())\n",
    "        \n",
    "    return result\n",
    "\n",
    "# sol2\n",
    "def solution(strArr):\n",
    "    result = [x.lower() if idx%2==0 else x.upper() for idx, x in enumerate(strArr)]\n",
    "    return result"
   ]
  },
  {
   "cell_type": "code",
   "execution_count": null,
   "metadata": {},
   "outputs": [
    {
     "name": "stdout",
     "output_type": "stream",
     "text": [
      "[3, 6, 9, 300, 297, 294]\n"
     ]
    }
   ],
   "source": [
    "# 조건에 맞게 수열 변환하기 3\n",
    "\n",
    "def solution(arr, k):\n",
    "    result = [i*k if k%2==1 else i+k for i in arr]\n",
    "    return result"
   ]
  },
  {
   "cell_type": "code",
   "execution_count": null,
   "metadata": {},
   "outputs": [
    {
     "name": "stdout",
     "output_type": "stream",
     "text": [
      "5\n"
     ]
    }
   ],
   "source": [
    "# 조건에 맞게 수열 변환하기 2\n",
    "\n",
    "def solution(arr):\n",
    "    arr2 = []\n",
    "    arr3 = arr[:]\n",
    "    result = 0\n",
    "\n",
    "    while True:\n",
    "        arr2 = []\n",
    "\n",
    "        for i in arr3:\n",
    "            if i>=50 and i%2==0:\n",
    "                arr2.append(i//2)\n",
    "            elif i<50 and i%2==1:\n",
    "                arr2.append(i*2+1)\n",
    "            else:\n",
    "                arr2.append(i)\n",
    "\n",
    "        if arr3 == arr2:\n",
    "            break\n",
    "        else:\n",
    "            result += 1\n",
    "            arr3 = arr2[:]\n",
    "    return result\n",
    "\n",
    "# 참고\n",
    "# arr2 = [i//2 if i>=50 and i%2==0 i*2+1 elif i<50 and i%2==1 else i for i in arr] 이건 안됨\n",
    "# arr2 = [i//2 if i>=50 and i%2==0 else(i*2+1 if i<50 and i%2==1 else i) for i in arr] 이건 됨\n",
    "\n",
    "# 복사에 관하여 참고\n",
    "# arr3 = arr[:] 또는 arr3 = arr2[:]와 같이 사용한 부분은 리스트의 얕은 복사(shallow copy)를 의미\n",
    "# 이렇게 하면 arr 또는 arr2의 모든 아이템들이 새로운 리스트 arr3에 복사되는데, 이는 원본 리스트와 복사된 리스트가 서로 독립적이라는 것을 보장\n",
    "# 반면에 arr3 = arr 또는 arr3 = arr2와 같이 사용하면, arr3는 arr 또는 arr2와 같은 리스트를 가리킴\n",
    "# 이 경우, arr3를 변경하면 원본 리스트인 arr 또는 arr2도 함께 변경되는 문제가 발생할 수 있음\n",
    "# 따라서, 리스트를 복사할 때는 얕은 복사를 사용하여 원본 리스트에 영향을 주지 않는 것이 안전\n",
    "# 이 문제의 경우에는 리스트 arr3와 arr2가 독립적으로 동작해야 하므로, arr3 = arr[:] 또는 arr3 = arr2[:] 형태로 사용하는 것이 맞음"
   ]
  },
  {
   "cell_type": "code",
   "execution_count": null,
   "metadata": {},
   "outputs": [
    {
     "name": "stdout",
     "output_type": "stream",
     "text": [
      "5\n"
     ]
    }
   ],
   "source": [
    "# 복습겸 재풀이 (0308)\n",
    "# 조건에 맞게 수열 변환하기 2\n",
    "\n",
    "arr = [1, 2, 3, 100, 99, 98]\n",
    "\n",
    "prev_arr = arr[:]\n",
    "new_arr = []\n",
    "\n",
    "count = 0\n",
    "\n",
    "while True:\n",
    "    new_arr = []\n",
    "\n",
    "    for i in prev_arr:\n",
    "        if i >= 50 and i % 2 == 0:\n",
    "            new_arr.append(i/2)\n",
    "        elif i < 50 and i % 2 == 1:\n",
    "            new_arr.append(i * 2 + 1)\n",
    "        else:\n",
    "            new_arr.append(i)\n",
    "\n",
    "    if new_arr == prev_arr:\n",
    "        break\n",
    "    else:\n",
    "        count += 1\n",
    "        prev_arr = new_arr[:]\n",
    "\n",
    "print(count)"
   ]
  },
  {
   "cell_type": "code",
   "execution_count": null,
   "metadata": {},
   "outputs": [
    {
     "name": "stdout",
     "output_type": "stream",
     "text": [
      "-1\n"
     ]
    }
   ],
   "source": [
    "# 수 조작하기 1\n",
    "\n",
    "def solution(n, control):\n",
    "    w, s, d, a = 1, -1, 10, -10\n",
    "    result = n\n",
    "    \n",
    "    for i in control:\n",
    "        if i == \"w\":\n",
    "            result += w\n",
    "        elif i == \"s\":\n",
    "            result += s\n",
    "        elif i == \"d\":\n",
    "            result += d\n",
    "        else:\n",
    "            result += a\n",
    "    \n",
    "    return result\n",
    "\n",
    "# 다른 풀이1\n",
    "# zip, dictionary, sum 사용\n",
    "def solution(n, control):\n",
    "    key = dict(zip(['w','s','d','a'], [1,-1,10,-10]))\n",
    "    return n + sum([key[c] for c in control])\n",
    "\n",
    "# 다른 풀이2\n",
    "# 1의 풀이에서 zip대신 직접 딕셔너리 선언, sum()함수 대신 반복문 돌며 카운트\n",
    "def solution(n, control):\n",
    "    answer = n\n",
    "    c = { 'w':1, 's':-1, 'd':10, 'a':-10}\n",
    "    for i in control:\n",
    "        answer += c[i]\n",
    "    return answer"
   ]
  },
  {
   "cell_type": "code",
   "execution_count": null,
   "metadata": {},
   "outputs": [],
   "source": [
    "# 더 크게 합치기\n",
    "\n",
    "# 과정\n",
    "a = 9\n",
    "b = 91\n",
    "\n",
    "result1 = int(str(a)+str(b))\n",
    "result2 = int(str(b)+str(a))\n",
    "print(result1)\n",
    "print(result2)\n",
    "print(max(result1, result2))\n",
    "\n",
    "# 결과\n",
    "def solution(a, b):\n",
    "    result1 = int(str(a)+str(b))\n",
    "    result2 = int(str(b)+str(a))\n",
    "    \n",
    "    return max(result1, result2)"
   ]
  },
  {
   "cell_type": "code",
   "execution_count": null,
   "metadata": {},
   "outputs": [
    {
     "name": "stdout",
     "output_type": "stream",
     "text": [
      "['banana', 'anana', 'nana', 'ana', 'na', 'a']\n",
      "1\n"
     ]
    }
   ],
   "source": [
    "# 접미사인지 확인하기\n",
    "\n",
    "# 과정\n",
    "my_string = \"banana\"\n",
    "is_suffix = \"ana\"\n",
    "\n",
    "# my_string_arr = []\n",
    "\n",
    "# for i in range(len(my_string)):\n",
    "#     my_string_arr.append(my_string[i:])\n",
    "\n",
    "# 축약 (리스트 컴프리헨션 사용)\n",
    "my_string_arr = [my_string[i:] for i in range(len(my_string))]\n",
    "\n",
    "print(my_string_arr)\n",
    "print(1 if is_suffix in my_string_arr else 0)\n",
    "\n",
    "# 결과\n",
    "def solution(my_string, is_suffix):\n",
    "    my_string_arr = [my_string[i:] for i in range(len(my_string))]\n",
    "    return 1 if is_suffix in my_string_arr else 0"
   ]
  },
  {
   "cell_type": "code",
   "execution_count": 288,
   "metadata": {},
   "outputs": [
    {
     "name": "stdout",
     "output_type": "stream",
     "text": [
      "['b', 'ba', 'ban', 'bana', 'banan', 'banana']\n",
      "1\n",
      "[0, 0, 1, 0, 0, 0]\n",
      "1\n"
     ]
    }
   ],
   "source": [
    "# 접두사인지 확인하기\n",
    "\n",
    "# 과정\n",
    "my_string = \"banana\"\n",
    "is_prefix = \"ban\"\n",
    "\n",
    "my_string_arr = [my_string[:i] for i in range(1, len(my_string)+1)]\n",
    "\n",
    "print(my_string_arr)\n",
    "print(1 if is_prefix in my_string_arr else 0)\n",
    "\n",
    "# 슬라이싱 중 is_prefix를 만나면 반복문 종료, 1 반환, 못만나면 0\n",
    "result = [1 if my_string[:i] == is_prefix else 0 for i in range(1, len(my_string)+1)]\n",
    "print(result)\n",
    "print(int(1 in result))\n",
    "\n",
    "# 결과1\n",
    "def solution(my_string, is_prefix):\n",
    "    my_string_arr = [my_string[:i] for i in range(1, len(my_string)+1)]\n",
    "    \n",
    "    return 1 if is_prefix in my_string_arr else 0\n",
    "\n",
    "# 결과2\n",
    "def solution(my_string, is_prefix):\n",
    "    result = [1 if my_string[:i] == is_prefix else 0 for i in range(1, len(my_string)+1)]\n",
    "    return int(1 in result)\n",
    "\n",
    "# 다른 풀이\n",
    "def solution(my_string, is_prefix):\n",
    "    # 어짜피 확인해야 할 값은 하나! 확인하고 싶은 글자(is_prefix) 길이 만큼만 기준 단어에서 짤라보면 된다\n",
    "    if my_string[:len(is_prefix)]==is_prefix:return 1\n",
    "    return 0"
   ]
  },
  {
   "cell_type": "code",
   "execution_count": null,
   "metadata": {},
   "outputs": [
    {
     "name": "stdout",
     "output_type": "stream",
     "text": [
      "[2, 1, 6, 5]\n"
     ]
    }
   ],
   "source": [
    "# 마지막 두 원소\n",
    "\n",
    "def solution(num_list):\n",
    "    result = num_list[:]\n",
    "\n",
    "    if num_list[-1] > num_list[-2]:\n",
    "        result.append(num_list[-1] - num_list[-2])\n",
    "    else:\n",
    "        result.append(num_list[-1] * 2)\n",
    "    return result"
   ]
  },
  {
   "cell_type": "code",
   "execution_count": 291,
   "metadata": {},
   "outputs": [
    {
     "name": "stdout",
     "output_type": "stream",
     "text": [
      "100 is even\n"
     ]
    }
   ],
   "source": [
    "# 홀짝 구분하기\n",
    "\n",
    "# 과정\n",
    "a = int(input())\n",
    "\n",
    "# if a % 2 == 0:\n",
    "#     result = str(a)+\" is even\"\n",
    "# else:\n",
    "#     result = str(a)+\" is odd\"\n",
    "\n",
    "# print(result)\n",
    "\n",
    "# f-string 사용\n",
    "if a % 2 == 0:\n",
    "    print(f'{a} is even')\n",
    "else:\n",
    "    print(f'{a} is odd')\n",
    "\n",
    "# 결과\n",
    "a = int(input())\n",
    "if a % 2 == 0:\n",
    "    print(f'{a} is even')\n",
    "else:\n",
    "    print(f'{a} is odd')\n",
    "\n",
    "# 다른 풓이\n",
    "N = int(input())\n",
    "print(f\"{N} is {'even' if N % 2 == 0 else 'odd'}\")\n"
   ]
  },
  {
   "cell_type": "code",
   "execution_count": 292,
   "metadata": {},
   "outputs": [
    {
     "name": "stdout",
     "output_type": "stream",
     "text": [
      "-1\n"
     ]
    }
   ],
   "source": [
    "# 배열 비교하기\n",
    "\n",
    "def solution(arr1, arr2):\n",
    "    if len(arr1) != len(arr2):\n",
    "        # 아래 네 줄 result = 1 if len(arr1) > len(arr2) else -1 로 축약 가능\n",
    "        if len(arr1) > len(arr2):\n",
    "            result = 1\n",
    "        else:\n",
    "            result = -1\n",
    "    else:\n",
    "        if sum(arr1) > sum(arr2):\n",
    "            result = 1\n",
    "        elif sum(arr1) < sum(arr2):\n",
    "            result = -1\n",
    "        else:\n",
    "            result = 0\n",
    "    return result"
   ]
  },
  {
   "cell_type": "code",
   "execution_count": 293,
   "metadata": {},
   "outputs": [
    {
     "name": "stdout",
     "output_type": "stream",
     "text": [
      "42\n",
      "351\n"
     ]
    }
   ],
   "source": [
    "# 이어 붙인 수\n",
    "\n",
    "def solution(num_list):\n",
    "    even = ''\n",
    "    odd = ''\n",
    "\n",
    "    for i in num_list:\n",
    "        if i % 2 == 0:\n",
    "            even += str(i)\n",
    "        else:\n",
    "            odd += str(i)\n",
    "    return int(even) + int(odd)"
   ]
  },
  {
   "cell_type": "code",
   "execution_count": 294,
   "metadata": {},
   "outputs": [
    {
     "name": "stdout",
     "output_type": "stream",
     "text": [
      "[1, 4, 12, 14, 15]\n"
     ]
    }
   ],
   "source": [
    "# 뒤에서 5등까지\n",
    "\n",
    "def solution(num_list):\n",
    "    result = sorted(num_list)[:5]\n",
    "    return result"
   ]
  },
  {
   "cell_type": "code",
   "execution_count": 308,
   "metadata": {},
   "outputs": [],
   "source": [
    "# 뒤에서 5등 위로\n",
    "\n",
    "def solution(num_list):\n",
    "    result = sorted(num_list)[5:]\n",
    "    return result"
   ]
  },
  {
   "cell_type": "code",
   "execution_count": 297,
   "metadata": {},
   "outputs": [
    {
     "name": "stdout",
     "output_type": "stream",
     "text": [
      "1\n"
     ]
    }
   ],
   "source": [
    "# 원소들의 곱과 합\n",
    "\n",
    "def solution(num_list):\n",
    "    n_mtpl = 1\n",
    "    n_sum = sum(num_list)\n",
    "\n",
    "    for i in num_list:\n",
    "        n_mtpl *= i\n",
    "\n",
    "    result = 1 if n_mtpl < n_sum**2 else 0\n",
    "    return result\n",
    "\n",
    "# 다른 풀이 참고\n",
    "def solution(num_list):\n",
    "    s=sum(num_list)**2\n",
    "    # 숫자를 문자열로 바꿔 이어 붙이고 eval()함수를 이용하여 식을 만듦\n",
    "    m=eval('*'.join([str(n) for n in num_list]))\n",
    "    return 1 if s>m else 0"
   ]
  },
  {
   "cell_type": "code",
   "execution_count": 311,
   "metadata": {},
   "outputs": [
    {
     "name": "stdout",
     "output_type": "stream",
     "text": [
      "[3, 6, 9]\n"
     ]
    }
   ],
   "source": [
    "# 배열 만들기1\n",
    "\n",
    "def solution(n, k):\n",
    "    result = [i for i in range(1, n+1) if i % k == 0]\n",
    "    return result"
   ]
  },
  {
   "cell_type": "code",
   "execution_count": 315,
   "metadata": {},
   "outputs": [
    {
     "name": "stdout",
     "output_type": "stream",
     "text": [
      "[10, 9, 8, 7, 6, 5, 4, 3]\n"
     ]
    }
   ],
   "source": [
    "# 카운트 다운\n",
    "\n",
    "def solution(start_num, end_num):\n",
    "    result = [i for i in range(start_num, end_num-1, -1)]\n",
    "    return result"
   ]
  }
 ],
 "metadata": {
  "kernelspec": {
   "display_name": "py3.8",
   "language": "python",
   "name": "python3"
  },
  "language_info": {
   "codemirror_mode": {
    "name": "ipython",
    "version": 3
   },
   "file_extension": ".py",
   "mimetype": "text/x-python",
   "name": "python",
   "nbconvert_exporter": "python",
   "pygments_lexer": "ipython3",
   "version": "3.11.5"
  },
  "orig_nbformat": 4
 },
 "nbformat": 4,
 "nbformat_minor": 2
}
