{
 "cells": [
  {
   "cell_type": "code",
   "execution_count": 1,
   "metadata": {},
   "outputs": [
    {
     "name": "stdout",
     "output_type": "stream",
     "text": [
      "안녕\n"
     ]
    }
   ],
   "source": [
    "# 짝수의 합\n",
    "\n",
    "def solution(n):\n",
    "    #l=[i for i in range(n+1)]\n",
    "    l2=list(filter(lambda x:x%2==0,list(range(n+1))))\n",
    "    answer=sum(l2)\n",
    "    return answer\n"
   ]
  },
  {
   "cell_type": "code",
   "execution_count": 2,
   "metadata": {},
   "outputs": [
    {
     "data": {
      "text/plain": [
       "124000"
      ]
     },
     "execution_count": 2,
     "metadata": {},
     "output_type": "execute_result"
    }
   ],
   "source": [
    "# 양꼬치\n",
    "\n",
    "def solution(n, k):\n",
    "    service=n//10\n",
    "    answer=(12000*n)+(2000*(k-service))\n",
    "    return answer\n",
    "\n",
    "# return 12000 * n + 2000 * (k - n // 10) (바로 연산하는 방법도 가능, 우선순위에 의해서 계산 순서가 있으니까)\n"
   ]
  },
  {
   "cell_type": "code",
   "execution_count": 7,
   "metadata": {},
   "outputs": [
    {
     "data": {
      "text/plain": [
       "1"
      ]
     },
     "execution_count": 7,
     "metadata": {},
     "output_type": "execute_result"
    }
   ],
   "source": [
    "# n의 배수\n",
    "\n",
    "def solution(num, n):\n",
    "    answer=1 if num%n==0 else 0\n",
    "    return answer"
   ]
  },
  {
   "cell_type": "code",
   "execution_count": 11,
   "metadata": {},
   "outputs": [
    {
     "data": {
      "text/plain": [
       "3"
      ]
     },
     "execution_count": 11,
     "metadata": {},
     "output_type": "execute_result"
    }
   ],
   "source": [
    "# flag에 따라 다른 값 반환하기\n",
    "\n",
    "def solution(a, b, flag):\n",
    "    if flag: # flag가 True라면 flag라는 변수 자체가 참이 되므로 조건이 참이된다\n",
    "        answer=a+b\n",
    "    else:\n",
    "        answer=a-b\n",
    "    return answer\n",
    "# answer=a+b if flag else a-b 도 가능"
   ]
  },
  {
   "cell_type": "code",
   "execution_count": null,
   "metadata": {},
   "outputs": [],
   "source": [
    "# 문자열의 뒤의 n글자\n",
    "\n",
    "def solution(my_string, n):\n",
    "    return my_string[(len(my_string))-n:]\n",
    "\n",
    "# return my_string[-n:] 이렇게도 가능"
   ]
  },
  {
   "cell_type": "code",
   "execution_count": null,
   "metadata": {},
   "outputs": [],
   "source": [
    "# 길이에 따른 연산\n",
    "\n",
    "def solution(num_list):\n",
    "    answer=1\n",
    "    if len(num_list)>10:\n",
    "        answer=sum(num_list)\n",
    "    else:\n",
    "        for i in num_list:\n",
    "            answer*=i\n",
    "    return answer\n",
    "\n",
    "\n",
    "# 다른 풀이\n",
    "from math import prod\n",
    "def solution(num_list):\n",
    "    return sum(num_list) if len(num_list)>=11 else prod(num_list)\n",
    "# prod: 주어진 iterable에 대해서 모든 elements에 대해서 곱셈을 계산해서 반환한다."
   ]
  },
  {
   "cell_type": "code",
   "execution_count": null,
   "metadata": {},
   "outputs": [],
   "source": [
    "# n보다 커질 때까지 더하기\n",
    "\n",
    "def solution(numbers, n):\n",
    "    sum=0\n",
    "    for i in numbers:\n",
    "        sum+=i\n",
    "        if sum<=n:\n",
    "            continue\n",
    "        else:\n",
    "            return sum\n",
    "    return sum\n",
    "\n",
    "# 다른 풀이\n",
    "def solution(numbers, n):\n",
    "    answer = 0\n",
    "\n",
    "    for i in numbers:\n",
    "        answer += i\n",
    "\n",
    "        if answer > n:\n",
    "            return answer\n",
    "\n",
    "    return answer"
   ]
  },
  {
   "cell_type": "code",
   "execution_count": 20,
   "metadata": {},
   "outputs": [
    {
     "data": {
      "text/plain": [
       "139"
      ]
     },
     "execution_count": 20,
     "metadata": {},
     "output_type": "execute_result"
    }
   ],
   "source": [
    "# 배열 원소의 길이\n",
    "\n",
    "def solution(strlist):\n",
    "    answer = []\n",
    "    for i in strlist:\n",
    "        answer.append(len(i))\n",
    "    return answer\n",
    "\n",
    "# 다른 풀이\n",
    "def solution(strlist):\n",
    "    return [len(str) for str in strlist]"
   ]
  },
  {
   "cell_type": "code",
   "execution_count": null,
   "metadata": {},
   "outputs": [],
   "source": [
    "# 배열 두배 만들기\n",
    "\n",
    "def solution(numbers):\n",
    "    return list(map(lambda x: x*2, numbers))\n",
    "\n",
    "# 다른 풀이\n",
    "def solution(numbers):\n",
    "    return [num*2 for num in numbers]"
   ]
  },
  {
   "cell_type": "code",
   "execution_count": null,
   "metadata": {},
   "outputs": [],
   "source": [
    "# 글자 이어 붙여 문자열 만들기\n",
    "\n",
    "def solution(my_string, index_list):\n",
    "    answer = ''\n",
    "    for i in index_list:\n",
    "        answer+=my_string[i]\n",
    "    return answer"
   ]
  },
  {
   "cell_type": "code",
   "execution_count": null,
   "metadata": {},
   "outputs": [],
   "source": [
    "# 순서쌍의 개수\n",
    "\n",
    "def solution(n):\n",
    "    count=0\n",
    "    for i in range(1, n+1):\n",
    "        if n%i==0:\n",
    "            count+=1\n",
    "    return count"
   ]
  },
  {
   "cell_type": "code",
   "execution_count": null,
   "metadata": {},
   "outputs": [],
   "source": [
    "# 삼각형의 완성조건 (1)\n",
    "\n",
    "def solution(sides):\n",
    "    m=max(sides)\n",
    "    sides.remove(m)\n",
    "    return 1 if sum(sides)>m else 2\n",
    "    \n",
    "# 다른 풀이\n",
    "def solution(sides):\n",
    "    return 1 if max(sides) < (sum(sides) - max(sides)) else 2"
   ]
  },
  {
   "cell_type": "code",
   "execution_count": null,
   "metadata": {},
   "outputs": [],
   "source": [
    "# 369게임\n",
    "\n",
    "def solution(order):\n",
    "    s=str(order)\n",
    "    c1=s.count('3')\n",
    "    c2=s.count('6')\n",
    "    c3=s.count('9')\n",
    "    return c1+c2+c3\n",
    "\n",
    "# 다른 풀이\n",
    "def solution(order):\n",
    "    return sum(map(lambda x: str(order).count(str(x)), [3, 6, 9]))"
   ]
  },
  {
   "cell_type": "code",
   "execution_count": null,
   "metadata": {},
   "outputs": [],
   "source": [
    "# 옹알이(1)\n",
    "\n",
    "def solution(babbling):\n",
    "    count=0\n",
    "    \n",
    "    for i in babbling:\n",
    "        if \"aya\" in i:\n",
    "            i=i.replace('aya','@')\n",
    "        if \"ye\" in i:\n",
    "            i=i.replace('ye','@')\n",
    "        if \"woo\" in i:\n",
    "            i=i.replace('woo','@')\n",
    "        if \"ma\" in i:\n",
    "            i=i.replace('ma','@')\n",
    "        i=i.replace('@', '') # wyeoo같은 케이스가 안걸리려면 이렇게 해야함\n",
    "        if len(i)==0: # if not i: 도 가능\n",
    "            count+=1\n",
    "    return count\n",
    "\n",
    "# 정규표현식\n",
    "import re\n",
    "\n",
    "def solution(babbling):\n",
    "    r = re.compile('^(aya|ye|woo|ma)+$')\n",
    "    count=0\n",
    "    for i in babbling:\n",
    "        if r.match(i):\n",
    "            count+=1\n",
    "    return count"
   ]
  },
  {
   "cell_type": "code",
   "execution_count": null,
   "metadata": {},
   "outputs": [],
   "source": [
    "# 개미 군단\n",
    "\n",
    "def solution(hp):\n",
    "    # 장군개미 5, 병정개미 3, 일개미1\n",
    "    g1 = 5\n",
    "    g2 = 3\n",
    "    g3 = 1\n",
    "    answer = 0\n",
    "    \n",
    "    장군개미 = hp // g1\n",
    "    hp = hp % g1\n",
    "    \n",
    "    병정개미 = hp // g2\n",
    "    hp = hp % g2\n",
    "    \n",
    "    일개미 = hp // g3\n",
    "    hp = hp % g3\n",
    "    \n",
    "    answer = 장군개미 + 병정개미 + 일개미\n",
    "    return answer"
   ]
  },
  {
   "cell_type": "code",
   "execution_count": 1,
   "metadata": {},
   "outputs": [
    {
     "name": "stdout",
     "output_type": "stream",
     "text": [
      "15\n"
     ]
    }
   ],
   "source": [
    "# 편지\n",
    "\n",
    "def solution(message):\n",
    "    return len(message) * 2"
   ]
  },
  {
   "cell_type": "code",
   "execution_count": 2,
   "metadata": {},
   "outputs": [
    {
     "name": "stdout",
     "output_type": "stream",
     "text": [
      "abcdefg\n"
     ]
    }
   ],
   "source": [
    "# 원하는 문자열 찾기\n",
    "\n",
    "def solution(myString, pat):\n",
    "    if pat.lower() in myString.lower():\n",
    "        answer = 1\n",
    "    else:\n",
    "        answer = 0\n",
    "    return answer\n",
    "\n",
    "# 다른 풀이\n",
    "def solution(myString, pat):\n",
    "    return int(pat.lower() in myString.lower())"
   ]
  },
  {
   "cell_type": "code",
   "execution_count": 5,
   "metadata": {},
   "outputs": [
    {
     "name": "stdout",
     "output_type": "stream",
     "text": [
      "[5, 2, 1]\n"
     ]
    }
   ],
   "source": [
    "# n번째 원소까지\n",
    "\n",
    "def solution(num_list, n):\n",
    "    answer = num_list[0:n]\n",
    "    return answer"
   ]
  },
  {
   "cell_type": "code",
   "execution_count": 9,
   "metadata": {},
   "outputs": [
    {
     "name": "stdout",
     "output_type": "stream",
     "text": [
      "[2, 3]\n"
     ]
    }
   ],
   "source": [
    "# 짝수 홀수 개수\n",
    "\n",
    "def solution(num_list):\n",
    "    result = [0, 0]\n",
    "\n",
    "    for i in num_list:\n",
    "        if i%2==0:\n",
    "            result[0] += 1\n",
    "        else:\n",
    "            result[1] += 1\n",
    "    return result"
   ]
  },
  {
   "cell_type": "code",
   "execution_count": 15,
   "metadata": {},
   "outputs": [
    {
     "name": "stdout",
     "output_type": "stream",
     "text": [
      "2\n"
     ]
    }
   ],
   "source": [
    "# 점의 위치 구하기\n",
    "\n",
    "def solution(dot):\n",
    "    if dot[0]>0 and dot[1]>0:\n",
    "        answer = 1\n",
    "    elif dot[0]<0 and dot[1]>0:\n",
    "        answer = 2\n",
    "    elif dot[0]<0 and dot[1]<0:\n",
    "        answer = 3\n",
    "    else:\n",
    "        answer = 4\n",
    "    return answer\n",
    "\n",
    "# 다른 풀이\n",
    "# 한 줄로 표현하는 조건 구문 사용\n",
    "# 결과 = A if 조건 else B\n",
    "# 두 수의 곱으로 1차 구분 -> 각 사분면의 특성에 따라(x/y가 양/음수) 2차 구분\n",
    "def solution(dot):\n",
    "    x,y = dot\n",
    "    if x*y>0:\n",
    "        return 1 if x>0 else 3\n",
    "    else:\n",
    "        return 4 if x>0 else 2"
   ]
  },
  {
   "cell_type": "code",
   "execution_count": 18,
   "metadata": {},
   "outputs": [
    {
     "name": "stdout",
     "output_type": "stream",
     "text": [
      "hhheeellllllooo\n"
     ]
    }
   ],
   "source": [
    "# 문자 반복 출력하기\n",
    "\n",
    "def solution(my_string, n):\n",
    "    answer = \"\"\n",
    "    \n",
    "    for i in my_string:\n",
    "        answer += i*n\n",
    "        \n",
    "    return answer\n",
    "\n",
    "# 다른 풀이\n",
    "def solution(my_string, n):\n",
    "    return ''.join(i*n for i in my_string)"
   ]
  },
  {
   "cell_type": "code",
   "execution_count": 43,
   "metadata": {},
   "outputs": [
    {
     "name": "stdout",
     "output_type": "stream",
     "text": [
      "464000\n"
     ]
    }
   ],
   "source": [
    "# 옷가게 할인 받기\n",
    "\n",
    "# 1트 런타임 에러\n",
    "def solution(price):\n",
    "    \n",
    "    if price >= 500000:\n",
    "        result = int(price-(price * 0.2))\n",
    "    elif price >= 300000:\n",
    "        result = int(price-(price * 0.1))\n",
    "    elif price >= 100000:\n",
    "        result = int(price-(price * 0.05))\n",
    "        \n",
    "    return result\n",
    "\n",
    "# 성공 풀이\n",
    "def solution(price):\n",
    "    discount = 0 # 초기화 필수\n",
    "    if price >= 500000:\n",
    "        discount = 0.2\n",
    "    elif price >= 300000:\n",
    "        discount = 0.1\n",
    "    elif price >= 100000:\n",
    "        discount = 0.05\n",
    "        \n",
    "    result = int(price - (price * discount))\n",
    "    return result\n",
    "\n",
    "# 다른 풀이\n",
    "def solution(price):\n",
    "    answer = price\n",
    "    if price >= 500000:\n",
    "        answer = price * 0.8\n",
    "    elif price >= 300000:\n",
    "        answer = price * 0.9\n",
    "    elif price >= 100000:\n",
    "        answer = price * 0.95\n",
    "    return int(answer)"
   ]
  },
  {
   "cell_type": "code",
   "execution_count": 27,
   "metadata": {},
   "outputs": [
    {
     "name": "stdout",
     "output_type": "stream",
     "text": [
      "ddd\n"
     ]
    }
   ],
   "source": [
    "s = ''\n",
    "result2 = s.join('ddd')\n",
    "print(result2)"
   ]
  },
  {
   "cell_type": "code",
   "execution_count": 29,
   "metadata": {},
   "outputs": [
    {
     "name": "stdout",
     "output_type": "stream",
     "text": [
      "['h', 'e', 'l', 'l', 'o']\n"
     ]
    }
   ],
   "source": [
    "my_string = 'hello'\n",
    "l1 = [i for i in my_string]\n",
    "print(l1)"
   ]
  },
  {
   "cell_type": "code",
   "execution_count": 32,
   "metadata": {},
   "outputs": [
    {
     "name": "stdout",
     "output_type": "stream",
     "text": [
      "ddd\n"
     ]
    }
   ],
   "source": [
    "s = 'd'\n",
    "result3 = ''.join(s for _ in range(3))\n",
    "print(result3)"
   ]
  },
  {
   "cell_type": "code",
   "execution_count": 33,
   "metadata": {},
   "outputs": [
    {
     "name": "stdout",
     "output_type": "stream",
     "text": [
      "['d', 'd', 'd']\n"
     ]
    }
   ],
   "source": [
    "s = 'd'\n",
    "l5 = [s for _ in range(3)]\n",
    "print(l5)"
   ]
  },
  {
   "cell_type": "code",
   "execution_count": 36,
   "metadata": {},
   "outputs": [
    {
     "name": "stdout",
     "output_type": "stream",
     "text": [
      "hellow\n"
     ]
    }
   ],
   "source": [
    "h = ['h', 'e', 'l', 'l', 'o', 'w']\n",
    "# j = ''.join(i for i in h)\n",
    "j = ''.join(h)\n",
    "\n",
    "print(j)"
   ]
  },
  {
   "cell_type": "code",
   "execution_count": null,
   "metadata": {},
   "outputs": [],
   "source": []
  }
 ],
 "metadata": {
  "kernelspec": {
   "display_name": "py3.8",
   "language": "python",
   "name": "python3"
  },
  "language_info": {
   "codemirror_mode": {
    "name": "ipython",
    "version": 3
   },
   "file_extension": ".py",
   "mimetype": "text/x-python",
   "name": "python",
   "nbconvert_exporter": "python",
   "pygments_lexer": "ipython3",
   "version": "3.11.5"
  },
  "orig_nbformat": 4
 },
 "nbformat": 4,
 "nbformat_minor": 2
}
