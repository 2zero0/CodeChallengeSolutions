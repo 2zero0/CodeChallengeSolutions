{
 "cells": [
  {
   "cell_type": "code",
   "execution_count": 1,
   "metadata": {},
   "outputs": [
    {
     "name": "stdout",
     "output_type": "stream",
     "text": [
      "안녕\n"
     ]
    }
   ],
   "source": [
    "# 짝수의 합\n",
    "\n",
    "def solution(n):\n",
    "    #l=[i for i in range(n+1)]\n",
    "    l2=list(filter(lambda x:x%2==0,list(range(n+1))))\n",
    "    answer=sum(l2)\n",
    "    return answer\n"
   ]
  },
  {
   "cell_type": "code",
   "execution_count": 2,
   "metadata": {},
   "outputs": [
    {
     "data": {
      "text/plain": [
       "124000"
      ]
     },
     "execution_count": 2,
     "metadata": {},
     "output_type": "execute_result"
    }
   ],
   "source": [
    "# 양꼬치\n",
    "\n",
    "def solution(n, k):\n",
    "    service=n//10\n",
    "    answer=(12000*n)+(2000*(k-service))\n",
    "    return answer\n",
    "\n",
    "# return 12000 * n + 2000 * (k - n // 10) (바로 연산하는 방법도 가능, 우선순위에 의해서 계산 순서가 있으니까)\n"
   ]
  },
  {
   "cell_type": "code",
   "execution_count": 7,
   "metadata": {},
   "outputs": [
    {
     "data": {
      "text/plain": [
       "1"
      ]
     },
     "execution_count": 7,
     "metadata": {},
     "output_type": "execute_result"
    }
   ],
   "source": [
    "# n의 배수\n",
    "\n",
    "def solution(num, n):\n",
    "    answer=1 if num%n==0 else 0\n",
    "    return answer"
   ]
  },
  {
   "cell_type": "code",
   "execution_count": 11,
   "metadata": {},
   "outputs": [
    {
     "data": {
      "text/plain": [
       "3"
      ]
     },
     "execution_count": 11,
     "metadata": {},
     "output_type": "execute_result"
    }
   ],
   "source": [
    "# flag에 따라 다른 값 반환하기\n",
    "\n",
    "def solution(a, b, flag):\n",
    "    if flag: # flag가 True라면 flag라는 변수 자체가 참이 되므로 조건이 참이된다\n",
    "        answer=a+b\n",
    "    else:\n",
    "        answer=a-b\n",
    "    return answer\n",
    "# answer=a+b if flag else a-b 도 가능"
   ]
  },
  {
   "cell_type": "code",
   "execution_count": null,
   "metadata": {},
   "outputs": [],
   "source": [
    "# 문자열의 뒤의 n글자\n",
    "\n",
    "def solution(my_string, n):\n",
    "    return my_string[(len(my_string))-n:]\n",
    "\n",
    "# return my_string[-n:] 이렇게도 가능"
   ]
  },
  {
   "cell_type": "code",
   "execution_count": null,
   "metadata": {},
   "outputs": [],
   "source": [
    "# 길이에 따른 연산\n",
    "\n",
    "def solution(num_list):\n",
    "    answer=1\n",
    "    if len(num_list)>10:\n",
    "        answer=sum(num_list)\n",
    "    else:\n",
    "        for i in num_list:\n",
    "            answer*=i\n",
    "    return answer\n",
    "\n",
    "\n",
    "# 다른 풀이\n",
    "from math import prod\n",
    "def solution(num_list):\n",
    "    return sum(num_list) if len(num_list)>=11 else prod(num_list)\n",
    "# prod: 주어진 iterable에 대해서 모든 elements에 대해서 곱셈을 계산해서 반환한다."
   ]
  },
  {
   "cell_type": "code",
   "execution_count": null,
   "metadata": {},
   "outputs": [],
   "source": [
    "# n보다 커질 때까지 더하기\n",
    "\n",
    "def solution(numbers, n):\n",
    "    sum=0\n",
    "    for i in numbers:\n",
    "        sum+=i\n",
    "        if sum<=n:\n",
    "            continue\n",
    "        else:\n",
    "            return sum\n",
    "    return sum\n",
    "\n",
    "# 다른 풀이\n",
    "def solution(numbers, n):\n",
    "    answer = 0\n",
    "\n",
    "    for i in numbers:\n",
    "        answer += i\n",
    "\n",
    "        if answer > n:\n",
    "            return answer\n",
    "\n",
    "    return answer"
   ]
  },
  {
   "cell_type": "code",
   "execution_count": 20,
   "metadata": {},
   "outputs": [
    {
     "data": {
      "text/plain": [
       "139"
      ]
     },
     "execution_count": 20,
     "metadata": {},
     "output_type": "execute_result"
    }
   ],
   "source": [
    "# 배열 원소의 길이\n",
    "\n",
    "def solution(strlist):\n",
    "    answer = []\n",
    "    for i in strlist:\n",
    "        answer.append(len(i))\n",
    "    return answer\n",
    "\n",
    "# 다른 풀이\n",
    "def solution(strlist):\n",
    "    return [len(str) for str in strlist]"
   ]
  },
  {
   "cell_type": "code",
   "execution_count": null,
   "metadata": {},
   "outputs": [],
   "source": [
    "# 배열 두배 만들기\n",
    "\n",
    "def solution(numbers):\n",
    "    return list(map(lambda x: x*2, numbers))\n",
    "\n",
    "# 다른 풀이\n",
    "def solution(numbers):\n",
    "    return [num*2 for num in numbers]"
   ]
  },
  {
   "cell_type": "code",
   "execution_count": null,
   "metadata": {},
   "outputs": [],
   "source": [
    "# 글자 이어 붙여 문자열 만들기\n",
    "\n",
    "def solution(my_string, index_list):\n",
    "    answer = ''\n",
    "    for i in index_list:\n",
    "        answer+=my_string[i]\n",
    "    return answer"
   ]
  },
  {
   "cell_type": "code",
   "execution_count": null,
   "metadata": {},
   "outputs": [],
   "source": [
    "# 순서쌍의 개수\n",
    "\n",
    "def solution(n):\n",
    "    count=0\n",
    "    for i in range(1, n+1):\n",
    "        if n%i==0:\n",
    "            count+=1\n",
    "    return count"
   ]
  },
  {
   "cell_type": "code",
   "execution_count": null,
   "metadata": {},
   "outputs": [],
   "source": [
    "# 삼각형의 완성조건 (1)\n",
    "\n",
    "def solution(sides):\n",
    "    m=max(sides)\n",
    "    sides.remove(m)\n",
    "    return 1 if sum(sides)>m else 2\n",
    "    \n",
    "# 다른 풀이\n",
    "def solution(sides):\n",
    "    return 1 if max(sides) < (sum(sides) - max(sides)) else 2"
   ]
  },
  {
   "cell_type": "code",
   "execution_count": null,
   "metadata": {},
   "outputs": [],
   "source": [
    "# 369게임\n",
    "\n",
    "def solution(order):\n",
    "    s=str(order)\n",
    "    c1=s.count('3')\n",
    "    c2=s.count('6')\n",
    "    c3=s.count('9')\n",
    "    return c1+c2+c3\n",
    "\n",
    "# 다른 풀이\n",
    "def solution(order):\n",
    "    return sum(map(lambda x: str(order).count(str(x)), [3, 6, 9]))"
   ]
  },
  {
   "cell_type": "code",
   "execution_count": null,
   "metadata": {},
   "outputs": [],
   "source": [
    "# 옹알이(1)\n",
    "\n",
    "def solution(babbling):\n",
    "    count=0\n",
    "    \n",
    "    for i in babbling:\n",
    "        if \"aya\" in i:\n",
    "            i=i.replace('aya','@')\n",
    "        if \"ye\" in i:\n",
    "            i=i.replace('ye','@')\n",
    "        if \"woo\" in i:\n",
    "            i=i.replace('woo','@')\n",
    "        if \"ma\" in i:\n",
    "            i=i.replace('ma','@')\n",
    "        i=i.replace('@', '') # wyeoo같은 케이스가 안걸리려면 이렇게 해야함\n",
    "        if len(i)==0: # if not i: 도 가능\n",
    "            count+=1\n",
    "    return count\n",
    "\n",
    "# 정규표현식\n",
    "import re\n",
    "\n",
    "def solution(babbling):\n",
    "    r = re.compile('^(aya|ye|woo|ma)+$')\n",
    "    count=0\n",
    "    for i in babbling:\n",
    "        if r.match(i):\n",
    "            count+=1\n",
    "    return count"
   ]
  },
  {
   "cell_type": "code",
   "execution_count": null,
   "metadata": {},
   "outputs": [],
   "source": [
    "# 개미 군단\n",
    "\n",
    "def solution(hp):\n",
    "    # 장군개미 5, 병정개미 3, 일개미1\n",
    "    g1 = 5\n",
    "    g2 = 3\n",
    "    g3 = 1\n",
    "    answer = 0\n",
    "    \n",
    "    장군개미 = hp // g1\n",
    "    hp = hp % g1\n",
    "    \n",
    "    병정개미 = hp // g2\n",
    "    hp = hp % g2\n",
    "    \n",
    "    일개미 = hp // g3\n",
    "    hp = hp % g3\n",
    "    \n",
    "    answer = 장군개미 + 병정개미 + 일개미\n",
    "    return answer"
   ]
  },
  {
   "cell_type": "code",
   "execution_count": 1,
   "metadata": {},
   "outputs": [
    {
     "name": "stdout",
     "output_type": "stream",
     "text": [
      "15\n"
     ]
    }
   ],
   "source": [
    "# 편지\n",
    "\n",
    "def solution(message):\n",
    "    return len(message) * 2"
   ]
  },
  {
   "cell_type": "code",
   "execution_count": 2,
   "metadata": {},
   "outputs": [
    {
     "name": "stdout",
     "output_type": "stream",
     "text": [
      "abcdefg\n"
     ]
    }
   ],
   "source": [
    "# 원하는 문자열 찾기\n",
    "\n",
    "def solution(myString, pat):\n",
    "    if pat.lower() in myString.lower():\n",
    "        answer = 1\n",
    "    else:\n",
    "        answer = 0\n",
    "    return answer\n",
    "\n",
    "# 다른 풀이\n",
    "def solution(myString, pat):\n",
    "    return int(pat.lower() in myString.lower())"
   ]
  },
  {
   "cell_type": "code",
   "execution_count": 5,
   "metadata": {},
   "outputs": [
    {
     "name": "stdout",
     "output_type": "stream",
     "text": [
      "[5, 2, 1]\n"
     ]
    }
   ],
   "source": [
    "# n번째 원소까지\n",
    "\n",
    "def solution(num_list, n):\n",
    "    answer = num_list[0:n]\n",
    "    return answer"
   ]
  },
  {
   "cell_type": "code",
   "execution_count": 9,
   "metadata": {},
   "outputs": [
    {
     "name": "stdout",
     "output_type": "stream",
     "text": [
      "[2, 3]\n"
     ]
    }
   ],
   "source": [
    "# 짝수 홀수 개수\n",
    "\n",
    "def solution(num_list):\n",
    "    result = [0, 0]\n",
    "\n",
    "    for i in num_list:\n",
    "        if i%2==0:\n",
    "            result[0] += 1\n",
    "        else:\n",
    "            result[1] += 1\n",
    "    return result"
   ]
  },
  {
   "cell_type": "code",
   "execution_count": 15,
   "metadata": {},
   "outputs": [
    {
     "name": "stdout",
     "output_type": "stream",
     "text": [
      "2\n"
     ]
    }
   ],
   "source": [
    "# 점의 위치 구하기\n",
    "\n",
    "def solution(dot):\n",
    "    if dot[0]>0 and dot[1]>0:\n",
    "        answer = 1\n",
    "    elif dot[0]<0 and dot[1]>0:\n",
    "        answer = 2\n",
    "    elif dot[0]<0 and dot[1]<0:\n",
    "        answer = 3\n",
    "    else:\n",
    "        answer = 4\n",
    "    return answer\n",
    "\n",
    "# 다른 풀이\n",
    "# 한 줄로 표현하는 조건 구문 사용\n",
    "# 결과 = A if 조건 else B\n",
    "# 두 수의 곱으로 1차 구분 -> 각 사분면의 특성에 따라(x/y가 양/음수) 2차 구분\n",
    "def solution(dot):\n",
    "    x,y = dot\n",
    "    if x*y>0:\n",
    "        return 1 if x>0 else 3\n",
    "    else:\n",
    "        return 4 if x>0 else 2"
   ]
  },
  {
   "cell_type": "code",
   "execution_count": 18,
   "metadata": {},
   "outputs": [
    {
     "name": "stdout",
     "output_type": "stream",
     "text": [
      "hhheeellllllooo\n"
     ]
    }
   ],
   "source": [
    "# 문자 반복 출력하기\n",
    "\n",
    "def solution(my_string, n):\n",
    "    answer = \"\"\n",
    "    \n",
    "    for i in my_string:\n",
    "        answer += i*n\n",
    "        \n",
    "    return answer\n",
    "\n",
    "# 다른 풀이\n",
    "def solution(my_string, n):\n",
    "    return ''.join(i*n for i in my_string)"
   ]
  },
  {
   "cell_type": "code",
   "execution_count": 43,
   "metadata": {},
   "outputs": [
    {
     "name": "stdout",
     "output_type": "stream",
     "text": [
      "464000\n"
     ]
    }
   ],
   "source": [
    "# 옷가게 할인 받기\n",
    "\n",
    "# 1트 런타임 에러\n",
    "def solution(price):\n",
    "    \n",
    "    if price >= 500000:\n",
    "        result = int(price-(price * 0.2))\n",
    "    elif price >= 300000:\n",
    "        result = int(price-(price * 0.1))\n",
    "    elif price >= 100000:\n",
    "        result = int(price-(price * 0.05))\n",
    "        \n",
    "    return result\n",
    "\n",
    "# 성공 풀이\n",
    "def solution(price):\n",
    "    discount = 0 # 초기화 필수\n",
    "    if price >= 500000:\n",
    "        discount = 0.2\n",
    "    elif price >= 300000:\n",
    "        discount = 0.1\n",
    "    elif price >= 100000:\n",
    "        discount = 0.05\n",
    "        \n",
    "    result = int(price - (price * discount))\n",
    "    return result\n",
    "\n",
    "# 다른 풀이\n",
    "def solution(price):\n",
    "    answer = price\n",
    "    if price >= 500000:\n",
    "        answer = price * 0.8\n",
    "    elif price >= 300000:\n",
    "        answer = price * 0.9\n",
    "    elif price >= 100000:\n",
    "        answer = price * 0.95\n",
    "    return int(answer)"
   ]
  },
  {
   "cell_type": "code",
   "execution_count": null,
   "metadata": {},
   "outputs": [],
   "source": [
    "# 짝수는 싫어요\n",
    "\n",
    "# sol1\n",
    "def solution(n):\n",
    "    result = list(map(lambda x: x if x%2==1 else None, range(n+1)))\n",
    "    result = [x for x in result if x is not None]\n",
    "\n",
    "    return result\n",
    "\n",
    "# sol2\n",
    "def solution(n):\n",
    "    result = list(filter(lambda x: x%2==1, range(n+1)))\n",
    "    \n",
    "    return result\n",
    "\n",
    "# 다른 풀이\n",
    "def solution(n):\n",
    "    return [x for x in range(n + 1) if x % 2]"
   ]
  },
  {
   "cell_type": "code",
   "execution_count": 70,
   "metadata": {},
   "outputs": [
    {
     "name": "stdout",
     "output_type": "stream",
     "text": [
      "2\n"
     ]
    }
   ],
   "source": [
    "# 배열의 유사도\n",
    "\n",
    "# sol1\n",
    "def solution(s1, s2):\n",
    "    result = 0\n",
    "\n",
    "    for i in s1:\n",
    "        if i in s2:\n",
    "            result += 1\n",
    "    return result\n",
    "\n",
    "# sol2\n",
    "def solution(s1, s2):\n",
    "    # 리스트 컴프리헨션과 sum() 함수 사용\n",
    "    result = sum(1 for i in s1 if i in s2)\n",
    "    return result"
   ]
  },
  {
   "cell_type": "code",
   "execution_count": 85,
   "metadata": {},
   "outputs": [
    {
     "name": "stdout",
     "output_type": "stream",
     "text": [
      "acbac\n"
     ]
    }
   ],
   "source": [
    "# 코드 처리하기\n",
    "\n",
    "def solution(code):\n",
    "    mode = 0\n",
    "    idx = 0\n",
    "    result =''\n",
    "\n",
    "    for i in code:\n",
    "        if mode==0:\n",
    "            if (i != '1') and (idx%2 == 0):\n",
    "                result += i\n",
    "            elif i=='1':\n",
    "                mode = 1\n",
    "\n",
    "            idx +=1\n",
    "\n",
    "        elif mode==1:\n",
    "            if (i != '1') and (idx%2 == 1):\n",
    "                result += i\n",
    "\n",
    "            elif i=='1':\n",
    "                mode = 0\n",
    "\n",
    "            idx +=1\n",
    "            \n",
    "    if result == '':\n",
    "        result=\"EMPTY\"\n",
    "    \n",
    "    return result\n",
    "\n",
    "# 다른 풀이\n",
    "def solution(code):\n",
    "    answer = ''\n",
    "\n",
    "    mode = 0\n",
    "    for i in range(len(code)):\n",
    "        if code[i] == '1':\n",
    "            mode ^= 1 # 비트 연산자 XOR이용 (다르면 1, 같으면 0)\n",
    "        else:\n",
    "            # i가 인덱스\n",
    "            # 아래 조건이 성립하려면 모드가 0이고 인덱스가 짝수(=2로 나눴을 때 나머지 0 =즉 모드 값이 0) 또는\n",
    "            # 모드가 1이고 인덱스가 홀수(=2로 나눴을 때 나머지 1 =즉 모드 값이 1) \n",
    "            if i % 2 == mode:\n",
    "                answer += code[i]\n",
    "\n",
    "    return answer if answer else 'EMPTY'\n"
   ]
  },
  {
   "cell_type": "code",
   "execution_count": 90,
   "metadata": {},
   "outputs": [
    {
     "name": "stdout",
     "output_type": "stream",
     "text": [
      "7\n"
     ]
    }
   ],
   "source": [
    "# 중앙값 구하기\n",
    "\n",
    "def solution(array):\n",
    "    array.sort()\n",
    "    \n",
    "    return array[int(len(array)/2)]\n",
    "\n",
    "# 다른 풀이\n",
    "def solution(array):\n",
    "    return sorted(array)[len(array) // 2]"
   ]
  },
  {
   "cell_type": "code",
   "execution_count": null,
   "metadata": {},
   "outputs": [],
   "source": [
    "# 제곱수 판별하기\n",
    "\n",
    "import math\n",
    "\n",
    "def solution(n):\n",
    "    num = math.sqrt(n)\n",
    "    # float.is_interger(): float 유형 숫자가 정수인지 판별\n",
    "    result = 1 if num.is_integer() else 2\n",
    "    return result\n",
    "\n",
    "# 다른 풀이\n",
    "def solution(n):\n",
    "    if n**(1/2) == int(n**(1/2)) :\n",
    "        return 1\n",
    "    else :\n",
    "        return 2"
   ]
  },
  {
   "cell_type": "code",
   "execution_count": 114,
   "metadata": {},
   "outputs": [
    {
     "name": "stdout",
     "output_type": "stream",
     "text": [
      "10\n"
     ]
    }
   ],
   "source": [
    "# 숨어있는 숫자의 덧셈(1)\n",
    "\n",
    "def solution(my_string):\n",
    "    result = 0\n",
    "\n",
    "    for i in my_string:\n",
    "        if i.isdigit():\n",
    "            result+=int(i)\n",
    "    return result\n",
    "\n",
    "# 다른 풀이\n",
    "def solution(my_string):\n",
    "    return sum(int(i) for i in my_string if i.isdigit())"
   ]
  },
  {
   "cell_type": "code",
   "execution_count": null,
   "metadata": {},
   "outputs": [],
   "source": [
    "# 숨어있는 숫자의 덧셈(2)\n",
    "\n",
    "def solution(my_string):\n",
    "    result1 = ''\n",
    "    result3 = 0\n",
    "\n",
    "    for i in my_string:\n",
    "            if i.isdigit():\n",
    "                result1 += i\n",
    "            else:\n",
    "                result1 += ' '\n",
    "\n",
    "    # 주의 result1.split(' ')와 result1.split()의 결과가 다름\n",
    "    # 전자는 연속된 공백을 각각 분리, 후자는 연속된 공백을 하나로 처리하여 분리\n",
    "    result2 = result1.split()\n",
    "\n",
    "    for i in result2:\n",
    "        result3 += int(i)\n",
    "    # 또는 result3 = sum(int(i) for i in result2)\n",
    "    # 또는 result3 = sum(map(int, result2))\n",
    "\n",
    "    return result3\n",
    "\n",
    "# 다른 풀이\n",
    "def solution(my_string):\n",
    "    s = ''.join(i if i.isdigit() else ' ' for i in my_string)\n",
    "    return sum(int(i) for i in s.split())"
   ]
  },
  {
   "cell_type": "code",
   "execution_count": 167,
   "metadata": {},
   "outputs": [
    {
     "name": "stdout",
     "output_type": "stream",
     "text": [
      "[6, 9, 12]\n"
     ]
    }
   ],
   "source": [
    "# n의 배수 고르기\n",
    "\n",
    "def solution(n, numlist):\n",
    "    result = [i for i in numlist if i%n==0]\n",
    "    return result\n",
    "\n",
    "# 다른 풀이\n",
    "def solution(n, numlist):\n",
    "    return list(filter(lambda x: x%n==0, numlist))"
   ]
  },
  {
   "cell_type": "code",
   "execution_count": 182,
   "metadata": {},
   "outputs": [
    {
     "name": "stdout",
     "output_type": "stream",
     "text": [
      "applepen\n"
     ]
    }
   ],
   "source": [
    "# 문자열 붙여서 출력하기\n",
    "\n",
    "str1, str2 = input().strip().split(' ')\n",
    "print(str1+str2)"
   ]
  },
  {
   "cell_type": "code",
   "execution_count": 186,
   "metadata": {},
   "outputs": [
    {
     "name": "stdout",
     "output_type": "stream",
     "text": [
      "912\n"
     ]
    }
   ],
   "source": [
    "# 두 수의 연산값 비교하기\n",
    "\n",
    "def solution(a, b):\n",
    "    str1 = str(a)+str(b)\n",
    "\n",
    "    num1 = int(str1)\n",
    "    num2 = 2*a*b\n",
    "\n",
    "    if num1 < num2 or num1 == num2:\n",
    "        result = num2\n",
    "    else:\n",
    "        result = num1\n",
    "\n",
    "    # 조건문 사용 없이 return max(num1, num2)으로 축약 가능    \n",
    "    return result\n",
    "\n",
    "# 다른 풀이\n",
    "def solution(a, b):\n",
    "    return max(int(str(a)+str(b)), 2*a*b)"
   ]
  },
  {
   "cell_type": "code",
   "execution_count": 193,
   "metadata": {},
   "outputs": [
    {
     "name": "stdout",
     "output_type": "stream",
     "text": [
      "220\n"
     ]
    }
   ],
   "source": [
    "# 홀짝에 따라 다른 값 반환하기\n",
    "\n",
    "def solution(n):\n",
    "    if n%2 == 1:\n",
    "        result = sum(i for i in range(n+1) if i%2==1)\n",
    "    else:\n",
    "        result = sum(i**2 for i in range(n+1) if i%2==0)\n",
    "    return result\n",
    "\n",
    "# 다른 풀이\n",
    "def solution(n):\n",
    "    # n%2==1이면(n이 홀수면) if문이 참이므로 조건 성립\n",
    "    if n%2:\n",
    "        return sum(range(1,n+1,2)) # 홀수와 홀수/짝수와 짝수 사이는 2칸 차이\n",
    "    return sum([i*i for i in range(2,n+1,2)])"
   ]
  },
  {
   "cell_type": "code",
   "execution_count": 195,
   "metadata": {},
   "outputs": [
    {
     "name": "stdout",
     "output_type": "stream",
     "text": [
      "-1\n"
     ]
    }
   ],
   "source": [
    "# 첫 번째로 나오는 음수\n",
    "\n",
    "def solution(num_list):\n",
    "    result = -1\n",
    "\n",
    "    for idx, x in enumerate(num_list):\n",
    "        if x < 0:\n",
    "            result = idx\n",
    "            break\n",
    "            \n",
    "    return result\n",
    "\n",
    "# 다른 풀이\n",
    "def solution(num_list):\n",
    "    for i in range(len(num_list)):\n",
    "        if num_list[i]<0:\n",
    "            return i\n",
    "    return -1"
   ]
  },
  {
   "cell_type": "code",
   "execution_count": 197,
   "metadata": {},
   "outputs": [
    {
     "name": "stdout",
     "output_type": "stream",
     "text": [
      "0\n"
     ]
    }
   ],
   "source": [
    "# 부분 문자열\n",
    "\n",
    "def solution(str1, str2):\n",
    "    return 1 if str1 in str2 else 0\n",
    "\n",
    "# 다른 풀이\n",
    "def solution(str1, str2):\n",
    "    # str1 in str2 => True, False => int(True)=1, int(False)=0\n",
    "    return int(str1 in str2)"
   ]
  },
  {
   "cell_type": "code",
   "execution_count": 203,
   "metadata": {},
   "outputs": [
    {
     "name": "stdout",
     "output_type": "stream",
     "text": [
      "[2, 2, 6, 50, 99, 49]\n"
     ]
    }
   ],
   "source": [
    "# 조건에 맞게 수열 변환하기 1\n",
    "\n",
    "def solution(arr):\n",
    "    result = []\n",
    "\n",
    "    for i in arr:\n",
    "        if i >= 50 and i % 2 == 0:\n",
    "            result.append(i // 2)\n",
    "        elif i < 50 and i % 2 == 1:\n",
    "            result.append(i * 2)\n",
    "        else:\n",
    "            result.append(i)\n",
    "            \n",
    "    return result"
   ]
  },
  {
   "cell_type": "code",
   "execution_count": null,
   "metadata": {},
   "outputs": [],
   "source": [
    "# 배열에서 문자열 대소문자 변환하기\n",
    "\n",
    "# sol1\n",
    "def solution(strArr):\n",
    "    result = []\n",
    "    \n",
    "    for i in range(len(strArr)):\n",
    "        if i % 2 == 0:\n",
    "            result.append(strArr[i].lower())\n",
    "        else:\n",
    "            result.append(strArr[i].upper())\n",
    "        \n",
    "    return result\n",
    "\n",
    "# sol2\n",
    "def solution(strArr):\n",
    "    result = [x.lower() if idx%2==0 else x.upper() for idx, x in enumerate(strArr)]\n",
    "    return result"
   ]
  },
  {
   "cell_type": "code",
   "execution_count": 208,
   "metadata": {},
   "outputs": [
    {
     "name": "stdout",
     "output_type": "stream",
     "text": [
      "[3, 6, 9, 300, 297, 294]\n"
     ]
    }
   ],
   "source": [
    "# 조건에 맞게 수열 변환하기 3\n",
    "\n",
    "def solution(arr, k):\n",
    "    result = [i*k if k%2==1 else i+k for i in arr]\n",
    "    return result"
   ]
  },
  {
   "cell_type": "code",
   "execution_count": 227,
   "metadata": {},
   "outputs": [
    {
     "name": "stdout",
     "output_type": "stream",
     "text": [
      "5\n"
     ]
    }
   ],
   "source": [
    "# 조건에 맞게 수열 변환하기 2\n",
    "\n",
    "def solution(arr):\n",
    "    arr2 = []\n",
    "    arr3 = arr[:]\n",
    "    result = 0\n",
    "\n",
    "    while True:\n",
    "        arr2 = []\n",
    "\n",
    "        for i in arr3:\n",
    "            if i>=50 and i%2==0:\n",
    "                arr2.append(i//2)\n",
    "            elif i<50 and i%2==1:\n",
    "                arr2.append(i*2+1)\n",
    "            else:\n",
    "                arr2.append(i)\n",
    "\n",
    "        if arr3 == arr2:\n",
    "            break\n",
    "        else:\n",
    "            result += 1\n",
    "            arr3 = arr2[:]\n",
    "    return result\n",
    "\n",
    "# 참고\n",
    "# arr2 = [i//2 if i>=50 and i%2==0 i*2+1 elif i<50 and i%2==1 else i for i in arr] 이건 안됨\n",
    "# arr2 = [i//2 if i>=50 and i%2==0 else(i*2+1 if i<50 and i%2==1 else i) for i in arr] 이건 됨\n",
    "\n",
    "# 복사에 관하여 참고\n",
    "# arr3 = arr[:] 또는 arr3 = arr2[:]와 같이 사용한 부분은 리스트의 얕은 복사(shallow copy)를 의미\n",
    "# 이렇게 하면 arr 또는 arr2의 모든 아이템들이 새로운 리스트 arr3에 복사되는데, 이는 원본 리스트와 복사된 리스트가 서로 독립적이라는 것을 보장\n",
    "# 반면에 arr3 = arr 또는 arr3 = arr2와 같이 사용하면, arr3는 arr 또는 arr2와 같은 리스트를 가리킴\n",
    "# 이 경우, arr3를 변경하면 원본 리스트인 arr 또는 arr2도 함께 변경되는 문제가 발생할 수 있음\n",
    "# 따라서, 리스트를 복사할 때는 얕은 복사를 사용하여 원본 리스트에 영향을 주지 않는 것이 안전\n",
    "# 이 문제의 경우에는 리스트 arr3와 arr2가 독립적으로 동작해야 하므로, arr3 = arr[:] 또는 arr3 = arr2[:] 형태로 사용하는 것이 맞음"
   ]
  }
 ],
 "metadata": {
  "kernelspec": {
   "display_name": "py3.8",
   "language": "python",
   "name": "python3"
  },
  "language_info": {
   "codemirror_mode": {
    "name": "ipython",
    "version": 3
   },
   "file_extension": ".py",
   "mimetype": "text/x-python",
   "name": "python",
   "nbconvert_exporter": "python",
   "pygments_lexer": "ipython3",
   "version": "3.11.5"
  },
  "orig_nbformat": 4
 },
 "nbformat": 4,
 "nbformat_minor": 2
}
