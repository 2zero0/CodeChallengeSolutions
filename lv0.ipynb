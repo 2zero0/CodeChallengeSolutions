{
 "cells": [
  {
   "cell_type": "code",
   "execution_count": 1,
   "metadata": {},
   "outputs": [
    {
     "name": "stdout",
     "output_type": "stream",
     "text": [
      "안녕\n"
     ]
    }
   ],
   "source": [
    "# 짝수의 합\n",
    "\n",
    "def solution(n):\n",
    "    #l=[i for i in range(n+1)]\n",
    "    l2=list(filter(lambda x:x%2==0,list(range(n+1))))\n",
    "    answer=sum(l2)\n",
    "    return answer\n"
   ]
  },
  {
   "cell_type": "code",
   "execution_count": 2,
   "metadata": {},
   "outputs": [
    {
     "data": {
      "text/plain": [
       "124000"
      ]
     },
     "execution_count": 2,
     "metadata": {},
     "output_type": "execute_result"
    }
   ],
   "source": [
    "# 양꼬치\n",
    "\n",
    "def solution(n, k):\n",
    "    service=n//10\n",
    "    answer=(12000*n)+(2000*(k-service))\n",
    "    return answer\n",
    "\n",
    "# return 12000 * n + 2000 * (k - n // 10) (바로 연산하는 방법도 가능, 우선순위에 의해서 계산 순서가 있으니까)\n"
   ]
  },
  {
   "cell_type": "code",
   "execution_count": 7,
   "metadata": {},
   "outputs": [
    {
     "data": {
      "text/plain": [
       "1"
      ]
     },
     "execution_count": 7,
     "metadata": {},
     "output_type": "execute_result"
    }
   ],
   "source": [
    "# n의 배수\n",
    "\n",
    "def solution(num, n):\n",
    "    answer=1 if num%n==0 else 0\n",
    "    return answer"
   ]
  },
  {
   "cell_type": "code",
   "execution_count": 11,
   "metadata": {},
   "outputs": [
    {
     "data": {
      "text/plain": [
       "3"
      ]
     },
     "execution_count": 11,
     "metadata": {},
     "output_type": "execute_result"
    }
   ],
   "source": [
    "# flag에 따라 다른 값 반환하기\n",
    "\n",
    "def solution(a, b, flag):\n",
    "    if flag: # flag가 True라면 flag라는 변수 자체가 참이 되므로 조건이 참이된다\n",
    "        answer=a+b\n",
    "    else:\n",
    "        answer=a-b\n",
    "    return answer\n",
    "# answer=a+b if flag else a-b 도 가능"
   ]
  },
  {
   "cell_type": "code",
   "execution_count": null,
   "metadata": {},
   "outputs": [],
   "source": [
    "# 문자열의 뒤의 n글자\n",
    "\n",
    "def solution(my_string, n):\n",
    "    return my_string[(len(my_string))-n:]\n",
    "\n",
    "# return my_string[-n:] 이렇게도 가능"
   ]
  },
  {
   "cell_type": "code",
   "execution_count": null,
   "metadata": {},
   "outputs": [],
   "source": [
    "# 길이에 따른 연산\n",
    "\n",
    "def solution(num_list):\n",
    "    answer=1\n",
    "    if len(num_list)>10:\n",
    "        answer=sum(num_list)\n",
    "    else:\n",
    "        for i in num_list:\n",
    "            answer*=i\n",
    "    return answer\n",
    "\n",
    "\n",
    "# 다른 풀이\n",
    "from math import prod\n",
    "def solution(num_list):\n",
    "    return sum(num_list) if len(num_list)>=11 else prod(num_list)\n",
    "# prod: 주어진 iterable에 대해서 모든 elements에 대해서 곱셈을 계산해서 반환한다."
   ]
  },
  {
   "cell_type": "code",
   "execution_count": null,
   "metadata": {},
   "outputs": [],
   "source": [
    "# n보다 커질 때까지 더하기\n",
    "\n",
    "def solution(numbers, n):\n",
    "    sum=0\n",
    "    for i in numbers:\n",
    "        sum+=i\n",
    "        if sum<=n:\n",
    "            continue\n",
    "        else:\n",
    "            return sum\n",
    "    return sum\n",
    "\n",
    "# 다른 풀이\n",
    "def solution(numbers, n):\n",
    "    answer = 0\n",
    "\n",
    "    for i in numbers:\n",
    "        answer += i\n",
    "\n",
    "        if answer > n:\n",
    "            return answer\n",
    "\n",
    "    return answer"
   ]
  },
  {
   "cell_type": "code",
   "execution_count": 20,
   "metadata": {},
   "outputs": [
    {
     "data": {
      "text/plain": [
       "139"
      ]
     },
     "execution_count": 20,
     "metadata": {},
     "output_type": "execute_result"
    }
   ],
   "source": [
    "# 배열 원소의 길이\n",
    "\n",
    "def solution(strlist):\n",
    "    answer = []\n",
    "    for i in strlist:\n",
    "        answer.append(len(i))\n",
    "    return answer\n",
    "\n",
    "# 다른 풀이\n",
    "def solution(strlist):\n",
    "    return [len(str) for str in strlist]"
   ]
  },
  {
   "cell_type": "code",
   "execution_count": null,
   "metadata": {},
   "outputs": [],
   "source": [
    "# 배열 두배 만들기\n",
    "\n",
    "def solution(numbers):\n",
    "    return list(map(lambda x: x*2, numbers))\n",
    "\n",
    "# 다른 풀이\n",
    "def solution(numbers):\n",
    "    return [num*2 for num in numbers]"
   ]
  },
  {
   "cell_type": "code",
   "execution_count": null,
   "metadata": {},
   "outputs": [],
   "source": [
    "# 글자 이어 붙여 문자열 만들기\n",
    "\n",
    "def solution(my_string, index_list):\n",
    "    answer = ''\n",
    "    for i in index_list:\n",
    "        answer+=my_string[i]\n",
    "    return answer"
   ]
  },
  {
   "cell_type": "code",
   "execution_count": null,
   "metadata": {},
   "outputs": [],
   "source": [
    "# 순서쌍의 개수\n",
    "\n",
    "def solution(n):\n",
    "    count=0\n",
    "    for i in range(1, n+1):\n",
    "        if n%i==0:\n",
    "            count+=1\n",
    "    return count"
   ]
  },
  {
   "cell_type": "code",
   "execution_count": null,
   "metadata": {},
   "outputs": [],
   "source": [
    "# 삼각형의 완성조건 (1)\n",
    "\n",
    "def solution(sides):\n",
    "    m=max(sides)\n",
    "    sides.remove(m)\n",
    "    return 1 if sum(sides)>m else 2\n",
    "    \n",
    "# 다른 풀이\n",
    "def solution(sides):\n",
    "    return 1 if max(sides) < (sum(sides) - max(sides)) else 2"
   ]
  }
 ],
 "metadata": {
  "kernelspec": {
   "display_name": "py3.8",
   "language": "python",
   "name": "python3"
  },
  "language_info": {
   "codemirror_mode": {
    "name": "ipython",
    "version": 3
   },
   "file_extension": ".py",
   "mimetype": "text/x-python",
   "name": "python",
   "nbconvert_exporter": "python",
   "pygments_lexer": "ipython3",
   "version": "3.8.16"
  },
  "orig_nbformat": 4
 },
 "nbformat": 4,
 "nbformat_minor": 2
}
