{
 "cells": [
  {
   "cell_type": "code",
   "execution_count": null,
   "metadata": {},
   "outputs": [],
   "source": [
    "# 최댓값과 최솟값\n",
    "\n",
    "def solution(s):\n",
    "    answer = ''\n",
    "    s1=s.split(' ') # 일단 공백기준으로 분리 -> ['1', '2', '3', '4'] / ['-1', '-2', '-3', '-4']\n",
    "    l=[int(i) for i in s1] # [1, 2, 3, 4] / [-1, -2, -3, -4]\n",
    "    min_num=min(l)\n",
    "    max_num=max(l)\n",
    "    \n",
    "    answer=str(min_num)+' '+str(max_num)\n",
    "    return answer\n",
    "\n",
    "# 다른 풀이1\n",
    "def solution(s):\n",
    "    s = list(map(int,s.split()))\n",
    "    return str(min(s)) + \" \" + str(max(s))\n",
    "\n",
    "# 다른 풀이2\n",
    "def solution(s):\n",
    "    s_list=s.split(\" \")\n",
    "    n = [int(i) for i in s_list]\n",
    "    n.sort()\n",
    "\n",
    "    return str(n[0]) + \" \" + str(n[len(n)-1])"
   ]
  },
  {
   "cell_type": "code",
   "execution_count": null,
   "metadata": {},
   "outputs": [],
   "source": [
    "# JadenCase 문자열 만들기\n",
    "\n",
    "def solution(s):\n",
    "    answer = ''\n",
    "    l=s.split(' ')\n",
    "    for i in l:\n",
    "        l2=i.lower()\n",
    "        l3=l2.replace(l2[0], l2[0].upper())\n",
    "        answer+=l3+' '\n",
    "    answer=answer.rstrip()\n",
    "    return answer\n",
    "# 코드 실행했을 때는 에러x\n",
    "# but 채점 -> 런타임 오류\n",
    "\"\"\"\n",
    "# capitalize() : 문장의 첫 단어의 첫 글자만 대문자로 바꾸는 경우에 사용.\n",
    "# title() : 문장의 모든 단어의 첫 글자를 대문자로 바꾸는 경우에 사용.\n",
    "# 주의사항) title()은 문자열에서 알파벳 외의 문자(숫자, 특수기호, 띄어쓰기 등)들을 기준으로 첫 글자를 대문자로 바꾼다.\n",
    "\n",
    "s = \"hello world, welcom to python\"\n",
    "print(s.capitalize())   #result : 'Hello world, welcom to python'\n",
    "print(s.title())        #result : 'Hello World, Welcom To Python'\n",
    "\"\"\"\n",
    "\n",
    "# 또한 replace는 원본을 변경하지 않으며 바뀐 결과를 반환\n",
    "\n",
    "# chatGPT가 알려준 답\n",
    "def solution(s):\n",
    "    answer = ''\n",
    "    for word in s.split(' '):\n",
    "        answer += word.capitalize() + ' '\n",
    "    return answer[:-1]"
   ]
  }
 ],
 "metadata": {
  "kernelspec": {
   "display_name": "py3.8",
   "language": "python",
   "name": "python3"
  },
  "language_info": {
   "codemirror_mode": {
    "name": "ipython",
    "version": 3
   },
   "file_extension": ".py",
   "mimetype": "text/x-python",
   "name": "python",
   "nbconvert_exporter": "python",
   "pygments_lexer": "ipython3",
   "version": "3.8.16"
  },
  "orig_nbformat": 4
 },
 "nbformat": 4,
 "nbformat_minor": 2
}
