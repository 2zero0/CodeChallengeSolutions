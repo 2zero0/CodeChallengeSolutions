{
 "cells": [
  {
   "cell_type": "code",
   "execution_count": null,
   "metadata": {},
   "outputs": [],
   "source": [
    "# 최댓값과 최솟값\n",
    "\n",
    "def solution(s):\n",
    "    answer = ''\n",
    "    s1=s.split(' ') # 일단 공백기준으로 분리 -> ['1', '2', '3', '4'] / ['-1', '-2', '-3', '-4']\n",
    "    l=[int(i) for i in s1] # [1, 2, 3, 4] / [-1, -2, -3, -4]\n",
    "    min_num=min(l)\n",
    "    max_num=max(l)\n",
    "    \n",
    "    answer=str(min_num)+' '+str(max_num)\n",
    "    return answer\n",
    "\n",
    "# 다른 풀이1\n",
    "def solution(s):\n",
    "    s = list(map(int,s.split()))\n",
    "    return str(min(s)) + \" \" + str(max(s))\n",
    "\n",
    "# 다른 풀이2\n",
    "def solution(s):\n",
    "    s_list=s.split(\" \")\n",
    "    n = [int(i) for i in s_list]\n",
    "    n.sort()\n",
    "\n",
    "    return str(n[0]) + \" \" + str(n[len(n)-1])"
   ]
  },
  {
   "cell_type": "code",
   "execution_count": null,
   "metadata": {},
   "outputs": [],
   "source": [
    "# JadenCase 문자열 만들기\n",
    "\n",
    "def solution(s):\n",
    "    answer = ''\n",
    "    l=s.split(' ')\n",
    "    for i in l:\n",
    "        l2=i.lower()\n",
    "        l3=l2.replace(l2[0], l2[0].upper())\n",
    "        answer+=l3+' '\n",
    "    answer=answer.rstrip()\n",
    "    return answer\n",
    "# 코드 실행했을 때는 에러x\n",
    "# but 채점 -> 런타임 오류\n",
    "\"\"\"\n",
    "# capitalize() : 문장의 첫 단어의 첫 글자만 대문자로 바꾸는 경우에 사용.\n",
    "# title() : 문장의 모든 단어의 첫 글자를 대문자로 바꾸는 경우에 사용.\n",
    "# 주의사항) title()은 문자열에서 알파벳 외의 문자(숫자, 특수기호, 띄어쓰기 등)들을 기준으로 첫 글자를 대문자로 바꾼다.\n",
    "\n",
    "s = \"hello world, welcom to python\"\n",
    "print(s.capitalize())   #result : 'Hello world, welcom to python'\n",
    "print(s.title())        #result : 'Hello World, Welcom To Python'\n",
    "\"\"\"\n",
    "\n",
    "# 또한 replace는 원본을 변경하지 않으며 바뀐 결과를 반환\n",
    "\n",
    "# chatGPT가 알려준 답\n",
    "def solution(s):\n",
    "    answer = ''\n",
    "    for word in s.split(' '):\n",
    "        answer += word.capitalize() + ' '\n",
    "    return answer[:-1]"
   ]
  },
  {
   "cell_type": "code",
   "execution_count": 20,
   "metadata": {},
   "outputs": [
    {
     "name": "stdout",
     "output_type": "stream",
     "text": [
      "['3people', '', 'unFollowed', 'me']\n",
      "3people  Unfollowed Me \n"
     ]
    }
   ],
   "source": [
    "# JadenCase 문자열 만들기 복습겸 재풀이 (0318)\n",
    "\n",
    "# 모든 단어의 첫 문자가 대문자\n",
    "s = \"3people  unFollowed me\"\n",
    "s_split = s.split(' ')\n",
    "print(s_split)\n",
    "\n",
    "result = ''\n",
    "for i in s_split:\n",
    "    if i:\n",
    "        first = i[0].upper()\n",
    "        back = i[1:].lower()\n",
    "        result += (first + back + ' ')\n",
    "    else:\n",
    "        result += ' '\n",
    "\n",
    "print(result)\n"
   ]
  },
  {
   "cell_type": "code",
   "execution_count": null,
   "metadata": {},
   "outputs": [],
   "source": [
    "# 최솟값 만들기\n",
    "\n",
    "def solution(A,B):\n",
    "    A.sort()\n",
    "    B.sort(reverse=True)\n",
    "    l=list(map(lambda x:x[0]*x[1], zip(A, B)))\n",
    "    return sum(l)\n",
    "\n",
    "# 다른 풀이\n",
    "def getMinSum(A,B):\n",
    "    return sum(map(lambda a,b : a*b, sorted(A), sorted(B, reverse=True)))\n",
    "# list로 만들고 sum할 필요 없이 sum(map)도 가능\n",
    "# 람다 함수에서 언패킹으로 변수 두개 정의하여 곱 연산 가능"
   ]
  },
  {
   "cell_type": "code",
   "execution_count": 31,
   "metadata": {},
   "outputs": [],
   "source": [
    "# 올바른 괄호\n",
    "\n",
    "def solution(s):\n",
    "    l=[]\n",
    "    \n",
    "    if s[0]==')':\n",
    "        return False\n",
    "    \n",
    "    for i in s:\n",
    "        if i=='(':\n",
    "            l.append(i)\n",
    "        else:\n",
    "            if len(l)==0:\n",
    "                return False\n",
    "            l.pop()\n",
    "            \n",
    "    return False if len(l)!=0 else True\n",
    "\n",
    "# 다른 풀이\n",
    "def is_pair(s):\n",
    "    st = list()\n",
    "    for c in s:\n",
    "        if c == '(':\n",
    "            st.append(c)\n",
    "\n",
    "        if c == ')':\n",
    "            try:\n",
    "                st.pop()\n",
    "            except IndexError:\n",
    "                return False\n",
    "\n",
    "    return len(st) == 0\n",
    "# try-except 구문으로 리스트의 인덱스에러가 나면(꺼낼 값이 없을 때) False 리턴\n",
    "# 마지막 return문에 '=='연산자로 True/False 대입 가능"
   ]
  },
  {
   "cell_type": "code",
   "execution_count": 43,
   "metadata": {},
   "outputs": [
    {
     "data": {
      "text/plain": [
       "'110'"
      ]
     },
     "execution_count": 43,
     "metadata": {},
     "output_type": "execute_result"
    }
   ],
   "source": [
    "# 이진 변환 반복하기\n",
    "\n",
    "def solution(s):\n",
    "    count=0  \n",
    "    zero_count=0\n",
    "    \n",
    "    while s!='1':\n",
    "        count+=1\n",
    "        zero_count+=s.count('0')\n",
    "        s=s.replace('0', '')\n",
    "        s=bin(len(s))[2:]\n",
    "        \n",
    "    answer=[count, zero_count]\n",
    "    \n",
    "    return answer"
   ]
  },
  {
   "cell_type": "code",
   "execution_count": null,
   "metadata": {},
   "outputs": [],
   "source": [
    "# 영어 끝말잇기\n",
    "# 개지랄함\n",
    "\n",
    "def solution(n, words):\n",
    "    answer = []\n",
    "    tallack_idx=0\n",
    "\n",
    "    for i in range(1, len(words)):\n",
    "        if words[i][0] != words[i-1][-1]:\n",
    "            tallack_word=words[i]\n",
    "            tallack_idx=words.index(tallack_word)\n",
    "            answer=[tallack_idx % n + 1, tallack_idx // n + 1]\n",
    "            break\n",
    "        elif words.count(words[i-1])>1:\n",
    "            tallack_word=words[i-1]\n",
    "            idx=words.index(tallack_word)\n",
    "            words[idx]='@@'\n",
    "            tallack_idx=words.index(tallack_word)\n",
    "            answer=[tallack_idx % n + 1, tallack_idx // n + 1]\n",
    "            break\n",
    "    if len(answer)==0:\n",
    "        answer=[0,0]\n",
    "    return answer\n",
    "\n",
    "# 수정\n",
    "def solution(n, words):\n",
    "    answer = []\n",
    "    used_words = set()  # 중복된 단어를 확인하기 위한 집합\n",
    "    tallack_idx = 0\n",
    "\n",
    "    for i in range(1, len(words)):\n",
    "        if words[i][0] != words[i-1][-1] or words[i] in used_words:\n",
    "            tallack_word = words[i]\n",
    "            tallack_idx = i\n",
    "            answer = [tallack_idx % n + 1, tallack_idx // n + 1]\n",
    "            break\n",
    "        used_words.add(words[i-1])\n",
    "\n",
    "    if len(answer) == 0:\n",
    "        answer = [0, 0]\n",
    "\n",
    "    return answer\n",
    "# set을 사용한 이유: 리스트 대신 집합(set)을 사용하는 것이 더 효율적입니다. 집합은 중복된 요소를 허용하지 않으며, 요소의 존재 여부를 상수 시간(O(1))에 확인할 수 있습니다. 반면에 리스트는 요소를 순차적으로 검색해야 하므로, 중복 확인에 더 많은 시간이 소요됩니다.따라서 성능과 효율성을 고려하여 used_words를 집합(set)으로 유지하는 것이 좋습니다.\n",
    "\n",
    "# 다른 풀이\n",
    "def solution(n, words):\n",
    "    answer = [0,0]\n",
    "\n",
    "    cnt = 0  # 탈락번호,차례 계산할 변수\n",
    "    checks = []  # 나온 단어 확인할 리스트\n",
    "    checks.append(words[0])\n",
    "    for i in range(1, len(words)):  # 단어 순회하면서\n",
    "        cnt += 1\n",
    "        # 아직 안나온 단어이면서 & 앞 단어의 마지막 알파벳과 일치하면 checks 리스트에 넣음 (pass)\n",
    "        if words[i] not in checks and list(words[i-1])[-1] == list(words[i])[0]:\n",
    "            checks.append(words[i])\n",
    "        else:  # (fail)\n",
    "            answer[0] = cnt%n +1  # 탈락번호\n",
    "            answer[1] = cnt//n +1  # 탈락차례\n",
    "            break\n",
    "\n",
    "    return answer"
   ]
  },
  {
   "cell_type": "code",
   "execution_count": 42,
   "metadata": {},
   "outputs": [
    {
     "name": "stdout",
     "output_type": "stream",
     "text": [
      "0\n"
     ]
    }
   ],
   "source": [
    "# 짝지어 제거하기\n",
    "\n",
    "def solution(s):\n",
    "    stack = []\n",
    "\n",
    "    for i in s:\n",
    "        if len(stack) == 0:\n",
    "            stack.append(i)\n",
    "        elif i != stack[-1]:\n",
    "            stack.append(i)\n",
    "        elif i == stack[-1]:\n",
    "            stack.pop()\n",
    "\n",
    "    return 1 if len(stack) == 0 else 0"
   ]
  },
  {
   "cell_type": "code",
   "execution_count": 69,
   "metadata": {},
   "outputs": [
    {
     "name": "stdout",
     "output_type": "stream",
     "text": [
      "[3, 3]\n"
     ]
    }
   ],
   "source": [
    "# 카펫\n",
    "# brown + yellow = 직사각형 넓이 (가로*세로)\n",
    "# (가로-1) * (세로-1) = yellow\n",
    "\n",
    "brown = 8\n",
    "yellow = 1\n",
    "\n",
    "size = brown + yellow\n",
    "\n",
    "divisor1 = []\n",
    "\n",
    "result = []\n",
    "\n",
    "for i in range(1, size+1):\n",
    "    if size % i == 0:\n",
    "        divisor1.append(i)\n",
    "\n",
    "divisor2 = list(reversed(divisor1))\n",
    "\n",
    "z1 = list(zip(divisor1, divisor2))\n",
    "\n",
    "z2 = [(i, j) for i, j in z1 if i >= j]\n",
    "\n",
    "for i, j in z2:\n",
    "    if (i- 2) * (j - 2) == yellow:\n",
    "        result.append(i)\n",
    "        result.append(j)\n",
    "\n",
    "print(result)"
   ]
  },
  {
   "cell_type": "code",
   "execution_count": 8,
   "metadata": {},
   "outputs": [
    {
     "name": "stdout",
     "output_type": "stream",
     "text": [
      "83\n"
     ]
    }
   ],
   "source": [
    "# 다음 큰 숫자\n",
    "\n",
    "def solution(n):\n",
    "    count_1 = str(bin(n)).count('1')\n",
    "    for i in range(n+1, 1000000):\n",
    "        if str(bin(i)).count('1') == count_1:\n",
    "            answer = i\n",
    "            break\n",
    "    return answer"
   ]
  },
  {
   "cell_type": "code",
   "execution_count": 18,
   "metadata": {},
   "outputs": [
    {
     "name": "stdout",
     "output_type": "stream",
     "text": [
      "[(70, 50), (70, 80), (70, 50), (50, 80), (50, 50), (80, 50)]\n",
      "3\n"
     ]
    }
   ],
   "source": [
    "# 구명보트\n",
    "\n",
    "# 코드 실행 -> 성공 but 정확성, 효율성 테스트 시간 초과 -> 실패\n",
    "from itertools import combinations\n",
    "\n",
    "def solution(people, limit):\n",
    "    cnt = 0\n",
    "    passed = []\n",
    "\n",
    "    group = list(combinations(people, 2))\n",
    "\n",
    "    for i, j in group:\n",
    "        if i + j <= limit:\n",
    "            cnt += 1\n",
    "            passed.append(i)\n",
    "            passed.append(j)\n",
    "\n",
    "    for j in passed:\n",
    "        if j in people:\n",
    "            people.remove(j)\n",
    "\n",
    "    cnt += len(people)\n",
    "    return cnt\n",
    "\n",
    "# 암기하기 (그리디 알고리즘, 투 포인터 기법)\n",
    "def solution(people, limit):\n",
    "    people.sort()\n",
    "    answer = 0\n",
    "    left = 0\n",
    "    right = len(people) - 1\n",
    "\n",
    "    while left <= right:\n",
    "        if people[left] + people[right] <= limit:\n",
    "            left += 1\n",
    "        right -= 1\n",
    "        answer += 1\n",
    "\n",
    "    return answer"
   ]
  }
 ],
 "metadata": {
  "kernelspec": {
   "display_name": "py3.8",
   "language": "python",
   "name": "python3"
  },
  "language_info": {
   "codemirror_mode": {
    "name": "ipython",
    "version": 3
   },
   "file_extension": ".py",
   "mimetype": "text/x-python",
   "name": "python",
   "nbconvert_exporter": "python",
   "pygments_lexer": "ipython3",
   "version": "3.11.5"
  },
  "orig_nbformat": 4
 },
 "nbformat": 4,
 "nbformat_minor": 2
}
