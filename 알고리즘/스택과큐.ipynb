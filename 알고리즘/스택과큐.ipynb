{
 "cells": [
  {
   "cell_type": "code",
   "execution_count": 12,
   "metadata": {},
   "outputs": [
    {
     "name": "stdout",
     "output_type": "stream",
     "text": [
      "[1, 3, 0, 1]\n"
     ]
    }
   ],
   "source": [
    "# 같은 숫자는 싫어\n",
    "\n",
    "def solution(arr):\n",
    "    storage = []\n",
    "    for i in arr:\n",
    "        if len(storage) == 0 or storage[-1] != i:\n",
    "            storage.append(i)\n",
    "    return storage"
   ]
  },
  {
   "cell_type": "code",
   "execution_count": 21,
   "metadata": {},
   "outputs": [
    {
     "name": "stdout",
     "output_type": "stream",
     "text": [
      "[1, 3, 2]\n"
     ]
    }
   ],
   "source": [
    "# 기능개발\n",
    "\n",
    "# 작업의 진도가 적힌 정수 배열 progresses, 각 작업의 개발 속도가 적힌 정수 배열 speeds\n",
    "# 각 배포마다 몇 개의 기능이 배포되는지를 return\n",
    "\n",
    "# progresses = [93, 30, 55], speeds = [1, 30, 5] 라고 한다면\n",
    "# 첫번째 기능: (100 - 93) / 1 -> 7일 작업 후 배포 가능\n",
    "# 두번째 기능: (100 - 30) / 30 -> 3일 작업 후 배포 가능\n",
    "# => 그러면 첫번째 작업이 끝나는 시기에 두번째 작업과 같이 배포 가능\n",
    "# 세번째 기능: (100 - 55) / 5 -> 9일 작업 후 배포 가능\n",
    "\n",
    "# 첫번째 기능 작업을 마쳤을 때 두번째 기능 작업이 끝났는지 확인\n",
    "# 즉 첫번째 기능 작업이 걸린 시간 * 두번째 작업 속도 계산 했을 때 100%보다 같거나 크면 같이 배포 가능 \n",
    "\n",
    "# 처음 풀이 방법) 코드 실행 성공, 정확성 테스트 실패(2번만)\n",
    "def solution(progresses, speeds):\n",
    "    limit = 100\n",
    "\n",
    "    answer = []\n",
    "\n",
    "    # 첫번째 기능 배포까지 걸리는 작업 시간\n",
    "    standard_time = (limit - progresses[0]) / speeds[0]\n",
    "\n",
    "    count = 1 # 첫번째 기능 배포했다고 치고\n",
    "\n",
    "    for i in range(1, len(progresses)):\n",
    "        if progresses[i] + (speeds[i] * standard_time) >= 100:\n",
    "            count += 1\n",
    "\n",
    "        else:\n",
    "            answer.append(count)\n",
    "\n",
    "            # 초기화\n",
    "            count = 1\n",
    "            standard_time = (limit - progresses[i]) / speeds[i] # 작업 시간 기준 재설정\n",
    "\n",
    "    # 마지막 작업 처리\n",
    "    answer.append(count)\n",
    "    return answer\n",
    "\n",
    "# 고려하지 않은 부분\n",
    "# standard_time을 계산할 때 소수점 이하의 값이 무시됨\n",
    "\n",
    "# 해결 방법\n",
    "# ceil() 함수로 실수를 올림 처리하여 정수로 만들기\n",
    "\n",
    "# math 모듈\n",
    "# math.ceil( ): 실수 올림 -> 정수 반환\n",
    "# math.floor( ): 실수 내림 -> 정수 반환\n",
    "\n",
    "# 통과 코드\n",
    "from math import ceil\n",
    "def solution(progresses, speeds):\n",
    "    limit = 100\n",
    "\n",
    "    answer = []\n",
    "\n",
    "    standard_time = ceil((limit - progresses[0]) / speeds[0])\n",
    "\n",
    "    count = 1\n",
    "\n",
    "    for i in range(1, len(progresses)):\n",
    "        if progresses[i] + (speeds[i] * standard_time) >= 100:\n",
    "            count += 1\n",
    "\n",
    "        else:\n",
    "            answer.append(count)\n",
    "\n",
    "            # 초기화\n",
    "            count = 1 \n",
    "            standard_time = ceil((limit - progresses[i]) / speeds[i])\n",
    "\n",
    "    answer.append(count)\n",
    "    return answer"
   ]
  }
 ],
 "metadata": {
  "kernelspec": {
   "display_name": "py3.8",
   "language": "python",
   "name": "python3"
  },
  "language_info": {
   "codemirror_mode": {
    "name": "ipython",
    "version": 3
   },
   "file_extension": ".py",
   "mimetype": "text/x-python",
   "name": "python",
   "nbconvert_exporter": "python",
   "pygments_lexer": "ipython3",
   "version": "3.8.16"
  },
  "orig_nbformat": 4
 },
 "nbformat": 4,
 "nbformat_minor": 2
}
